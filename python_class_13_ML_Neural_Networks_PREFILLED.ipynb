{
 "cells": [
  {
   "cell_type": "markdown",
   "metadata": {},
   "source": [
    "# <div style=\"text-align: center\"> Introduction to Python and Machine Learning\n",
    "\n",
    "## <div style=\"text-align: center\">Machine Learning in Python (VI) - Neural Networks"
   ]
  },
  {
   "cell_type": "markdown",
   "metadata": {},
   "source": [
    "![logo](data:image/jpeg;base64,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)\n",
    "![logo2](https://efs.mrpips.gov.pl/__data/assets/image/0014/11336/04_zestawienie_power_rp_ue_efs.png)"
   ]
  },
  {
   "cell_type": "markdown",
   "metadata": {},
   "source": [
    "---"
   ]
  },
  {
   "cell_type": "code",
   "execution_count": 1,
   "metadata": {},
   "outputs": [],
   "source": [
    "import numpy as np\n",
    "import pandas as pd\n",
    "import matplotlib.pyplot as plt\n",
    "\n",
    "from sklearn.model_selection import train_test_split"
   ]
  },
  {
   "cell_type": "code",
   "execution_count": 2,
   "metadata": {},
   "outputs": [],
   "source": [
    "%matplotlib inline"
   ]
  },
  {
   "cell_type": "markdown",
   "metadata": {},
   "source": [
    "\n",
    "# Image analysis\n",
    "\n",
    "Neural networks are very often used for image or sound analysis. Normal sequential networks with connections all-to-all are used for:\n",
    "- convolutional neural networks, **CNN**, which are used for image analysis\n",
    "- recurrent neural networks, **RNN**, which are used for sound analysis\n",
    "\n",
    "Most often the fun with convolutional networks and image analysis starts with recognizing numbers. However, we will do something a little more interesting / funny - we will play with recognizing whether there is a dog or cat in the picture.  \n",
    "You will find the data you need for this here: https://www.kaggle.com/c/dogs-vs-cats-redux-kernels-edition  \n",
    "<br><br>\n",
    "On the `data` tab of this page there are two downloadable `train.zip` and `test.zip` files. Just download the `train.zip` and then extract to the folder where this notebook is located to the `cats_vs_dogs` folder, the subfolder `train`."
   ]
  },
  {
   "cell_type": "code",
   "execution_count": 3,
   "metadata": {},
   "outputs": [],
   "source": [
    "from tensorflow.keras.preprocessing.image import load_img, img_to_array"
   ]
  },
  {
   "cell_type": "markdown",
   "metadata": {},
   "source": [
    "We load the names of image files:"
   ]
  },
  {
   "cell_type": "code",
   "execution_count": 4,
   "metadata": {},
   "outputs": [
    {
     "data": {
      "text/plain": [
       "['cat.0.jpg', 'cat.1.jpg', 'cat.10.jpg']"
      ]
     },
     "execution_count": 4,
     "metadata": {},
     "output_type": "execute_result"
    }
   ],
   "source": [
    "import os\n",
    "\n",
    "img_dir = r'C:\\DATA\\cats & dogs\\train'\n",
    "images = os.listdir(img_dir)\n",
    "images[:3]"
   ]
  },
  {
   "cell_type": "code",
   "execution_count": 5,
   "metadata": {},
   "outputs": [],
   "source": [
    "full_images = [os.path.join(img_dir, img) for img in images]"
   ]
  },
  {
   "cell_type": "code",
   "execution_count": 6,
   "metadata": {},
   "outputs": [
    {
     "data": {
      "text/plain": [
       "['C:\\\\DATA\\\\cats & dogs\\\\train\\\\cat.0.jpg',\n",
       " 'C:\\\\DATA\\\\cats & dogs\\\\train\\\\cat.1.jpg',\n",
       " 'C:\\\\DATA\\\\cats & dogs\\\\train\\\\cat.10.jpg']"
      ]
     },
     "execution_count": 6,
     "metadata": {},
     "output_type": "execute_result"
    }
   ],
   "source": [
    "full_images[:3]"
   ]
  },
  {
   "cell_type": "markdown",
   "metadata": {},
   "source": [
    "We'll create a function for showing rgb layers"
   ]
  },
  {
   "cell_type": "code",
   "execution_count": 7,
   "metadata": {},
   "outputs": [],
   "source": [
    "def show_rgb_layers(image, subplots_args=dict()):\n",
    "    '''\n",
    "    Show RGB layers of the image on separate axes.\n",
    "    '''\n",
    "    \n",
    "    im_shape = image.shape\n",
    "    \n",
    "#     check if the loaded image has 3 dimensions\n",
    "    assert image.ndim == 3\n",
    "#     check whether the last dimension of im_shape has 3 dimensions\n",
    "    assert im_shape[-1] == 3\n",
    "    \n",
    "#     plot rgb layers\n",
    "    fig, ax = plt.subplots(ncols=3)\n",
    "    for idx, layer in enumerate(['Reds', 'Greens', 'Blues']):\n",
    "        ax[idx].imshow(image[:, :, idx], cmap=layer)\n",
    "    \n",
    "    return fig"
   ]
  },
  {
   "cell_type": "markdown",
   "metadata": {},
   "source": [
    "## We're loading images\n",
    "We load 10000 images, 5000 each per category (training on all would take too long)."
   ]
  },
  {
   "cell_type": "code",
   "execution_count": 8,
   "metadata": {},
   "outputs": [
    {
     "name": "stdout",
     "output_type": "stream",
     "text": [
      "**************************************************\n",
      "**************************************************\n",
      "**************************************************\n",
      "**************************************************\n",
      "**************************************************\n",
      "**************************************************\n",
      "**************************************************\n",
      "**************************************************\n",
      "**************************************************\n",
      "**************************************************\n"
     ]
    }
   ],
   "source": [
    "from imports_for_ML import load_images\n",
    "\n",
    "X, y = load_images(img_dir, n_images=10000, resize=(50, 50))"
   ]
  },
  {
   "cell_type": "code",
   "execution_count": 9,
   "metadata": {},
   "outputs": [],
   "source": [
    "from tensorflow.keras.models import Sequential\n",
    "from tensorflow.keras.layers import Dense"
   ]
  },
  {
   "cell_type": "code",
   "execution_count": 10,
   "metadata": {},
   "outputs": [],
   "source": [
    "from tensorflow.keras.layers import Conv2D, MaxPooling2D, Flatten"
   ]
  },
  {
   "cell_type": "code",
   "execution_count": 11,
   "metadata": {},
   "outputs": [],
   "source": [
    "X_train, X_test, y_train, y_test = train_test_split(X, y, test_size=0.1, random_state=23)"
   ]
  },
  {
   "cell_type": "code",
   "execution_count": 13,
   "metadata": {},
   "outputs": [
    {
     "data": {
      "text/plain": [
       "(9000, 50, 50, 3)"
      ]
     },
     "execution_count": 13,
     "metadata": {},
     "output_type": "execute_result"
    }
   ],
   "source": [
    "X_train.shape"
   ]
  },
  {
   "cell_type": "code",
   "execution_count": 14,
   "metadata": {},
   "outputs": [],
   "source": [
    "from tensorflow.keras.models import load_model"
   ]
  },
  {
   "cell_type": "code",
   "execution_count": 15,
   "metadata": {},
   "outputs": [],
   "source": [
    "model = load_model((r'C:\\Users\\leont\\Dysk Google\\CLASSES\\ALK 2020-2021\\Introduction to Python and Machine Learning\\Class 12\\cats_dogs_model'))"
   ]
  },
  {
   "cell_type": "code",
   "execution_count": 17,
   "metadata": {},
   "outputs": [
    {
     "name": "stdout",
     "output_type": "stream",
     "text": [
      "Model: \"sequential_2\"\n",
      "_________________________________________________________________\n",
      "Layer (type)                 Output Shape              Param #   \n",
      "=================================================================\n",
      "conv2d_8 (Conv2D)            (None, 48, 48, 16)        448       \n",
      "_________________________________________________________________\n",
      "conv2d_9 (Conv2D)            (None, 46, 46, 16)        2320      \n",
      "_________________________________________________________________\n",
      "max_pooling2d_4 (MaxPooling2 (None, 15, 15, 16)        0         \n",
      "_________________________________________________________________\n",
      "conv2d_10 (Conv2D)           (None, 13, 13, 32)        4640      \n",
      "_________________________________________________________________\n",
      "conv2d_11 (Conv2D)           (None, 11, 11, 32)        9248      \n",
      "_________________________________________________________________\n",
      "max_pooling2d_5 (MaxPooling2 (None, 5, 5, 32)          0         \n",
      "_________________________________________________________________\n",
      "flatten_2 (Flatten)          (None, 800)               0         \n",
      "_________________________________________________________________\n",
      "dense_4 (Dense)              (None, 64)                51264     \n",
      "_________________________________________________________________\n",
      "dense_5 (Dense)              (None, 1)                 65        \n",
      "=================================================================\n",
      "Total params: 67,985\n",
      "Trainable params: 67,985\n",
      "Non-trainable params: 0\n",
      "_________________________________________________________________\n"
     ]
    }
   ],
   "source": [
    "model.summary()"
   ]
  },
  {
   "cell_type": "code",
   "execution_count": 18,
   "metadata": {},
   "outputs": [
    {
     "name": "stdout",
     "output_type": "stream",
     "text": [
      "Accuracy on the training data:\n",
      "282/282 [==============================] - 1s 2ms/step - loss: 0.8928 - accuracy: 0.8122\n",
      "0.8122222423553467\n",
      "\n",
      "Accuracy on the test data:\n",
      "32/32 [==============================] - 0s 2ms/step - loss: 0.8480 - accuracy: 0.8180\n",
      "0.8180000185966492\n"
     ]
    }
   ],
   "source": [
    "# plt.plot(history.history['acc'])\n",
    "# plt.ylabel('Accuracy')\n",
    "\n",
    "print('Accuracy on the training data:')\n",
    "print(model.evaluate(X_train, y_train)[1])\n",
    "\n",
    "print('\\nAccuracy on the test data:')\n",
    "print(model.evaluate(X_test, y_test)[1])"
   ]
  },
  {
   "cell_type": "markdown",
   "metadata": {},
   "source": [
    "The correctness of the test data is significantly higher than 50%, so the model has learned something. In the case above we also see that the correctness on the test data is not very different from the correctness on the training data.  \n",
    "Therefore we will try to train the network further. To make the work easier this time we will separate 4% of the training data (i.e. 0.04 * 9000, i.e. 360 pictures) into an independent validation set - on this set of pictures we do not teach the network, but use it on an ongoing basis to monitor the correctness of the network on independent data during the training. When the correctness of this independent data stops improving - the trening will be stopped.\n",
    "* To be able to stop the trening earlier, we import `EarlyStopping` and create a `stop_early` by setting the `patience` from `EarlyStopping` to `2` (i.e., the trening will be stopped if we don't get better validation data for two consecutive epochs.\n",
    "* Then set the `validation_split` in the `model.fit` to the appropriate value.\n",
    "* Add stop_early as a callback, set the callbacks argument in the model.fit. `callbacks` always takes the list, so if you only give one callback, make sure to put it in the list (i.e., instead of `some_callback` you give `[some_callback]`."
   ]
  },
  {
   "cell_type": "markdown",
   "metadata": {},
   "source": [
    "<div class=\"alert alert-block alert-success\">\n",
    "⚠️TASK 1\n",
    "<br>\n",
    "\n",
    "Using the information above, please finish the code below:\n",
    "\n",
    "</div>"
   ]
  },
  {
   "cell_type": "code",
   "execution_count": 19,
   "metadata": {
    "scrolled": true
   },
   "outputs": [
    {
     "name": "stdout",
     "output_type": "stream",
     "text": [
      "Epoch 1/10\n",
      "270/270 [==============================] - 1s 3ms/step - loss: 0.5081 - accuracy: 0.7764 - val_loss: 0.4291 - val_accuracy: 0.8028\n",
      "Epoch 2/10\n",
      "270/270 [==============================] - 1s 3ms/step - loss: 0.3848 - accuracy: 0.8291 - val_loss: 0.4747 - val_accuracy: 0.7889\n",
      "Epoch 3/10\n",
      "270/270 [==============================] - 1s 3ms/step - loss: 0.3258 - accuracy: 0.8590 - val_loss: 0.4155 - val_accuracy: 0.8083\n",
      "Epoch 4/10\n",
      "270/270 [==============================] - 1s 3ms/step - loss: 0.2789 - accuracy: 0.8830 - val_loss: 0.4377 - val_accuracy: 0.8222\n",
      "Epoch 5/10\n",
      "270/270 [==============================] - 1s 3ms/step - loss: 0.2422 - accuracy: 0.8990 - val_loss: 0.4982 - val_accuracy: 0.8222\n",
      "Epoch 6/10\n",
      "270/270 [==============================] - 1s 3ms/step - loss: 0.2032 - accuracy: 0.9171 - val_loss: 0.5457 - val_accuracy: 0.8028\n",
      "Epoch 7/10\n",
      "270/270 [==============================] - 1s 3ms/step - loss: 0.1709 - accuracy: 0.9326 - val_loss: 0.5547 - val_accuracy: 0.7889\n",
      "Epoch 8/10\n",
      "270/270 [==============================] - 1s 3ms/step - loss: 0.1394 - accuracy: 0.9441 - val_loss: 0.6142 - val_accuracy: 0.8139\n",
      "Epoch 9/10\n",
      "270/270 [==============================] - 1s 3ms/step - loss: 0.1554 - accuracy: 0.9358 - val_loss: 0.6747 - val_accuracy: 0.8278\n",
      "Epoch 10/10\n",
      "270/270 [==============================] - 1s 3ms/step - loss: 0.1067 - accuracy: 0.9576 - val_loss: 0.8002 - val_accuracy: 0.7806\n"
     ]
    }
   ],
   "source": [
    "history = model.fit(X_train, y_train, epochs=10, validation_split=0.04)"
   ]
  },
  {
   "cell_type": "code",
   "execution_count": 23,
   "metadata": {},
   "outputs": [
    {
     "data": {
      "text/plain": [
       "Text(0.5, 0, 'Number of epochs')"
      ]
     },
     "execution_count": 23,
     "metadata": {},
     "output_type": "execute_result"
    },
    {
     "data": {
      "image/png": "[encoded data removed]",
      "text/plain": [
       "<Figure size 432x288 with 1 Axes>"
      ]
     },
     "metadata": {
      "needs_background": "light"
     },
     "output_type": "display_data"
    }
   ],
   "source": [
    "plt.plot(history.history['accuracy'])\n",
    "plt.plot(history.history['val_accuracy'])\n",
    "plt.ylabel('Accuracy')\n",
    "plt.xlabel('Number of epochs')"
   ]
  },
  {
   "cell_type": "markdown",
   "metadata": {},
   "source": [
    "The training was interrupted because the correctness on the validation data stopped growing."
   ]
  },
  {
   "cell_type": "markdown",
   "metadata": {},
   "source": [
    "<div class=\"alert alert-block alert-success\">\n",
    "⚠️TASK 2\n",
    "<br>\n",
    "\n",
    "Let's see how our model works now. First, as before, we will evaluate the correctness on the test and training data:\n",
    "\n",
    "</div>"
   ]
  },
  {
   "cell_type": "code",
   "execution_count": 24,
   "metadata": {},
   "outputs": [
    {
     "name": "stdout",
     "output_type": "stream",
     "text": [
      "Accuracy on the training data:\n",
      "282/282 [==============================] - 0s 2ms/step - loss: 0.1871 - accuracy: 0.9316\n",
      "0.9315555691719055\n",
      "\n",
      "Accuracy on the test data:\n",
      "32/32 [==============================] - 0s 2ms/step - loss: 0.9498 - accuracy: 0.7640\n",
      "0.7639999985694885\n"
     ]
    }
   ],
   "source": [
    "print('Accuracy on the training data:')\n",
    "print(model.evaluate(X_train, y_train)[1])\n",
    "\n",
    "print('\\nAccuracy on the test data:')\n",
    "print(model.evaluate(X_test, y_test)[1])"
   ]
  },
  {
   "cell_type": "code",
   "execution_count": 29,
   "metadata": {},
   "outputs": [],
   "source": [
    "model2 = load_model((r'C:\\Users\\leont\\Dysk Google\\CLASSES\\ALK 2020-2021\\Introduction to Python and Machine Learning\\Class 12\\cats_dogs_model_tf2'))"
   ]
  },
  {
   "cell_type": "code",
   "execution_count": 31,
   "metadata": {},
   "outputs": [],
   "source": [
    "from tensorflow.keras.callbacks import EarlyStopping\n",
    "\n",
    "stop_early = EarlyStopping(patience=2)"
   ]
  },
  {
   "cell_type": "code",
   "execution_count": 32,
   "metadata": {},
   "outputs": [
    {
     "name": "stdout",
     "output_type": "stream",
     "text": [
      "Epoch 1/10\n",
      "270/270 [==============================] - 1s 3ms/step - loss: 0.5292 - accuracy: 0.7793 - val_loss: 0.4960 - val_accuracy: 0.7583\n",
      "Epoch 2/10\n",
      "270/270 [==============================] - 1s 3ms/step - loss: 0.3871 - accuracy: 0.8292 - val_loss: 0.4562 - val_accuracy: 0.8083\n",
      "Epoch 3/10\n",
      "270/270 [==============================] - 1s 3ms/step - loss: 0.3217 - accuracy: 0.8630 - val_loss: 0.4499 - val_accuracy: 0.8111\n",
      "Epoch 4/10\n",
      "270/270 [==============================] - 1s 3ms/step - loss: 0.2770 - accuracy: 0.8836 - val_loss: 0.5546 - val_accuracy: 0.7861\n",
      "Epoch 5/10\n",
      "270/270 [==============================] - 1s 3ms/step - loss: 0.2302 - accuracy: 0.9047 - val_loss: 0.5449 - val_accuracy: 0.7917\n"
     ]
    }
   ],
   "source": [
    "history = model2.fit(X_train, y_train, epochs=10, validation_split=0.04, callbacks=[stop_early])"
   ]
  },
  {
   "cell_type": "code",
   "execution_count": 33,
   "metadata": {},
   "outputs": [
    {
     "data": {
      "text/plain": [
       "Text(0.5, 0, 'Number of epochs')"
      ]
     },
     "execution_count": 33,
     "metadata": {},
     "output_type": "execute_result"
    },
    {
     "data": {
      "image/png": "[encoded data removed]",
      "text/plain": [
       "<Figure size 432x288 with 1 Axes>"
      ]
     },
     "metadata": {
      "needs_background": "light"
     },
     "output_type": "display_data"
    }
   ],
   "source": [
    "plt.plot(history.history['accuracy'])\n",
    "plt.plot(history.history['val_accuracy'])\n",
    "plt.ylabel('Accuracy')\n",
    "plt.xlabel('Number of epochs')"
   ]
  },
  {
   "cell_type": "code",
   "execution_count": 24,
   "metadata": {},
   "outputs": [
    {
     "name": "stdout",
     "output_type": "stream",
     "text": [
      "Accuracy on the training data:\n",
      "282/282 [==============================] - 0s 2ms/step - loss: 0.1871 - accuracy: 0.9316\n",
      "0.9315555691719055\n",
      "\n",
      "Accuracy on the test data:\n",
      "32/32 [==============================] - 0s 2ms/step - loss: 0.9498 - accuracy: 0.7640\n",
      "0.7639999985694885\n"
     ]
    }
   ],
   "source": [
    "print('Accuracy on the training data:')\n",
    "print(model.evaluate(X_train, y_train)[1])\n",
    "\n",
    "print('\\nAccuracy on the test data:')\n",
    "print(model.evaluate(X_test, y_test)[1])"
   ]
  },
  {
   "cell_type": "code",
   "execution_count": 34,
   "metadata": {},
   "outputs": [
    {
     "name": "stdout",
     "output_type": "stream",
     "text": [
      "Accuracy on the training data:\n",
      "282/282 [==============================] - 0s 2ms/step - loss: 0.2153 - accuracy: 0.9129\n",
      "0.9128888845443726\n",
      "\n",
      "Accuracy on the test data:\n",
      "32/32 [==============================] - 0s 2ms/step - loss: 0.5602 - accuracy: 0.7920\n",
      "0.7919999957084656\n"
     ]
    }
   ],
   "source": [
    "print('Accuracy on the training data:')\n",
    "print(model2.evaluate(X_train, y_train)[1])\n",
    "\n",
    "print('\\nAccuracy on the test data:')\n",
    "print(model2.evaluate(X_test, y_test)[1])"
   ]
  },
  {
   "cell_type": "markdown",
   "metadata": {},
   "source": [
    "Please note that further training has improved the model on training data, but not on test data.\n",
    "This is a symptom that the network has started to overfit - later on we will try to prevent this by adding a regulation to the network.  \n",
    "Before we move on to this step, let's check a few examples that the network recognizes correctly, and a few that are not recognized correctly:"
   ]
  },
  {
   "cell_type": "code",
   "execution_count": 37,
   "metadata": {},
   "outputs": [],
   "source": [
    "# let's take the first 25 test photos:\n",
    "test_sample = X_test[:25]\n",
    "predictions = model.predict(test_sample)\n",
    "true_labels = y_test[:25]"
   ]
  },
  {
   "cell_type": "code",
   "execution_count": 42,
   "metadata": {
    "collapsed": true
   },
   "outputs": [
    {
     "data": {
      "text/plain": [
       "array([[9.9998879e-01],\n",
       "       [9.9980253e-01],\n",
       "       [5.4699281e-05],\n",
       "       [4.3478069e-01],\n",
       "       [9.9990118e-01],\n",
       "       [2.2983292e-02],\n",
       "       [9.6859097e-01],\n",
       "       [9.9893886e-01],\n",
       "       [4.9571227e-09],\n",
       "       [4.0804121e-06],\n",
       "       [4.0916950e-01],\n",
       "       [9.8995918e-01],\n",
       "       [1.2925826e-01],\n",
       "       [9.3275219e-01],\n",
       "       [6.4638926e-04],\n",
       "       [5.7307322e-04],\n",
       "       [1.2483711e-08],\n",
       "       [6.0744423e-01],\n",
       "       [1.9238848e-07],\n",
       "       [5.7297501e-07],\n",
       "       [3.4529216e-06],\n",
       "       [3.8381293e-01],\n",
       "       [7.1399484e-08],\n",
       "       [1.0431246e-02],\n",
       "       [7.5075018e-01]], dtype=float32)"
      ]
     },
     "execution_count": 42,
     "metadata": {},
     "output_type": "execute_result"
    }
   ],
   "source": [
    "predictions"
   ]
  },
  {
   "cell_type": "code",
   "execution_count": 38,
   "metadata": {},
   "outputs": [
    {
     "data": {
      "text/plain": [
       "(25, 50, 50, 3)"
      ]
     },
     "execution_count": 38,
     "metadata": {},
     "output_type": "execute_result"
    }
   ],
   "source": [
    "test_sample.shape"
   ]
  },
  {
   "cell_type": "code",
   "execution_count": 44,
   "metadata": {},
   "outputs": [
    {
     "data": {
      "text/plain": [
       "1"
      ]
     },
     "execution_count": 44,
     "metadata": {},
     "output_type": "execute_result"
    }
   ],
   "source": [
    "true_labels[1]"
   ]
  },
  {
   "cell_type": "code",
   "execution_count": 43,
   "metadata": {},
   "outputs": [
    {
     "data": {
      "text/plain": [
       "1"
      ]
     },
     "execution_count": 43,
     "metadata": {},
     "output_type": "execute_result"
    }
   ],
   "source": [
    "correct_response"
   ]
  },
  {
   "cell_type": "code",
   "execution_count": 45,
   "metadata": {},
   "outputs": [
    {
     "data": {
      "text/plain": [
       "'dog'"
      ]
     },
     "execution_count": 45,
     "metadata": {},
     "output_type": "execute_result"
    }
   ],
   "source": [
    "it_is_really"
   ]
  },
  {
   "cell_type": "code",
   "execution_count": 46,
   "metadata": {},
   "outputs": [
    {
     "data": {
      "text/plain": [
       "0.99980253"
      ]
     },
     "execution_count": 46,
     "metadata": {},
     "output_type": "execute_result"
    }
   ],
   "source": [
    "net_claims"
   ]
  },
  {
   "cell_type": "code",
   "execution_count": 47,
   "metadata": {},
   "outputs": [
    {
     "data": {
      "text/plain": [
       "True"
      ]
     },
     "execution_count": 47,
     "metadata": {},
     "output_type": "execute_result"
    }
   ],
   "source": [
    "is_net_correct"
   ]
  },
  {
   "cell_type": "code",
   "execution_count": 48,
   "metadata": {},
   "outputs": [
    {
     "name": "stderr",
     "output_type": "stream",
     "text": [
      "C:\\ProgramData\\Anaconda3\\envs\\py37\\lib\\site-packages\\ipykernel_launcher.py:1: DeprecationWarning: In future, it will be an error for 'np.bool_' scalars to be interpreted as an index\n",
      "  \"\"\"Entry point for launching an IPython kernel.\n"
     ]
    },
    {
     "data": {
      "text/plain": [
       "'is right'"
      ]
     },
     "execution_count": 48,
     "metadata": {},
     "output_type": "execute_result"
    }
   ],
   "source": [
    "['is wrong', 'is right'][is_net_correct]"
   ]
  },
  {
   "cell_type": "code",
   "execution_count": 105,
   "metadata": {},
   "outputs": [
    {
     "name": "stderr",
     "output_type": "stream",
     "text": [
      "C:\\ProgramData\\Anaconda3\\envs\\py37\\lib\\site-packages\\ipykernel_launcher.py:11: DeprecationWarning: In future, it will be an error for 'np.bool_' scalars to be interpreted as an index\n",
      "  # This is added back by InteractiveShellApp.init_path()\n"
     ]
    },
    {
     "data": {
      "text/plain": [
       "(-0.5, 49.5, 49.5, -0.5)"
      ]
     },
     "execution_count": 105,
     "metadata": {},
     "output_type": "execute_result"
    },
    {
     "data": {
      "image/png": "[encoded data removed]",
      "text/plain": [
       "<Figure size 432x288 with 1 Axes>"
      ]
     },
     "metadata": {
      "needs_background": "light"
     },
     "output_type": "display_data"
    }
   ],
   "source": [
    "check_idx = 66\n",
    "plt.imshow(test_sample[check_idx] / 255)\n",
    "\n",
    "\n",
    "text = 'The network is: {:.2f}% sure it is a dog,\\nand really it is a {}, so the network {}'\n",
    "correct_response = true_labels[check_idx]\n",
    "it_is_really = ['cat', 'dog'][correct_response]\n",
    "net_claims = predictions[check_idx, 0]\n",
    "is_net_correct = np.abs(net_claims - correct_response) < 0.5\n",
    "\n",
    "plt.title(text.format(net_claims * 100., it_is_really, ['is wrong', 'is right'][is_net_correct]))\n",
    "plt.axis('off')"
   ]
  },
  {
   "cell_type": "markdown",
   "metadata": {},
   "source": [
    "<div class=\"alert alert-block alert-success\">\n",
    "⚠️TASK 3\n",
    "<br>\n",
    "\n",
    "Using the code above, check the examples until you find three incorrectly classified photos. Do you have any idea why the network misclassified these photos? (An example of such speculation - dogs may be photographed more often through the fence so the presence of this kind of pattern may convince the network that we are dealing with a dog, even if the picture shows a cat; similarly, other characteristics of the environment may influence the prediction, e.g. cats are more likely to be photographed indoors so a cat photographed outdoors may be considered a dog). Remember that the web doesn't know what the pictures 'really' represent, so different features of the picture correlated with the presence of the dog, but not signalling its presence, may sometimes confuse the model rather than guide it.  \n",
    "<br>    \n",
    "We can see that the web is generally doing well, it has a correctness of more than 70%, although human would obviously do much better (human's correctness would probably be around 99% - some photos with a resolution of 50 x 50 can also cause a problem for us). But people learn in an interactive, three-dimensional environment, and the web learned from pixel values. :)\n",
    "\n",
    "</div>"
   ]
  },
  {
   "cell_type": "code",
   "execution_count": 91,
   "metadata": {},
   "outputs": [],
   "source": [
    "# let's take ALL test photos:\n",
    "test_sample = X_test\n",
    "predictions = model.predict(test_sample)\n",
    "true_labels = y_test\n",
    "\n",
    "model_predictions = model.predict_classes(test_sample)\n",
    "\n",
    "model_predictions = model_predictions.reshape(1000)"
   ]
  },
  {
   "cell_type": "code",
   "execution_count": 96,
   "metadata": {},
   "outputs": [
    {
     "data": {
      "text/plain": [
       "(1000,)"
      ]
     },
     "execution_count": 96,
     "metadata": {},
     "output_type": "execute_result"
    }
   ],
   "source": [
    "model_predictions.shape"
   ]
  },
  {
   "cell_type": "code",
   "execution_count": 97,
   "metadata": {
    "scrolled": true
   },
   "outputs": [
    {
     "data": {
      "text/plain": [
       "(1000,)"
      ]
     },
     "execution_count": 97,
     "metadata": {},
     "output_type": "execute_result"
    }
   ],
   "source": [
    "true_labels.shape"
   ]
  },
  {
   "cell_type": "code",
   "execution_count": 103,
   "metadata": {
    "collapsed": true
   },
   "outputs": [
    {
     "data": {
      "text/plain": [
       "array([False, False, False, False, False, False,  True, False, False,\n",
       "       False,  True, False, False,  True, False, False, False, False,\n",
       "       False, False, False, False, False, False, False, False,  True,\n",
       "       False,  True, False,  True,  True, False, False,  True, False,\n",
       "       False, False, False, False, False, False,  True, False, False,\n",
       "       False, False, False,  True, False, False, False, False, False,\n",
       "       False, False,  True, False, False,  True, False,  True,  True,\n",
       "       False,  True, False,  True, False, False, False, False, False,\n",
       "       False, False, False,  True, False, False, False,  True, False,\n",
       "       False, False, False, False, False, False,  True, False, False,\n",
       "        True, False, False, False, False, False,  True, False, False,\n",
       "       False,  True, False,  True, False, False, False, False,  True,\n",
       "       False,  True,  True, False, False, False, False, False, False,\n",
       "       False, False, False, False,  True, False,  True, False, False,\n",
       "        True, False, False,  True, False, False, False, False, False,\n",
       "       False, False, False, False, False, False, False, False, False,\n",
       "        True, False, False, False,  True, False, False, False,  True,\n",
       "       False, False, False, False, False, False,  True,  True,  True,\n",
       "        True,  True, False, False,  True, False, False,  True, False,\n",
       "       False, False, False, False, False,  True, False,  True, False,\n",
       "       False, False, False, False, False, False, False,  True,  True,\n",
       "       False, False,  True, False,  True, False,  True, False, False,\n",
       "       False,  True,  True, False, False, False, False,  True, False,\n",
       "        True, False, False, False, False, False, False, False, False,\n",
       "       False, False,  True, False,  True, False, False,  True, False,\n",
       "       False, False, False, False, False, False, False, False, False,\n",
       "       False, False, False, False, False, False, False, False,  True,\n",
       "       False, False, False, False, False, False, False, False,  True,\n",
       "       False, False, False, False, False, False, False, False, False,\n",
       "       False, False, False,  True, False, False,  True,  True, False,\n",
       "       False, False, False, False, False, False, False, False, False,\n",
       "       False, False,  True, False,  True, False, False, False,  True,\n",
       "       False,  True, False, False, False, False,  True,  True, False,\n",
       "       False, False, False,  True, False, False, False,  True,  True,\n",
       "       False,  True, False, False, False, False,  True,  True,  True,\n",
       "       False, False, False, False, False, False, False, False,  True,\n",
       "       False, False, False, False, False,  True,  True, False, False,\n",
       "        True, False, False, False,  True,  True,  True, False,  True,\n",
       "       False, False, False,  True,  True,  True, False, False,  True,\n",
       "       False, False, False, False, False,  True, False, False, False,\n",
       "        True,  True,  True,  True, False, False, False,  True, False,\n",
       "       False,  True, False, False,  True,  True, False, False,  True,\n",
       "        True, False, False, False, False, False, False, False,  True,\n",
       "       False, False,  True, False, False, False, False,  True,  True,\n",
       "        True,  True,  True,  True,  True, False, False,  True, False,\n",
       "       False,  True, False, False, False, False, False, False,  True,\n",
       "       False,  True, False, False, False, False,  True, False, False,\n",
       "       False, False, False, False, False, False, False,  True, False,\n",
       "       False, False, False, False, False, False, False, False, False,\n",
       "       False, False, False, False, False, False, False, False, False,\n",
       "       False, False, False, False, False,  True, False, False, False,\n",
       "       False,  True, False, False, False, False,  True, False, False,\n",
       "       False, False,  True,  True, False, False, False, False, False,\n",
       "       False,  True, False, False, False, False,  True, False, False,\n",
       "       False,  True, False, False, False, False, False, False, False,\n",
       "       False, False, False, False, False, False,  True,  True,  True,\n",
       "        True, False, False, False,  True, False, False, False,  True,\n",
       "       False, False,  True,  True, False,  True,  True, False,  True,\n",
       "       False, False, False, False,  True, False, False,  True, False,\n",
       "       False, False, False, False, False, False, False, False, False,\n",
       "        True, False, False, False, False, False, False,  True, False,\n",
       "       False, False, False,  True, False, False, False, False, False,\n",
       "       False, False, False, False, False, False, False, False, False,\n",
       "       False,  True, False,  True,  True,  True, False, False, False,\n",
       "        True,  True, False, False, False, False,  True, False,  True,\n",
       "        True, False, False, False, False, False, False, False, False,\n",
       "       False, False, False, False, False, False, False, False, False,\n",
       "        True, False, False, False,  True, False, False,  True, False,\n",
       "       False, False,  True, False,  True, False, False, False, False,\n",
       "       False,  True, False, False, False, False,  True, False, False,\n",
       "        True,  True, False, False, False, False, False, False, False,\n",
       "       False, False, False, False, False, False,  True, False, False,\n",
       "       False, False, False, False,  True, False, False, False,  True,\n",
       "       False, False, False, False,  True, False, False, False,  True,\n",
       "        True, False, False, False, False, False, False, False, False,\n",
       "       False, False, False, False, False, False, False, False, False,\n",
       "       False, False, False, False, False,  True, False, False, False,\n",
       "        True,  True, False,  True, False,  True, False, False,  True,\n",
       "       False, False,  True, False, False, False, False,  True,  True,\n",
       "       False, False,  True, False, False, False, False, False, False,\n",
       "       False,  True, False,  True, False, False, False,  True, False,\n",
       "       False, False,  True, False, False, False,  True, False, False,\n",
       "       False, False, False, False, False, False, False,  True, False,\n",
       "        True,  True, False, False, False, False, False,  True, False,\n",
       "        True,  True, False,  True, False, False, False, False, False,\n",
       "       False, False, False, False, False, False, False, False, False,\n",
       "       False, False, False, False, False, False,  True, False, False,\n",
       "       False,  True,  True, False, False,  True,  True, False, False,\n",
       "        True, False,  True,  True, False, False, False,  True, False,\n",
       "       False,  True, False, False, False, False, False, False,  True,\n",
       "        True, False, False, False, False, False, False, False, False,\n",
       "       False,  True,  True, False, False, False,  True, False, False,\n",
       "       False, False, False, False, False, False, False, False, False,\n",
       "       False, False, False, False, False, False, False,  True,  True,\n",
       "       False, False,  True,  True, False, False, False,  True, False,\n",
       "       False, False, False, False, False, False,  True, False,  True,\n",
       "       False, False, False,  True, False, False, False, False,  True,\n",
       "       False, False, False,  True, False,  True,  True, False,  True,\n",
       "        True, False, False, False, False,  True, False, False, False,\n",
       "       False, False, False, False,  True,  True, False, False,  True,\n",
       "       False, False,  True, False, False, False,  True, False, False,\n",
       "        True, False, False, False, False, False, False,  True,  True,\n",
       "        True, False,  True, False,  True, False, False, False, False,\n",
       "       False, False, False, False, False, False, False, False, False,\n",
       "       False, False, False, False, False, False,  True, False, False,\n",
       "       False,  True,  True, False, False, False, False, False, False,\n",
       "       False, False,  True, False,  True, False, False, False, False,\n",
       "       False, False,  True, False, False, False, False,  True, False,\n",
       "        True, False,  True, False, False,  True, False, False, False,\n",
       "       False,  True, False, False, False,  True,  True, False,  True,\n",
       "       False, False, False, False, False,  True, False, False, False,\n",
       "       False])"
      ]
     },
     "execution_count": 103,
     "metadata": {},
     "output_type": "execute_result"
    }
   ],
   "source": [
    "~(model_predictions == true_labels)"
   ]
  },
  {
   "cell_type": "code",
   "execution_count": 104,
   "metadata": {},
   "outputs": [
    {
     "data": {
      "text/plain": [
       "(array([  6,  10,  13,  26,  28,  30,  31,  34,  42,  48,  56,  59,  61,\n",
       "         62,  64,  66,  75,  79,  87,  90,  96, 100, 102, 107, 109, 110,\n",
       "        121, 123, 126, 129, 144, 148, 152, 159, 160, 161, 162, 163, 166,\n",
       "        169, 176, 178, 187, 188, 191, 193, 195, 199, 200, 205, 207, 218,\n",
       "        220, 223, 242, 251, 264, 267, 268, 281, 283, 287, 289, 294, 295,\n",
       "        300, 304, 305, 307, 312, 313, 314, 323, 329, 330, 333, 337, 338,\n",
       "        339, 341, 345, 346, 347, 350, 356, 360, 361, 362, 363, 367, 370,\n",
       "        373, 374, 377, 378, 386, 389, 394, 395, 396, 397, 398, 399, 400,\n",
       "        403, 406, 413, 415, 420, 430, 455, 460, 465, 470, 471, 478, 483,\n",
       "        487, 501, 502, 503, 504, 508, 512, 515, 516, 518, 519, 521, 526,\n",
       "        529, 540, 547, 552, 568, 570, 571, 572, 576, 577, 582, 584, 585,\n",
       "        603, 607, 610, 614, 616, 622, 627, 630, 631, 645, 652, 656, 661,\n",
       "        665, 666, 689, 693, 694, 696, 698, 701, 704, 709, 710, 713, 721,\n",
       "        723, 727, 731, 735, 745, 747, 748, 754, 756, 757, 759, 780, 784,\n",
       "        785, 788, 789, 792, 794, 795, 799, 802, 809, 810, 820, 821, 825,\n",
       "        844, 845, 848, 849, 853, 861, 863, 867, 872, 876, 878, 879, 881,\n",
       "        882, 887, 895, 896, 899, 902, 906, 909, 916, 917, 918, 920, 922,\n",
       "        942, 946, 947, 956, 958, 965, 970, 972, 974, 977, 982, 986, 987,\n",
       "        989, 995], dtype=int64),)"
      ]
     },
     "execution_count": 104,
     "metadata": {},
     "output_type": "execute_result"
    }
   ],
   "source": [
    "np.where(~(model_predictions == true_labels))"
   ]
  },
  {
   "cell_type": "markdown",
   "metadata": {},
   "source": [
    "## What has our network learned?"
   ]
  },
  {
   "cell_type": "markdown",
   "metadata": {},
   "source": [
    "We will now visualize some first layer filters that the network has learned."
   ]
  },
  {
   "cell_type": "markdown",
   "metadata": {},
   "source": [
    "First let's display the filter weights of the first network layer. Our neural network, present in the `model` variable, has a `layers` method, where we can find all network layers:"
   ]
  },
  {
   "cell_type": "code",
   "execution_count": 106,
   "metadata": {},
   "outputs": [
    {
     "data": {
      "text/plain": [
       "[<tensorflow.python.keras.layers.convolutional.Conv2D at 0x1a27698c0c8>,\n",
       " <tensorflow.python.keras.layers.convolutional.Conv2D at 0x1a27690ad48>,\n",
       " <tensorflow.python.keras.layers.pooling.MaxPooling2D at 0x1a27657da48>,\n",
       " <tensorflow.python.keras.layers.convolutional.Conv2D at 0x1a276926bc8>,\n",
       " <tensorflow.python.keras.layers.convolutional.Conv2D at 0x1a2769267c8>,\n",
       " <tensorflow.python.keras.layers.pooling.MaxPooling2D at 0x1a2769a0ac8>,\n",
       " <tensorflow.python.keras.layers.core.Flatten at 0x1a27699ca08>,\n",
       " <tensorflow.python.keras.layers.core.Dense at 0x1a2769a9108>,\n",
       " <tensorflow.python.keras.layers.core.Dense at 0x1a276942b08>]"
      ]
     },
     "execution_count": 106,
     "metadata": {},
     "output_type": "execute_result"
    }
   ],
   "source": [
    "model.layers"
   ]
  },
  {
   "cell_type": "code",
   "execution_count": 107,
   "metadata": {},
   "outputs": [
    {
     "data": {
      "text/plain": [
       "<tensorflow.python.keras.layers.convolutional.Conv2D at 0x1a27698c0c8>"
      ]
     },
     "execution_count": 107,
     "metadata": {},
     "output_type": "execute_result"
    }
   ],
   "source": [
    "model.layers[0]"
   ]
  },
  {
   "cell_type": "markdown",
   "metadata": {},
   "source": [
    "<div class=\"alert alert-block alert-success\">\n",
    "⚠️TASK 4\n",
    "<br>\n",
    "\n",
    "To find the weights of the first layer filters we have to:\n",
    "* select this layer from the list (usual indexing)\n",
    "* use the `get_weights()` method on the result (without arguments)\n",
    "* `get_weights` returns a list of two elements: filter weights, and the resting value of the filters. Therefore, we will select the first element - the filter weights.\n",
    "\n",
    "</div>"
   ]
  },
  {
   "cell_type": "code",
   "execution_count": 108,
   "metadata": {},
   "outputs": [],
   "source": [
    "first_layer = model.layers[0]\n",
    "weights = first_layer.get_weights()[0]"
   ]
  },
  {
   "cell_type": "code",
   "execution_count": 113,
   "metadata": {},
   "outputs": [
    {
     "data": {
      "text/plain": [
       "(3, 3, 3, 16)"
      ]
     },
     "execution_count": 113,
     "metadata": {},
     "output_type": "execute_result"
    }
   ],
   "source": [
    "first_layer.get_weights()[0].shape"
   ]
  },
  {
   "cell_type": "markdown",
   "metadata": {},
   "source": [
    "The weights should be `3 x 3 x 3 x 16` (*Height* x *Width* x *Depth (RGB)* x *Number of filters*):"
   ]
  },
  {
   "cell_type": "code",
   "execution_count": 114,
   "metadata": {},
   "outputs": [
    {
     "data": {
      "text/plain": [
       "(3, 3, 3, 16)"
      ]
     },
     "execution_count": 114,
     "metadata": {},
     "output_type": "execute_result"
    }
   ],
   "source": [
    "weights.shape"
   ]
  },
  {
   "cell_type": "markdown",
   "metadata": {},
   "source": [
    "<div class=\"alert alert-block alert-success\">\n",
    "⚠️TASK 5\n",
    "<br>\n",
    "\n",
    "We draw filters, averaging the RGB dimension (to make them easier to interpret) - you need to add one character to the code below:\n",
    "\n",
    "</div>"
   ]
  },
  {
   "cell_type": "code",
   "execution_count": 30,
   "metadata": {},
   "outputs": [
    {
     "data": {
      "image/png": "[encoded data removed]",
      "text/plain": [
       "<Figure size 432x288 with 16 Axes>"
      ]
     },
     "metadata": {
      "needs_background": "light"
     },
     "output_type": "display_data"
    }
   ],
   "source": [
    "fig, ax = plt.subplots(nrows=4, ncols=4)\n",
    "ax = ax.ravel()\n",
    "\n",
    "for idx in range(len(ax)):\n",
    "    # you have to give a dimension that we average, remember that single\n",
    "    # filter has dimensions: height to width on RGB\n",
    "    average_weights = weights[..., idx].mean(axis=2)\n",
    "    ax[idx].imshow(average_weights)\n",
    "    ax[idx].axis('off')"
   ]
  },
  {
   "cell_type": "code",
   "execution_count": 117,
   "metadata": {
    "collapsed": true
   },
   "outputs": [
    {
     "ename": "AxisError",
     "evalue": "axis 2 is out of bounds for array of dimension 2",
     "output_type": "error",
     "traceback": [
      "\u001b[1;31m---------------------------------------------------------------------------\u001b[0m",
      "\u001b[1;31mAxisError\u001b[0m                                 Traceback (most recent call last)",
      "\u001b[1;32m<ipython-input-117-f12b4d90bd91>\u001b[0m in \u001b[0;36m<module>\u001b[1;34m\u001b[0m\n\u001b[0;32m      5\u001b[0m     \u001b[1;31m# you have to give a dimension that we average, remember that single\u001b[0m\u001b[1;33m\u001b[0m\u001b[1;33m\u001b[0m\u001b[1;33m\u001b[0m\u001b[0m\n\u001b[0;32m      6\u001b[0m     \u001b[1;31m# filter has dimensions: height to width on RGB\u001b[0m\u001b[1;33m\u001b[0m\u001b[1;33m\u001b[0m\u001b[1;33m\u001b[0m\u001b[0m\n\u001b[1;32m----> 7\u001b[1;33m     \u001b[0maverage_weights\u001b[0m \u001b[1;33m=\u001b[0m \u001b[0mweights\u001b[0m\u001b[1;33m[\u001b[0m\u001b[1;36m0\u001b[0m\u001b[1;33m,\u001b[0m \u001b[0midx\u001b[0m\u001b[1;33m]\u001b[0m\u001b[1;33m.\u001b[0m\u001b[0mmean\u001b[0m\u001b[1;33m(\u001b[0m\u001b[0maxis\u001b[0m\u001b[1;33m=\u001b[0m\u001b[1;36m2\u001b[0m\u001b[1;33m)\u001b[0m\u001b[1;33m\u001b[0m\u001b[1;33m\u001b[0m\u001b[0m\n\u001b[0m\u001b[0;32m      8\u001b[0m     \u001b[0max\u001b[0m\u001b[1;33m[\u001b[0m\u001b[0midx\u001b[0m\u001b[1;33m]\u001b[0m\u001b[1;33m.\u001b[0m\u001b[0mimshow\u001b[0m\u001b[1;33m(\u001b[0m\u001b[0maverage_weights\u001b[0m\u001b[1;33m)\u001b[0m\u001b[1;33m\u001b[0m\u001b[1;33m\u001b[0m\u001b[0m\n\u001b[0;32m      9\u001b[0m     \u001b[0max\u001b[0m\u001b[1;33m[\u001b[0m\u001b[0midx\u001b[0m\u001b[1;33m]\u001b[0m\u001b[1;33m.\u001b[0m\u001b[0maxis\u001b[0m\u001b[1;33m(\u001b[0m\u001b[1;34m'off'\u001b[0m\u001b[1;33m)\u001b[0m\u001b[1;33m\u001b[0m\u001b[1;33m\u001b[0m\u001b[0m\n",
      "\u001b[1;32mC:\\ProgramData\\Anaconda3\\envs\\py37\\lib\\site-packages\\numpy\\core\\_methods.py\u001b[0m in \u001b[0;36m_mean\u001b[1;34m(a, axis, dtype, out, keepdims)\u001b[0m\n\u001b[0;32m    145\u001b[0m \u001b[1;33m\u001b[0m\u001b[0m\n\u001b[0;32m    146\u001b[0m     \u001b[0mis_float16_result\u001b[0m \u001b[1;33m=\u001b[0m \u001b[1;32mFalse\u001b[0m\u001b[1;33m\u001b[0m\u001b[1;33m\u001b[0m\u001b[0m\n\u001b[1;32m--> 147\u001b[1;33m     \u001b[0mrcount\u001b[0m \u001b[1;33m=\u001b[0m \u001b[0m_count_reduce_items\u001b[0m\u001b[1;33m(\u001b[0m\u001b[0marr\u001b[0m\u001b[1;33m,\u001b[0m \u001b[0maxis\u001b[0m\u001b[1;33m)\u001b[0m\u001b[1;33m\u001b[0m\u001b[1;33m\u001b[0m\u001b[0m\n\u001b[0m\u001b[0;32m    148\u001b[0m     \u001b[1;31m# Make this warning show up first\u001b[0m\u001b[1;33m\u001b[0m\u001b[1;33m\u001b[0m\u001b[1;33m\u001b[0m\u001b[0m\n\u001b[0;32m    149\u001b[0m     \u001b[1;32mif\u001b[0m \u001b[0mrcount\u001b[0m \u001b[1;33m==\u001b[0m \u001b[1;36m0\u001b[0m\u001b[1;33m:\u001b[0m\u001b[1;33m\u001b[0m\u001b[1;33m\u001b[0m\u001b[0m\n",
      "\u001b[1;32mC:\\ProgramData\\Anaconda3\\envs\\py37\\lib\\site-packages\\numpy\\core\\_methods.py\u001b[0m in \u001b[0;36m_count_reduce_items\u001b[1;34m(arr, axis)\u001b[0m\n\u001b[0;32m     64\u001b[0m     \u001b[0mitems\u001b[0m \u001b[1;33m=\u001b[0m \u001b[1;36m1\u001b[0m\u001b[1;33m\u001b[0m\u001b[1;33m\u001b[0m\u001b[0m\n\u001b[0;32m     65\u001b[0m     \u001b[1;32mfor\u001b[0m \u001b[0max\u001b[0m \u001b[1;32min\u001b[0m \u001b[0maxis\u001b[0m\u001b[1;33m:\u001b[0m\u001b[1;33m\u001b[0m\u001b[1;33m\u001b[0m\u001b[0m\n\u001b[1;32m---> 66\u001b[1;33m         \u001b[0mitems\u001b[0m \u001b[1;33m*=\u001b[0m \u001b[0marr\u001b[0m\u001b[1;33m.\u001b[0m\u001b[0mshape\u001b[0m\u001b[1;33m[\u001b[0m\u001b[0mmu\u001b[0m\u001b[1;33m.\u001b[0m\u001b[0mnormalize_axis_index\u001b[0m\u001b[1;33m(\u001b[0m\u001b[0max\u001b[0m\u001b[1;33m,\u001b[0m \u001b[0marr\u001b[0m\u001b[1;33m.\u001b[0m\u001b[0mndim\u001b[0m\u001b[1;33m)\u001b[0m\u001b[1;33m]\u001b[0m\u001b[1;33m\u001b[0m\u001b[1;33m\u001b[0m\u001b[0m\n\u001b[0m\u001b[0;32m     67\u001b[0m     \u001b[1;32mreturn\u001b[0m \u001b[0mitems\u001b[0m\u001b[1;33m\u001b[0m\u001b[1;33m\u001b[0m\u001b[0m\n\u001b[0;32m     68\u001b[0m \u001b[1;33m\u001b[0m\u001b[0m\n",
      "\u001b[1;31mAxisError\u001b[0m: axis 2 is out of bounds for array of dimension 2"
     ]
    },
    {
     "data": {
      "image/png": "[encoded data removed]",
      "text/plain": [
       "<Figure size 432x288 with 16 Axes>"
      ]
     },
     "metadata": {
      "needs_background": "light"
     },
     "output_type": "display_data"
    }
   ],
   "source": [
    "fig, ax = plt.subplots(nrows=4, ncols=4)\n",
    "ax = ax.ravel()\n",
    "\n",
    "for idx in range(len(ax)):\n",
    "    # you have to give a dimension that we average, remember that single\n",
    "    # filter has dimensions: height to width on RGB\n",
    "    average_weights = weights[0fig, ax = plt.subplots(nrows=4, ncols=4)\n",
    "ax = ax.ravel()\n",
    "\n",
    "for idx in range(len(ax)):\n",
    "    # you have to give a dimension that we average, remember that single\n",
    "    # filter has dimensions: height to width on RGB\n",
    "    average_weights = weights[..., idx].mean(axis=2)\n",
    "    ax[idx].imshow(average_weights)\n",
    "    ax[idx].axis('off'), idx].mean(axis=2)\n",
    "    ax[idx].imshow(average_weights)\n",
    "    ax[idx].axis('off')"
   ]
  },
  {
   "cell_type": "markdown",
   "metadata": {},
   "source": [
    "## Network regularization\n",
    "We will now try to improve network performance through regularization. We are building the whole network as before, but we add:\n",
    "* `Dropout` to one of the last layers.\n",
    "* `BatchNormalization` between convoluted layers (`Conv2d`)  \n",
    "\n",
    "Dropout is a simple way of regularization - from time to time some neurons are randomly removed from a given layer. This leads to much slower learning, but prevents neurons or combinations of neurons from remembering specific training examples (and, therefore, overfitting!).  \n",
    "`Dropout(0.25)` leads to the ejection of 25% of the neurons at each training stage. In our case, we want to discard 50% of the neurons during training.  \n",
    "`BatchNormalization` is a method of normalizing data going from one layer to the next, which usually improves the learning of the network, in this case by giving `BatchNormalization()` to `model.add()` (normalization is something like standardization)."
   ]
  },
  {
   "cell_type": "markdown",
   "metadata": {},
   "source": [
    "<div class=\"alert alert-block alert-success\">\n",
    "⚠️TASK 6\n",
    "<br>\n",
    "\n",
    "Import Dropout and BatchNormalization from `keras.layers`, and then create the modified network.\n",
    "\n",
    "</div>"
   ]
  },
  {
   "cell_type": "code",
   "execution_count": 118,
   "metadata": {},
   "outputs": [],
   "source": [
    "from tensorflow.keras.layers import Dropout, BatchNormalization"
   ]
  },
  {
   "cell_type": "code",
   "execution_count": 119,
   "metadata": {},
   "outputs": [],
   "source": [
    "model = Sequential([\n",
    "\n",
    "# we create two convolution layers, then max pooling\n",
    "    Conv2D(16, (3,3), input_shape=(50,50,3), activation='relu'),\n",
    "    Conv2D(16, (3,3), activation='relu'),\n",
    "    MaxPooling2D((3,3)),\n",
    "\n",
    "# # add BatchNormalization\n",
    "    BatchNormalization(),\n",
    "\n",
    "# we create next two convolution layers, then max pooling\n",
    "    Conv2D(32, (3,3), activation='relu'),\n",
    "    Conv2D(32, (3,3), activation='relu'),\n",
    "    MaxPooling2D((2,2)),\n",
    "\n",
    "# # add BatchNormalization\n",
    "    BatchNormalization(),\n",
    "\n",
    "# finally, we flatten all the filters to one vector and then add 64 ordinary neurons\n",
    "    Flatten(input_shape=(5,5,32)),\n",
    "    Dense(64, activation='relu'),\n",
    "    \n",
    "# add Dropout\n",
    "    Dropout(0.5),\n",
    "\n",
    "# and the output neuron that says dog (1) or cat (0)\n",
    "    Dense(1, activation='sigmoid')\n",
    "])\n",
    "\n",
    "# and compile, like always before\n",
    "model.compile(loss='binary_crossentropy', optimizer='adam', metrics=['accuracy'])"
   ]
  },
  {
   "cell_type": "markdown",
   "metadata": {},
   "source": [
    "Regularization leads to a much slower learning pace, so this time we will be training for more epochs - at least 20. We also use, as before, 4% of the data for validation and we want the training to end if there is no improvement for four epochs (this time four - because training will be much more difficult for the network with regularization).  \n",
    "The training will take some time, so patience..."
   ]
  },
  {
   "cell_type": "markdown",
   "metadata": {},
   "source": [
    "<div class=\"alert alert-block alert-success\">\n",
    "⚠️TASK 7\n",
    "<br>\n",
    "\n",
    "Fill out the code below and run the cells.\n",
    "\n",
    "</div>"
   ]
  },
  {
   "cell_type": "code",
   "execution_count": 120,
   "metadata": {
    "scrolled": true
   },
   "outputs": [
    {
     "name": "stdout",
     "output_type": "stream",
     "text": [
      "Epoch 1/20\n",
      "270/270 [==============================] - 1s 4ms/step - loss: 0.7987 - accuracy: 0.5831 - val_loss: 0.7002 - val_accuracy: 0.5833\n",
      "Epoch 2/20\n",
      "270/270 [==============================] - 1s 3ms/step - loss: 0.6372 - accuracy: 0.6493 - val_loss: 0.6490 - val_accuracy: 0.6083\n",
      "Epoch 3/20\n",
      "270/270 [==============================] - 1s 3ms/step - loss: 0.5737 - accuracy: 0.7042 - val_loss: 0.5978 - val_accuracy: 0.6583\n",
      "Epoch 4/20\n",
      "270/270 [==============================] - 1s 3ms/step - loss: 0.5249 - accuracy: 0.7362 - val_loss: 0.5156 - val_accuracy: 0.7417\n",
      "Epoch 5/20\n",
      "270/270 [==============================] - 1s 3ms/step - loss: 0.4785 - accuracy: 0.7738 - val_loss: 0.4935 - val_accuracy: 0.7694\n",
      "Epoch 6/20\n",
      "270/270 [==============================] - 1s 3ms/step - loss: 0.4337 - accuracy: 0.7997 - val_loss: 0.4936 - val_accuracy: 0.7722\n",
      "Epoch 7/20\n",
      "270/270 [==============================] - 1s 3ms/step - loss: 0.4057 - accuracy: 0.8116 - val_loss: 0.4835 - val_accuracy: 0.7611\n",
      "Epoch 8/20\n",
      "270/270 [==============================] - 1s 3ms/step - loss: 0.3718 - accuracy: 0.8353 - val_loss: 0.4806 - val_accuracy: 0.7806\n",
      "Epoch 9/20\n",
      "270/270 [==============================] - 1s 3ms/step - loss: 0.3363 - accuracy: 0.8516 - val_loss: 0.6296 - val_accuracy: 0.7583\n",
      "Epoch 10/20\n",
      "270/270 [==============================] - 1s 3ms/step - loss: 0.3044 - accuracy: 0.8678 - val_loss: 0.5274 - val_accuracy: 0.7500\n",
      "Epoch 11/20\n",
      "270/270 [==============================] - 1s 3ms/step - loss: 0.2733 - accuracy: 0.8830 - val_loss: 0.5593 - val_accuracy: 0.7750\n",
      "Epoch 12/20\n",
      "270/270 [==============================] - 1s 3ms/step - loss: 0.2569 - accuracy: 0.8919 - val_loss: 0.5014 - val_accuracy: 0.7722\n"
     ]
    }
   ],
   "source": [
    "stop_early = EarlyStopping(patience=4)\n",
    "history = model.fit(X_train, y_train, epochs=20, validation_split=0.04, callbacks=[stop_early])"
   ]
  },
  {
   "cell_type": "markdown",
   "metadata": {},
   "source": [
    "It can be seen that with the successive epochs the network correctness increases linearly for training data, while for validation data we observe significant variability with a tendency to improve correctness (and cost, i.e. `val_loss`). However, the network does not achieve a higher validation rate than 84% on validation data (we would have to build a bigger network for this). The training ends before the end of 20 epochs because we no longer see any improvement. We can now check the correctness on the test data. But before that - the chart of changes in correctness on training and validation data:"
   ]
  },
  {
   "cell_type": "code",
   "execution_count": 122,
   "metadata": {},
   "outputs": [
    {
     "data": {
      "text/plain": [
       "<matplotlib.legend.Legend at 0x1a461cc7b08>"
      ]
     },
     "execution_count": 122,
     "metadata": {},
     "output_type": "execute_result"
    },
    {
     "data": {
      "image/png": "[encoded data removed]",
      "text/plain": [
       "<Figure size 432x288 with 1 Axes>"
      ]
     },
     "metadata": {
      "needs_background": "light"
     },
     "output_type": "display_data"
    }
   ],
   "source": [
    "plt.plot(history.history['accuracy'], label='training')\n",
    "plt.plot(history.history['val_accuracy'], label='validation')\n",
    "plt.ylabel('Accuracy')\n",
    "plt.legend()"
   ]
  },
  {
   "cell_type": "code",
   "execution_count": 123,
   "metadata": {},
   "outputs": [
    {
     "name": "stdout",
     "output_type": "stream",
     "text": [
      "282/282 [==============================] - 0s 2ms/step - loss: 0.2480 - accuracy: 0.9121\n",
      "Accuracy on the training data:\n",
      "0.9121111035346985\n",
      "32/32 [==============================] - 0s 2ms/step - loss: 0.5592 - accuracy: 0.7470\n",
      "\n",
      "Accuracy on the test data:\n",
      "0.746999979019165\n"
     ]
    }
   ],
   "source": [
    "train_corr = model.evaluate(X_train, y_train)[1]\n",
    "print('Accuracy on the training data:')\n",
    "print(train_corr)\n",
    "\n",
    "test_corr = model.evaluate(X_test, y_test)[1]\n",
    "print('\\nAccuracy on the test data:')\n",
    "print(test_corr)"
   ]
  },
  {
   "cell_type": "markdown",
   "metadata": {},
   "source": [
    "Using reguralization, we come to the correctness slightly above 78%, almost 80%. This is a significant improvement, but we are still far from human correctness. However, we have seen that the networks do not understand the picture as we do - a picture that is an incomprehensible noise can convince the net that it has to do with a dog."
   ]
  },
  {
   "cell_type": "markdown",
   "metadata": {},
   "source": [
    "This is still not a model that we would be satisfied with in practice, but for playing on a weak computer it is ok. To have better accuracy, we would also need more data - i.e. all 25,000 photos to be loaded. We could also increase the scaling (currently we are scaling all the photos to 50 by 50 pixels - in this size some photos will be difficult to identify.  \n",
    "Also, with `25,000` photos you actually produce up to half a million photos - by rotating, scaling and cropping the photos (this can be done automatically using `keras.preprocessing.image.ImageDataGenerator`. This number of examples would lead our network to have much better accuracy.  <br><br>\n",
    "Another strategy is to use a network previously trained on millions of photos (there are a lot of such public domain architectures - including some very well known architectures) and stick several hundred neurons to its top layers to classify dog vs. cat. Then the training would take place on such a hybrid network - a large part of it would be frozen, already trained before, and only the final layer (or layers) are trained using the available data. This kind of strategy is called *transfer learning*, it is the last of our struggle with image analysis. We won't take full advantage of *transfer learning* here - and we'll only see how helpful the networks already trained on millions of images are."
   ]
  },
  {
   "cell_type": "markdown",
   "metadata": {},
   "source": [
    "## Transfer learning\n",
    "We will use the ResNet50 network, which together with the weights can be downloaded from the web using the Keras library:"
   ]
  },
  {
   "cell_type": "code",
   "execution_count": 81,
   "metadata": {
    "collapsed": true
   },
   "outputs": [],
   "source": [
    "from keras.applications import ResNet50\n",
    "\n",
    "resnet_model = ResNet50()"
   ]
  },
  {
   "cell_type": "markdown",
   "metadata": {},
   "source": [
    "In my case, the network weights are not downloaded because I downloaded them earlier. It may take 1-8 minutes (depending on the connection speed) to download network scales.  \n",
    "The `ResNet50` network is huge, compared to the several layers of network we trained, let's see a summary:"
   ]
  },
  {
   "cell_type": "code",
   "execution_count": 82,
   "metadata": {
    "collapsed": true
   },
   "outputs": [
    {
     "name": "stdout",
     "output_type": "stream",
     "text": [
      "__________________________________________________________________________________________________\n",
      "Layer (type)                    Output Shape         Param #     Connected to                     \n",
      "==================================================================================================\n",
      "input_1 (InputLayer)            (None, 224, 224, 3)  0                                            \n",
      "__________________________________________________________________________________________________\n",
      "conv1 (Conv2D)                  (None, 112, 112, 64) 9472        input_1[0][0]                    \n",
      "__________________________________________________________________________________________________\n",
      "bn_conv1 (BatchNormalization)   (None, 112, 112, 64) 256         conv1[0][0]                      \n",
      "__________________________________________________________________________________________________\n",
      "activation_1 (Activation)       (None, 112, 112, 64) 0           bn_conv1[0][0]                   \n",
      "__________________________________________________________________________________________________\n",
      "max_pooling2d_7 (MaxPooling2D)  (None, 55, 55, 64)   0           activation_1[0][0]               \n",
      "__________________________________________________________________________________________________\n",
      "res2a_branch2a (Conv2D)         (None, 55, 55, 64)   4160        max_pooling2d_7[0][0]            \n",
      "__________________________________________________________________________________________________\n",
      "bn2a_branch2a (BatchNormalizati (None, 55, 55, 64)   256         res2a_branch2a[0][0]             \n",
      "__________________________________________________________________________________________________\n",
      "activation_2 (Activation)       (None, 55, 55, 64)   0           bn2a_branch2a[0][0]              \n",
      "__________________________________________________________________________________________________\n",
      "res2a_branch2b (Conv2D)         (None, 55, 55, 64)   36928       activation_2[0][0]               \n",
      "__________________________________________________________________________________________________\n",
      "bn2a_branch2b (BatchNormalizati (None, 55, 55, 64)   256         res2a_branch2b[0][0]             \n",
      "__________________________________________________________________________________________________\n",
      "activation_3 (Activation)       (None, 55, 55, 64)   0           bn2a_branch2b[0][0]              \n",
      "__________________________________________________________________________________________________\n",
      "res2a_branch2c (Conv2D)         (None, 55, 55, 256)  16640       activation_3[0][0]               \n",
      "__________________________________________________________________________________________________\n",
      "res2a_branch1 (Conv2D)          (None, 55, 55, 256)  16640       max_pooling2d_7[0][0]            \n",
      "__________________________________________________________________________________________________\n",
      "bn2a_branch2c (BatchNormalizati (None, 55, 55, 256)  1024        res2a_branch2c[0][0]             \n",
      "__________________________________________________________________________________________________\n",
      "bn2a_branch1 (BatchNormalizatio (None, 55, 55, 256)  1024        res2a_branch1[0][0]              \n",
      "__________________________________________________________________________________________________\n",
      "add_1 (Add)                     (None, 55, 55, 256)  0           bn2a_branch2c[0][0]              \n",
      "                                                                 bn2a_branch1[0][0]               \n",
      "__________________________________________________________________________________________________\n",
      "activation_4 (Activation)       (None, 55, 55, 256)  0           add_1[0][0]                      \n",
      "__________________________________________________________________________________________________\n",
      "res2b_branch2a (Conv2D)         (None, 55, 55, 64)   16448       activation_4[0][0]               \n",
      "__________________________________________________________________________________________________\n",
      "bn2b_branch2a (BatchNormalizati (None, 55, 55, 64)   256         res2b_branch2a[0][0]             \n",
      "__________________________________________________________________________________________________\n",
      "activation_5 (Activation)       (None, 55, 55, 64)   0           bn2b_branch2a[0][0]              \n",
      "__________________________________________________________________________________________________\n",
      "res2b_branch2b (Conv2D)         (None, 55, 55, 64)   36928       activation_5[0][0]               \n",
      "__________________________________________________________________________________________________\n",
      "bn2b_branch2b (BatchNormalizati (None, 55, 55, 64)   256         res2b_branch2b[0][0]             \n",
      "__________________________________________________________________________________________________\n",
      "activation_6 (Activation)       (None, 55, 55, 64)   0           bn2b_branch2b[0][0]              \n",
      "__________________________________________________________________________________________________\n",
      "res2b_branch2c (Conv2D)         (None, 55, 55, 256)  16640       activation_6[0][0]               \n",
      "__________________________________________________________________________________________________\n",
      "bn2b_branch2c (BatchNormalizati (None, 55, 55, 256)  1024        res2b_branch2c[0][0]             \n",
      "__________________________________________________________________________________________________\n",
      "add_2 (Add)                     (None, 55, 55, 256)  0           bn2b_branch2c[0][0]              \n",
      "                                                                 activation_4[0][0]               \n",
      "__________________________________________________________________________________________________\n",
      "activation_7 (Activation)       (None, 55, 55, 256)  0           add_2[0][0]                      \n",
      "__________________________________________________________________________________________________\n",
      "res2c_branch2a (Conv2D)         (None, 55, 55, 64)   16448       activation_7[0][0]               \n",
      "__________________________________________________________________________________________________\n",
      "bn2c_branch2a (BatchNormalizati (None, 55, 55, 64)   256         res2c_branch2a[0][0]             \n",
      "__________________________________________________________________________________________________\n",
      "activation_8 (Activation)       (None, 55, 55, 64)   0           bn2c_branch2a[0][0]              \n",
      "__________________________________________________________________________________________________\n",
      "res2c_branch2b (Conv2D)         (None, 55, 55, 64)   36928       activation_8[0][0]               \n",
      "__________________________________________________________________________________________________\n",
      "bn2c_branch2b (BatchNormalizati (None, 55, 55, 64)   256         res2c_branch2b[0][0]             \n",
      "__________________________________________________________________________________________________\n",
      "activation_9 (Activation)       (None, 55, 55, 64)   0           bn2c_branch2b[0][0]              \n",
      "__________________________________________________________________________________________________\n",
      "res2c_branch2c (Conv2D)         (None, 55, 55, 256)  16640       activation_9[0][0]               \n",
      "__________________________________________________________________________________________________\n",
      "bn2c_branch2c (BatchNormalizati (None, 55, 55, 256)  1024        res2c_branch2c[0][0]             \n",
      "__________________________________________________________________________________________________\n",
      "add_3 (Add)                     (None, 55, 55, 256)  0           bn2c_branch2c[0][0]              \n",
      "                                                                 activation_7[0][0]               \n",
      "__________________________________________________________________________________________________\n",
      "activation_10 (Activation)      (None, 55, 55, 256)  0           add_3[0][0]                      \n",
      "__________________________________________________________________________________________________\n",
      "res3a_branch2a (Conv2D)         (None, 28, 28, 128)  32896       activation_10[0][0]              \n",
      "__________________________________________________________________________________________________\n",
      "bn3a_branch2a (BatchNormalizati (None, 28, 28, 128)  512         res3a_branch2a[0][0]             \n",
      "__________________________________________________________________________________________________\n",
      "activation_11 (Activation)      (None, 28, 28, 128)  0           bn3a_branch2a[0][0]              \n",
      "__________________________________________________________________________________________________\n",
      "res3a_branch2b (Conv2D)         (None, 28, 28, 128)  147584      activation_11[0][0]              \n",
      "__________________________________________________________________________________________________\n",
      "bn3a_branch2b (BatchNormalizati (None, 28, 28, 128)  512         res3a_branch2b[0][0]             \n",
      "__________________________________________________________________________________________________\n",
      "activation_12 (Activation)      (None, 28, 28, 128)  0           bn3a_branch2b[0][0]              \n",
      "__________________________________________________________________________________________________\n",
      "res3a_branch2c (Conv2D)         (None, 28, 28, 512)  66048       activation_12[0][0]              \n",
      "__________________________________________________________________________________________________\n",
      "res3a_branch1 (Conv2D)          (None, 28, 28, 512)  131584      activation_10[0][0]              \n",
      "__________________________________________________________________________________________________\n",
      "bn3a_branch2c (BatchNormalizati (None, 28, 28, 512)  2048        res3a_branch2c[0][0]             \n",
      "__________________________________________________________________________________________________\n",
      "bn3a_branch1 (BatchNormalizatio (None, 28, 28, 512)  2048        res3a_branch1[0][0]              \n",
      "__________________________________________________________________________________________________\n",
      "add_4 (Add)                     (None, 28, 28, 512)  0           bn3a_branch2c[0][0]              \n",
      "                                                                 bn3a_branch1[0][0]               \n",
      "__________________________________________________________________________________________________\n",
      "activation_13 (Activation)      (None, 28, 28, 512)  0           add_4[0][0]                      \n",
      "__________________________________________________________________________________________________\n",
      "res3b_branch2a (Conv2D)         (None, 28, 28, 128)  65664       activation_13[0][0]              \n",
      "__________________________________________________________________________________________________\n",
      "bn3b_branch2a (BatchNormalizati (None, 28, 28, 128)  512         res3b_branch2a[0][0]             \n",
      "__________________________________________________________________________________________________\n",
      "activation_14 (Activation)      (None, 28, 28, 128)  0           bn3b_branch2a[0][0]              \n",
      "__________________________________________________________________________________________________\n",
      "res3b_branch2b (Conv2D)         (None, 28, 28, 128)  147584      activation_14[0][0]              \n",
      "__________________________________________________________________________________________________\n",
      "bn3b_branch2b (BatchNormalizati (None, 28, 28, 128)  512         res3b_branch2b[0][0]             \n",
      "__________________________________________________________________________________________________\n",
      "activation_15 (Activation)      (None, 28, 28, 128)  0           bn3b_branch2b[0][0]              \n",
      "__________________________________________________________________________________________________\n",
      "res3b_branch2c (Conv2D)         (None, 28, 28, 512)  66048       activation_15[0][0]              \n",
      "__________________________________________________________________________________________________\n",
      "bn3b_branch2c (BatchNormalizati (None, 28, 28, 512)  2048        res3b_branch2c[0][0]             \n",
      "__________________________________________________________________________________________________\n",
      "add_5 (Add)                     (None, 28, 28, 512)  0           bn3b_branch2c[0][0]              \n",
      "                                                                 activation_13[0][0]              \n",
      "__________________________________________________________________________________________________\n",
      "activation_16 (Activation)      (None, 28, 28, 512)  0           add_5[0][0]                      \n",
      "__________________________________________________________________________________________________\n",
      "res3c_branch2a (Conv2D)         (None, 28, 28, 128)  65664       activation_16[0][0]              \n",
      "__________________________________________________________________________________________________\n",
      "bn3c_branch2a (BatchNormalizati (None, 28, 28, 128)  512         res3c_branch2a[0][0]             \n",
      "__________________________________________________________________________________________________\n",
      "activation_17 (Activation)      (None, 28, 28, 128)  0           bn3c_branch2a[0][0]              \n",
      "__________________________________________________________________________________________________\n",
      "res3c_branch2b (Conv2D)         (None, 28, 28, 128)  147584      activation_17[0][0]              \n",
      "__________________________________________________________________________________________________\n",
      "bn3c_branch2b (BatchNormalizati (None, 28, 28, 128)  512         res3c_branch2b[0][0]             \n",
      "__________________________________________________________________________________________________\n",
      "activation_18 (Activation)      (None, 28, 28, 128)  0           bn3c_branch2b[0][0]              \n",
      "__________________________________________________________________________________________________\n",
      "res3c_branch2c (Conv2D)         (None, 28, 28, 512)  66048       activation_18[0][0]              \n",
      "__________________________________________________________________________________________________\n",
      "bn3c_branch2c (BatchNormalizati (None, 28, 28, 512)  2048        res3c_branch2c[0][0]             \n",
      "__________________________________________________________________________________________________\n",
      "add_6 (Add)                     (None, 28, 28, 512)  0           bn3c_branch2c[0][0]              \n",
      "                                                                 activation_16[0][0]              \n",
      "__________________________________________________________________________________________________\n",
      "activation_19 (Activation)      (None, 28, 28, 512)  0           add_6[0][0]                      \n",
      "__________________________________________________________________________________________________\n",
      "res3d_branch2a (Conv2D)         (None, 28, 28, 128)  65664       activation_19[0][0]              \n",
      "__________________________________________________________________________________________________\n",
      "bn3d_branch2a (BatchNormalizati (None, 28, 28, 128)  512         res3d_branch2a[0][0]             \n",
      "__________________________________________________________________________________________________\n",
      "activation_20 (Activation)      (None, 28, 28, 128)  0           bn3d_branch2a[0][0]              \n",
      "__________________________________________________________________________________________________\n",
      "res3d_branch2b (Conv2D)         (None, 28, 28, 128)  147584      activation_20[0][0]              \n",
      "__________________________________________________________________________________________________\n",
      "bn3d_branch2b (BatchNormalizati (None, 28, 28, 128)  512         res3d_branch2b[0][0]             \n",
      "__________________________________________________________________________________________________\n",
      "activation_21 (Activation)      (None, 28, 28, 128)  0           bn3d_branch2b[0][0]              \n",
      "__________________________________________________________________________________________________\n",
      "res3d_branch2c (Conv2D)         (None, 28, 28, 512)  66048       activation_21[0][0]              \n",
      "__________________________________________________________________________________________________\n",
      "bn3d_branch2c (BatchNormalizati (None, 28, 28, 512)  2048        res3d_branch2c[0][0]             \n",
      "__________________________________________________________________________________________________\n",
      "add_7 (Add)                     (None, 28, 28, 512)  0           bn3d_branch2c[0][0]              \n",
      "                                                                 activation_19[0][0]              \n",
      "__________________________________________________________________________________________________\n",
      "activation_22 (Activation)      (None, 28, 28, 512)  0           add_7[0][0]                      \n",
      "__________________________________________________________________________________________________\n",
      "res4a_branch2a (Conv2D)         (None, 14, 14, 256)  131328      activation_22[0][0]              \n",
      "__________________________________________________________________________________________________\n",
      "bn4a_branch2a (BatchNormalizati (None, 14, 14, 256)  1024        res4a_branch2a[0][0]             \n",
      "__________________________________________________________________________________________________\n",
      "activation_23 (Activation)      (None, 14, 14, 256)  0           bn4a_branch2a[0][0]              \n",
      "__________________________________________________________________________________________________\n",
      "res4a_branch2b (Conv2D)         (None, 14, 14, 256)  590080      activation_23[0][0]              \n",
      "__________________________________________________________________________________________________\n",
      "bn4a_branch2b (BatchNormalizati (None, 14, 14, 256)  1024        res4a_branch2b[0][0]             \n",
      "__________________________________________________________________________________________________\n",
      "activation_24 (Activation)      (None, 14, 14, 256)  0           bn4a_branch2b[0][0]              \n",
      "__________________________________________________________________________________________________\n",
      "res4a_branch2c (Conv2D)         (None, 14, 14, 1024) 263168      activation_24[0][0]              \n",
      "__________________________________________________________________________________________________\n",
      "res4a_branch1 (Conv2D)          (None, 14, 14, 1024) 525312      activation_22[0][0]              \n",
      "__________________________________________________________________________________________________\n",
      "bn4a_branch2c (BatchNormalizati (None, 14, 14, 1024) 4096        res4a_branch2c[0][0]             \n",
      "__________________________________________________________________________________________________\n",
      "bn4a_branch1 (BatchNormalizatio (None, 14, 14, 1024) 4096        res4a_branch1[0][0]              \n",
      "__________________________________________________________________________________________________\n",
      "add_8 (Add)                     (None, 14, 14, 1024) 0           bn4a_branch2c[0][0]              \n",
      "                                                                 bn4a_branch1[0][0]               \n",
      "__________________________________________________________________________________________________\n",
      "activation_25 (Activation)      (None, 14, 14, 1024) 0           add_8[0][0]                      \n",
      "__________________________________________________________________________________________________\n",
      "res4b_branch2a (Conv2D)         (None, 14, 14, 256)  262400      activation_25[0][0]              \n",
      "__________________________________________________________________________________________________\n",
      "bn4b_branch2a (BatchNormalizati (None, 14, 14, 256)  1024        res4b_branch2a[0][0]             \n",
      "__________________________________________________________________________________________________\n",
      "activation_26 (Activation)      (None, 14, 14, 256)  0           bn4b_branch2a[0][0]              \n",
      "__________________________________________________________________________________________________\n",
      "res4b_branch2b (Conv2D)         (None, 14, 14, 256)  590080      activation_26[0][0]              \n",
      "__________________________________________________________________________________________________\n",
      "bn4b_branch2b (BatchNormalizati (None, 14, 14, 256)  1024        res4b_branch2b[0][0]             \n",
      "__________________________________________________________________________________________________\n",
      "activation_27 (Activation)      (None, 14, 14, 256)  0           bn4b_branch2b[0][0]              \n",
      "__________________________________________________________________________________________________\n",
      "res4b_branch2c (Conv2D)         (None, 14, 14, 1024) 263168      activation_27[0][0]              \n",
      "__________________________________________________________________________________________________\n",
      "bn4b_branch2c (BatchNormalizati (None, 14, 14, 1024) 4096        res4b_branch2c[0][0]             \n",
      "__________________________________________________________________________________________________\n",
      "add_9 (Add)                     (None, 14, 14, 1024) 0           bn4b_branch2c[0][0]              \n",
      "                                                                 activation_25[0][0]              \n",
      "__________________________________________________________________________________________________\n",
      "activation_28 (Activation)      (None, 14, 14, 1024) 0           add_9[0][0]                      \n",
      "__________________________________________________________________________________________________\n",
      "res4c_branch2a (Conv2D)         (None, 14, 14, 256)  262400      activation_28[0][0]              \n",
      "__________________________________________________________________________________________________\n",
      "bn4c_branch2a (BatchNormalizati (None, 14, 14, 256)  1024        res4c_branch2a[0][0]             \n",
      "__________________________________________________________________________________________________\n",
      "activation_29 (Activation)      (None, 14, 14, 256)  0           bn4c_branch2a[0][0]              \n",
      "__________________________________________________________________________________________________\n",
      "res4c_branch2b (Conv2D)         (None, 14, 14, 256)  590080      activation_29[0][0]              \n",
      "__________________________________________________________________________________________________\n",
      "bn4c_branch2b (BatchNormalizati (None, 14, 14, 256)  1024        res4c_branch2b[0][0]             \n",
      "__________________________________________________________________________________________________\n",
      "activation_30 (Activation)      (None, 14, 14, 256)  0           bn4c_branch2b[0][0]              \n",
      "__________________________________________________________________________________________________\n",
      "res4c_branch2c (Conv2D)         (None, 14, 14, 1024) 263168      activation_30[0][0]              \n",
      "__________________________________________________________________________________________________\n",
      "bn4c_branch2c (BatchNormalizati (None, 14, 14, 1024) 4096        res4c_branch2c[0][0]             \n",
      "__________________________________________________________________________________________________\n",
      "add_10 (Add)                    (None, 14, 14, 1024) 0           bn4c_branch2c[0][0]              \n",
      "                                                                 activation_28[0][0]              \n",
      "__________________________________________________________________________________________________\n",
      "activation_31 (Activation)      (None, 14, 14, 1024) 0           add_10[0][0]                     \n",
      "__________________________________________________________________________________________________\n",
      "res4d_branch2a (Conv2D)         (None, 14, 14, 256)  262400      activation_31[0][0]              \n",
      "__________________________________________________________________________________________________\n",
      "bn4d_branch2a (BatchNormalizati (None, 14, 14, 256)  1024        res4d_branch2a[0][0]             \n",
      "__________________________________________________________________________________________________\n",
      "activation_32 (Activation)      (None, 14, 14, 256)  0           bn4d_branch2a[0][0]              \n",
      "__________________________________________________________________________________________________\n",
      "res4d_branch2b (Conv2D)         (None, 14, 14, 256)  590080      activation_32[0][0]              \n",
      "__________________________________________________________________________________________________\n",
      "bn4d_branch2b (BatchNormalizati (None, 14, 14, 256)  1024        res4d_branch2b[0][0]             \n",
      "__________________________________________________________________________________________________\n",
      "activation_33 (Activation)      (None, 14, 14, 256)  0           bn4d_branch2b[0][0]              \n",
      "__________________________________________________________________________________________________\n",
      "res4d_branch2c (Conv2D)         (None, 14, 14, 1024) 263168      activation_33[0][0]              \n",
      "__________________________________________________________________________________________________\n",
      "bn4d_branch2c (BatchNormalizati (None, 14, 14, 1024) 4096        res4d_branch2c[0][0]             \n",
      "__________________________________________________________________________________________________\n",
      "add_11 (Add)                    (None, 14, 14, 1024) 0           bn4d_branch2c[0][0]              \n",
      "                                                                 activation_31[0][0]              \n",
      "__________________________________________________________________________________________________\n",
      "activation_34 (Activation)      (None, 14, 14, 1024) 0           add_11[0][0]                     \n",
      "__________________________________________________________________________________________________\n",
      "res4e_branch2a (Conv2D)         (None, 14, 14, 256)  262400      activation_34[0][0]              \n",
      "__________________________________________________________________________________________________\n",
      "bn4e_branch2a (BatchNormalizati (None, 14, 14, 256)  1024        res4e_branch2a[0][0]             \n",
      "__________________________________________________________________________________________________\n",
      "activation_35 (Activation)      (None, 14, 14, 256)  0           bn4e_branch2a[0][0]              \n",
      "__________________________________________________________________________________________________\n",
      "res4e_branch2b (Conv2D)         (None, 14, 14, 256)  590080      activation_35[0][0]              \n",
      "__________________________________________________________________________________________________\n",
      "bn4e_branch2b (BatchNormalizati (None, 14, 14, 256)  1024        res4e_branch2b[0][0]             \n",
      "__________________________________________________________________________________________________\n",
      "activation_36 (Activation)      (None, 14, 14, 256)  0           bn4e_branch2b[0][0]              \n",
      "__________________________________________________________________________________________________\n",
      "res4e_branch2c (Conv2D)         (None, 14, 14, 1024) 263168      activation_36[0][0]              \n",
      "__________________________________________________________________________________________________\n",
      "bn4e_branch2c (BatchNormalizati (None, 14, 14, 1024) 4096        res4e_branch2c[0][0]             \n",
      "__________________________________________________________________________________________________\n",
      "add_12 (Add)                    (None, 14, 14, 1024) 0           bn4e_branch2c[0][0]              \n",
      "                                                                 activation_34[0][0]              \n",
      "__________________________________________________________________________________________________\n",
      "activation_37 (Activation)      (None, 14, 14, 1024) 0           add_12[0][0]                     \n",
      "__________________________________________________________________________________________________\n",
      "res4f_branch2a (Conv2D)         (None, 14, 14, 256)  262400      activation_37[0][0]              \n",
      "__________________________________________________________________________________________________\n",
      "bn4f_branch2a (BatchNormalizati (None, 14, 14, 256)  1024        res4f_branch2a[0][0]             \n",
      "__________________________________________________________________________________________________\n",
      "activation_38 (Activation)      (None, 14, 14, 256)  0           bn4f_branch2a[0][0]              \n",
      "__________________________________________________________________________________________________\n",
      "res4f_branch2b (Conv2D)         (None, 14, 14, 256)  590080      activation_38[0][0]              \n",
      "__________________________________________________________________________________________________\n",
      "bn4f_branch2b (BatchNormalizati (None, 14, 14, 256)  1024        res4f_branch2b[0][0]             \n",
      "__________________________________________________________________________________________________\n",
      "activation_39 (Activation)      (None, 14, 14, 256)  0           bn4f_branch2b[0][0]              \n",
      "__________________________________________________________________________________________________\n",
      "res4f_branch2c (Conv2D)         (None, 14, 14, 1024) 263168      activation_39[0][0]              \n",
      "__________________________________________________________________________________________________\n",
      "bn4f_branch2c (BatchNormalizati (None, 14, 14, 1024) 4096        res4f_branch2c[0][0]             \n",
      "__________________________________________________________________________________________________\n",
      "add_13 (Add)                    (None, 14, 14, 1024) 0           bn4f_branch2c[0][0]              \n",
      "                                                                 activation_37[0][0]              \n",
      "__________________________________________________________________________________________________\n",
      "activation_40 (Activation)      (None, 14, 14, 1024) 0           add_13[0][0]                     \n",
      "__________________________________________________________________________________________________\n",
      "res5a_branch2a (Conv2D)         (None, 7, 7, 512)    524800      activation_40[0][0]              \n",
      "__________________________________________________________________________________________________\n",
      "bn5a_branch2a (BatchNormalizati (None, 7, 7, 512)    2048        res5a_branch2a[0][0]             \n",
      "__________________________________________________________________________________________________\n",
      "activation_41 (Activation)      (None, 7, 7, 512)    0           bn5a_branch2a[0][0]              \n",
      "__________________________________________________________________________________________________\n",
      "res5a_branch2b (Conv2D)         (None, 7, 7, 512)    2359808     activation_41[0][0]              \n",
      "__________________________________________________________________________________________________\n",
      "bn5a_branch2b (BatchNormalizati (None, 7, 7, 512)    2048        res5a_branch2b[0][0]             \n",
      "__________________________________________________________________________________________________\n",
      "activation_42 (Activation)      (None, 7, 7, 512)    0           bn5a_branch2b[0][0]              \n",
      "__________________________________________________________________________________________________\n",
      "res5a_branch2c (Conv2D)         (None, 7, 7, 2048)   1050624     activation_42[0][0]              \n",
      "__________________________________________________________________________________________________\n",
      "res5a_branch1 (Conv2D)          (None, 7, 7, 2048)   2099200     activation_40[0][0]              \n",
      "__________________________________________________________________________________________________\n",
      "bn5a_branch2c (BatchNormalizati (None, 7, 7, 2048)   8192        res5a_branch2c[0][0]             \n",
      "__________________________________________________________________________________________________\n",
      "bn5a_branch1 (BatchNormalizatio (None, 7, 7, 2048)   8192        res5a_branch1[0][0]              \n",
      "__________________________________________________________________________________________________\n",
      "add_14 (Add)                    (None, 7, 7, 2048)   0           bn5a_branch2c[0][0]              \n",
      "                                                                 bn5a_branch1[0][0]               \n",
      "__________________________________________________________________________________________________\n",
      "activation_43 (Activation)      (None, 7, 7, 2048)   0           add_14[0][0]                     \n",
      "__________________________________________________________________________________________________\n",
      "res5b_branch2a (Conv2D)         (None, 7, 7, 512)    1049088     activation_43[0][0]              \n",
      "__________________________________________________________________________________________________\n",
      "bn5b_branch2a (BatchNormalizati (None, 7, 7, 512)    2048        res5b_branch2a[0][0]             \n",
      "__________________________________________________________________________________________________\n",
      "activation_44 (Activation)      (None, 7, 7, 512)    0           bn5b_branch2a[0][0]              \n",
      "__________________________________________________________________________________________________\n",
      "res5b_branch2b (Conv2D)         (None, 7, 7, 512)    2359808     activation_44[0][0]              \n",
      "__________________________________________________________________________________________________\n",
      "bn5b_branch2b (BatchNormalizati (None, 7, 7, 512)    2048        res5b_branch2b[0][0]             \n",
      "__________________________________________________________________________________________________\n",
      "activation_45 (Activation)      (None, 7, 7, 512)    0           bn5b_branch2b[0][0]              \n",
      "__________________________________________________________________________________________________\n",
      "res5b_branch2c (Conv2D)         (None, 7, 7, 2048)   1050624     activation_45[0][0]              \n",
      "__________________________________________________________________________________________________\n",
      "bn5b_branch2c (BatchNormalizati (None, 7, 7, 2048)   8192        res5b_branch2c[0][0]             \n",
      "__________________________________________________________________________________________________\n",
      "add_15 (Add)                    (None, 7, 7, 2048)   0           bn5b_branch2c[0][0]              \n",
      "                                                                 activation_43[0][0]              \n",
      "__________________________________________________________________________________________________\n",
      "activation_46 (Activation)      (None, 7, 7, 2048)   0           add_15[0][0]                     \n",
      "__________________________________________________________________________________________________\n",
      "res5c_branch2a (Conv2D)         (None, 7, 7, 512)    1049088     activation_46[0][0]              \n",
      "__________________________________________________________________________________________________\n",
      "bn5c_branch2a (BatchNormalizati (None, 7, 7, 512)    2048        res5c_branch2a[0][0]             \n",
      "__________________________________________________________________________________________________\n",
      "activation_47 (Activation)      (None, 7, 7, 512)    0           bn5c_branch2a[0][0]              \n",
      "__________________________________________________________________________________________________\n",
      "res5c_branch2b (Conv2D)         (None, 7, 7, 512)    2359808     activation_47[0][0]              \n",
      "__________________________________________________________________________________________________\n",
      "bn5c_branch2b (BatchNormalizati (None, 7, 7, 512)    2048        res5c_branch2b[0][0]             \n",
      "__________________________________________________________________________________________________\n",
      "activation_48 (Activation)      (None, 7, 7, 512)    0           bn5c_branch2b[0][0]              \n",
      "__________________________________________________________________________________________________\n",
      "res5c_branch2c (Conv2D)         (None, 7, 7, 2048)   1050624     activation_48[0][0]              \n",
      "__________________________________________________________________________________________________\n",
      "bn5c_branch2c (BatchNormalizati (None, 7, 7, 2048)   8192        res5c_branch2c[0][0]             \n",
      "__________________________________________________________________________________________________\n",
      "add_16 (Add)                    (None, 7, 7, 2048)   0           bn5c_branch2c[0][0]              \n",
      "                                                                 activation_46[0][0]              \n",
      "__________________________________________________________________________________________________\n",
      "activation_49 (Activation)      (None, 7, 7, 2048)   0           add_16[0][0]                     \n",
      "__________________________________________________________________________________________________\n",
      "avg_pool (AveragePooling2D)     (None, 1, 1, 2048)   0           activation_49[0][0]              \n",
      "__________________________________________________________________________________________________\n",
      "flatten_3 (Flatten)             (None, 2048)         0           avg_pool[0][0]                   \n",
      "__________________________________________________________________________________________________\n",
      "fc1000 (Dense)                  (None, 1000)         2049000     flatten_3[0][0]                  \n",
      "==================================================================================================\n",
      "Total params: 25,636,712\n",
      "Trainable params: 25,583,592\n",
      "Non-trainable params: 53,120\n",
      "__________________________________________________________________________________________________\n"
     ]
    }
   ],
   "source": [
    "resnet_model.summary()"
   ]
  },
  {
   "cell_type": "markdown",
   "metadata": {},
   "source": [
    "How many parameters does the network have in total (you will find this information at the bottom of the description)? Hint: the number of parameters here is already counted in millions. Such networks are trained on many cores and many GPUs for days (and sometimes weeks) on millions of photos.\n",
    "The network is trained on the basis of `ImageNet`, which has 14 million images, and the task of the network is to identify 1000 different types of objects (including people, cars, animals, food, etc.). Among the animals, the network must not only distinguish between cats and dogs, but also distinguish between several species of dogs and cats. A network trained on this basis is therefore ideal for our task.  \n",
    "However, before we use it, we have to process our photos differently - the `ImageNet` database consists of photos with a different resolution (`224 x 224`). In addition, these images are processed a little differently for `ResNet`. So we have to load the data again."
   ]
  },
  {
   "cell_type": "markdown",
   "metadata": {},
   "source": [
    "<div class=\"alert alert-block alert-success\">\n",
    "⚠️TASK 8\n",
    "<br>\n",
    "\n",
    "Finish the code below:\n",
    "\n",
    "</div>"
   ]
  },
  {
   "cell_type": "code",
   "execution_count": 83,
   "metadata": {},
   "outputs": [
    {
     "name": "stdout",
     "output_type": "stream",
     "text": [
      "**************************************************\n",
      "**************************************************\n",
      "**************************************************\n",
      "**************************************************\n",
      "**************************************************\n",
      "**************************************************\n",
      "**************************************************\n",
      "**************************************************\n",
      "**************************************************\n",
      "**************************************************\n"
     ]
    }
   ],
   "source": [
    "X, y = load_images(img_dir, n_images=10000, resize=(__, __))"
   ]
  },
  {
   "cell_type": "markdown",
   "metadata": {},
   "source": [
    "If you have problems with RAM - you can load accordingly less photos (for example 5000)."
   ]
  },
  {
   "cell_type": "code",
   "execution_count": 85,
   "metadata": {},
   "outputs": [
    {
     "name": "stdout",
     "output_type": "stream",
     "text": [
      "Dane mają teraz 6021.12 MB\n"
     ]
    }
   ],
   "source": [
    "data_size_MB = X.size * X.itemsize / 1000000\n",
    "print('The data has now: {} MB'.format(data_size_MB))"
   ]
  },
  {
   "cell_type": "markdown",
   "metadata": {},
   "source": [
    "Let's check the network predictions for a few pictures: 1543 and 5623. Let's see these images first:"
   ]
  },
  {
   "cell_type": "markdown",
   "metadata": {},
   "source": [
    "<div class=\"alert alert-block alert-success\">\n",
    "⚠️TASK 9\n",
    "<br>\n",
    "\n",
    "Please visualise dog cat and dog picture numbers 1543 and 5623. How can we access correctly the picture numbers? Check the `images` list - the images are not sorted properly!\n",
    "\n",
    "</div>"
   ]
  },
  {
   "cell_type": "code",
   "execution_count": null,
   "metadata": {},
   "outputs": [],
   "source": []
  },
  {
   "cell_type": "markdown",
   "metadata": {},
   "source": [
    "We will now process the data to match the ResNet50 format:"
   ]
  },
  {
   "cell_type": "code",
   "execution_count": 86,
   "metadata": {
    "collapsed": true
   },
   "outputs": [],
   "source": [
    "from keras.applications.resnet50 import preprocess_input\n",
    "\n",
    "X = preprocess_input(X)"
   ]
  },
  {
   "cell_type": "markdown",
   "metadata": {},
   "source": [
    "Let's see what predictions ResNet gives for these images:"
   ]
  },
  {
   "cell_type": "code",
   "execution_count": 151,
   "metadata": {
    "collapsed": true
   },
   "outputs": [],
   "source": [
    "preds = resnet_model.predict(X)"
   ]
  },
  {
   "cell_type": "markdown",
   "metadata": {},
   "source": [
    "The `preds` is now a matrix of two lines and 1000 columns. Rows are predictions for subsequent images, and columns are categories of predictions (ImageNet is a task in which the network classifies images as belonging to one of 1000 categories). Let's display each prediction as a line:"
   ]
  },
  {
   "cell_type": "code",
   "execution_count": 153,
   "metadata": {
    "collapsed": true
   },
   "outputs": [
    {
     "data": {
      "text/plain": [
       "[<matplotlib.lines.Line2D at 0x17c617fe1d0>,\n",
       " <matplotlib.lines.Line2D at 0x17c617fe358>]"
      ]
     },
     "execution_count": 153,
     "metadata": {},
     "output_type": "execute_result"
    },
    {
     "data": {
      "image/png": "[encoded data removed]",
      "text/plain": [
       "<matplotlib.figure.Figure at 0x17c60bbd668>"
      ]
     },
     "metadata": {},
     "output_type": "display_data"
    }
   ],
   "source": [
    "plt.plot(preds.T);"
   ]
  },
  {
   "cell_type": "markdown",
   "metadata": {},
   "source": [
    "To understand what it means by which category we will use the `decode_predictions` function, giving it a `preds` matrix. We will also ask this function to give class names for only 5 classes with the highest certainty (for each prediction)."
   ]
  },
  {
   "cell_type": "code",
   "execution_count": 154,
   "metadata": {
    "collapsed": true
   },
   "outputs": [],
   "source": [
    "from keras.applications.resnet50 import decode_predictions\n",
    "\n",
    "labels = decode_predictions(preds, top=5)"
   ]
  },
  {
   "cell_type": "markdown",
   "metadata": {},
   "source": [
    "We now have translated the predictions in the `labels` variable. Let's see what predictions the network gave for the first image (cat):"
   ]
  },
  {
   "cell_type": "code",
   "execution_count": 155,
   "metadata": {},
   "outputs": [
    {
     "data": {
      "text/plain": [
       "[('n02123045', 'tabby', 0.1946047),\n",
       " ('n02971356', 'carton', 0.10414422),\n",
       " ('n03887697', 'paper_towel', 0.079770684),\n",
       " ('n02124075', 'Egyptian_cat', 0.0728737),\n",
       " ('n02123159', 'tiger_cat', 0.06724474)]"
      ]
     },
     "execution_count": 155,
     "metadata": {},
     "output_type": "execute_result"
    }
   ],
   "source": [
    "labels[0]"
   ]
  },
  {
   "cell_type": "markdown",
   "metadata": {},
   "source": [
    "tabby is a striped cat, which means the net recognizes the cat. Only 19% is a striped cat and 10% is already bet on cardboard (then 8% on a paper towel - probably because of the bright colour and human hand). And what is the prediction for the second picture?"
   ]
  },
  {
   "cell_type": "code",
   "execution_count": 156,
   "metadata": {},
   "outputs": [
    {
     "data": {
      "text/plain": [
       "[('n02093428', 'American_Staffordshire_terrier', 0.7536513),\n",
       " ('n02093256', 'Staffordshire_bullterrier', 0.10232209),\n",
       " ('n02099849', 'Chesapeake_Bay_retriever', 0.081988454),\n",
       " ('n02108089', 'boxer', 0.01993745),\n",
       " ('n02101388', 'Brittany_spaniel', 0.009274933)]"
      ]
     },
     "execution_count": 156,
     "metadata": {},
     "output_type": "execute_result"
    }
   ],
   "source": [
    "labels[1]"
   ]
  },
  {
   "cell_type": "markdown",
   "metadata": {},
   "source": [
    "75% for an American staffordshire terrier, which is the correct answer. We can see that the network is doing quite well in recognizing the animals we are interested in. How do we use it for our purposes? We have two options:\n",
    "* we use the network the way it works now and collect % confidence inside the dog category and inside the cat category and see if the cat or dog has a higher percentage\n",
    "* we cut off the last layer of the net (1000 neurons corresponding to the categories) and stick one (dog vs. cat), then we train the net on our pictures. However, we do not train the whole network, but only the last layer of the net  \n",
    "\n",
    "You will be able to use the latter solution in an additional project. For now, the end!"
   ]
  }
 ],
 "metadata": {
  "kernelspec": {
   "display_name": "Python 3",
   "language": "python",
   "name": "python3"
  },
  "language_info": {
   "codemirror_mode": {
    "name": "ipython",
    "version": 3
   },
   "file_extension": ".py",
   "mimetype": "text/x-python",
   "name": "python",
   "nbconvert_exporter": "python",
   "pygments_lexer": "ipython3",
   "version": "3.7.7"
  }
 },
 "nbformat": 4,
 "nbformat_minor": 2
}
