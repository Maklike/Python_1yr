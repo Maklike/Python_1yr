{
 "cells": [
  {
   "cell_type": "markdown",
   "metadata": {},
   "source": [
    "# <div style=\"text-align: center\"> Introduction to Python and Machine Learning\n",
    "\n",
    "## <div style=\"text-align: center\">Machine Learning in Python (III) - Neural Networks"
   ]
  },
  {
   "cell_type": "markdown",
   "metadata": {},
   "source": [
    "![logo](data:image/jpeg;base64,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)\n",
    "![logo2](https://efs.mrpips.gov.pl/__data/assets/image/0014/11336/04_zestawienie_power_rp_ue_efs.png)"
   ]
  },
  {
   "cell_type": "markdown",
   "metadata": {},
   "source": [
    "---"
   ]
  },
  {
   "cell_type": "markdown",
   "metadata": {},
   "source": [
    "In order to display the points we use the predefined (by us) `plot_decision` function."
   ]
  },
  {
   "cell_type": "code",
   "execution_count": 5,
   "metadata": {},
   "outputs": [],
   "source": [
    "# the following means \"from imports_for_ML.py import everything\"\n",
    "from imports_for_ML import *\n",
    "\n",
    "%matplotlib inline"
   ]
  },
  {
   "cell_type": "markdown",
   "metadata": {},
   "source": [
    "---"
   ]
  },
  {
   "cell_type": "markdown",
   "metadata": {},
   "source": [
    "# Neural networks algorithms"
   ]
  },
  {
   "cell_type": "markdown",
   "metadata": {},
   "source": [
    "<div class=\"alert alert-block alert-info\">\n",
    "📺 ************* WATCH AT HOME - a WONDERFUL introduction to Artificial Neural Networks *************\n",
    "<br>\n",
    "\n",
    "https://www.3blue1brown.com/neural-networks\n",
    "\n",
    "</div>"
   ]
  },
  {
   "cell_type": "markdown",
   "metadata": {},
   "source": [
    "# Neural networks\n",
    "Our plan:\n",
    "* Introduction to the Keras library.\n",
    "* The simplest neural network, equivalent of logistic regression\n",
    "* Examples of neural network behavior with different number of neurons and layers for simple data with two predictive factors\n",
    "* A neural network implemented on Titanic data\n",
    "\n",
    "Then we will move on to the use of neural networks in image analysis."
   ]
  },
  {
   "cell_type": "markdown",
   "metadata": {},
   "source": [
    "<div class=\"alert alert-block alert-info\">\n",
    "📺 ************* WATCH AT HOME *************\n",
    "<br>\n",
    "\n",
    "[Keras Explained](https://www.youtube.com/watch?v=j_pJmXJwMLA)\n",
    "\n",
    "[Layers in a Neural Network explained](https://www.youtube.com/watch?v=FK77zZxaBoI)\n",
    "\n",
    "</div>"
   ]
  },
  {
   "cell_type": "markdown",
   "metadata": {},
   "source": [
    "<div class=\"alert alert-block alert-info\">\n",
    "📺 ************* WATCH AT HOME *************\n",
    "<br>\n",
    "\n",
    "[Which Activation Function Should I Use? - VERY GOOD VIDEO about RELU!](https://www.youtube.com/watch?v=-7scQpJT7uo)\n",
    "\n",
    "[Activation Functions in a Neural Network explained](https://www.youtube.com/watch?v=m0pIlLfpXWE)\n",
    "\n",
    "</div>"
   ]
  },
  {
   "cell_type": "markdown",
   "metadata": {},
   "source": [
    "`Keras` is the simplest library for neural networks in Python. It is high-level, which means that many details are done automatically, and allows us to focus on the \"big picture\". Keras is known for its well-designed API (programming interface), which makes it very convenient to use. Today we will use a simple sequential network (`Sequential`), for which subsequent layers are connected on a case-by-case basis (`Dense` type connection).  \n",
    "\n",
    "Installing keras (from the `Anaconda Prompt` application): \n",
    "\n",
    "`conda install keras`\n",
    "\n",
    "OR\n",
    "\n",
    "`pip install keras`\n",
    "\n",
    "---\n",
    "\n",
    "We will import the appropriate objects first:"
   ]
  },
  {
   "cell_type": "code",
   "execution_count": 1,
   "metadata": {},
   "outputs": [
    {
     "data": {
      "text/plain": [
       "'2.4.3'"
      ]
     },
     "execution_count": 1,
     "metadata": {},
     "output_type": "execute_result"
    }
   ],
   "source": [
    "import keras\n",
    "keras.__version__"
   ]
  },
  {
   "cell_type": "code",
   "execution_count": 2,
   "metadata": {},
   "outputs": [
    {
     "data": {
      "text/plain": [
       "'2.3.0'"
      ]
     },
     "execution_count": 2,
     "metadata": {},
     "output_type": "execute_result"
    }
   ],
   "source": [
    "import tensorflow\n",
    "tensorflow.__version__"
   ]
  },
  {
   "cell_type": "code",
   "execution_count": 3,
   "metadata": {},
   "outputs": [],
   "source": [
    "from keras.models import Sequential\n",
    "from keras.layers import Dense"
   ]
  },
  {
   "cell_type": "code",
   "execution_count": 4,
   "metadata": {},
   "outputs": [],
   "source": [
    "from tensorflow.keras.models import Sequential\n",
    "from tensorflow.keras.layers import Dense"
   ]
  },
  {
   "cell_type": "markdown",
   "metadata": {},
   "source": [
    "<div class=\"alert alert-block alert-success\">\n",
    "⚠️TASK 1\n",
    "<br>\n",
    "\n",
    "We will also create an artificial dataset using the `make_moons` function. We would like to create `250` points, with a noise level of `0.25` and a `random_state` as `23` (to get similar results on the n-th run of our function):\n",
    "\n",
    "</div>"
   ]
  },
  {
   "cell_type": "code",
   "execution_count": 7,
   "metadata": {},
   "outputs": [
    {
     "ename": "ModuleNotFoundError",
     "evalue": "No module named 'sklearn'",
     "output_type": "error",
     "traceback": [
      "\u001b[1;31m---------------------------------------------------------------------------\u001b[0m",
      "\u001b[1;31mModuleNotFoundError\u001b[0m                       Traceback (most recent call last)",
      "\u001b[1;32m<ipython-input-7-844fa00ddfc7>\u001b[0m in \u001b[0;36m<module>\u001b[1;34m\u001b[0m\n\u001b[1;32m----> 1\u001b[1;33m \u001b[1;32mfrom\u001b[0m \u001b[0msklearn\u001b[0m\u001b[1;33m.\u001b[0m\u001b[0mdatasets\u001b[0m \u001b[1;32mimport\u001b[0m \u001b[0mmake_moons\u001b[0m\u001b[1;33m\u001b[0m\u001b[1;33m\u001b[0m\u001b[0m\n\u001b[0m\u001b[0;32m      2\u001b[0m \u001b[1;33m\u001b[0m\u001b[0m\n\u001b[0;32m      3\u001b[0m \u001b[0mX_moon\u001b[0m\u001b[1;33m,\u001b[0m \u001b[0my_moon\u001b[0m \u001b[1;33m=\u001b[0m \u001b[0mmake_moons\u001b[0m\u001b[1;33m(\u001b[0m\u001b[0mn_samples\u001b[0m\u001b[1;33m=\u001b[0m\u001b[1;36m250\u001b[0m\u001b[1;33m,\u001b[0m \u001b[0mnoise\u001b[0m\u001b[1;33m=\u001b[0m\u001b[1;36m0.25\u001b[0m\u001b[1;33m,\u001b[0m \u001b[0mrandom_state\u001b[0m\u001b[1;33m=\u001b[0m\u001b[1;36m23\u001b[0m\u001b[1;33m)\u001b[0m\u001b[1;33m\u001b[0m\u001b[1;33m\u001b[0m\u001b[0m\n",
      "\u001b[1;31mModuleNotFoundError\u001b[0m: No module named 'sklearn'"
     ]
    }
   ],
   "source": [
    "from sklearn.datasets import make_moons\n",
    "\n",
    "X_moon, y_moon = make_moons(n_samples=250, noise=0.25, random_state=23)"
   ]
  },
  {
   "cell_type": "markdown",
   "metadata": {},
   "source": [
    "We use the `plot_decision` function we already know to display the data we have created:"
   ]
  },
  {
   "cell_type": "code",
   "execution_count": 8,
   "metadata": {},
   "outputs": [
    {
     "ename": "NameError",
     "evalue": "name 'X_moon' is not defined",
     "output_type": "error",
     "traceback": [
      "\u001b[1;31m---------------------------------------------------------------------------\u001b[0m",
      "\u001b[1;31mNameError\u001b[0m                                 Traceback (most recent call last)",
      "\u001b[1;32m<ipython-input-8-04be7cedc8cf>\u001b[0m in \u001b[0;36m<module>\u001b[1;34m\u001b[0m\n\u001b[1;32m----> 1\u001b[1;33m \u001b[0mX_moon\u001b[0m\u001b[1;33m.\u001b[0m\u001b[0mshape\u001b[0m\u001b[1;33m\u001b[0m\u001b[1;33m\u001b[0m\u001b[0m\n\u001b[0m",
      "\u001b[1;31mNameError\u001b[0m: name 'X_moon' is not defined"
     ]
    }
   ],
   "source": [
    "X_moon.shape"
   ]
  },
  {
   "cell_type": "code",
   "execution_count": 9,
   "metadata": {},
   "outputs": [
    {
     "ename": "NameError",
     "evalue": "name 'y_moon' is not defined",
     "output_type": "error",
     "traceback": [
      "\u001b[1;31m---------------------------------------------------------------------------\u001b[0m",
      "\u001b[1;31mNameError\u001b[0m                                 Traceback (most recent call last)",
      "\u001b[1;32m<ipython-input-9-d33b70d239ce>\u001b[0m in \u001b[0;36m<module>\u001b[1;34m\u001b[0m\n\u001b[1;32m----> 1\u001b[1;33m \u001b[0my_moon\u001b[0m\u001b[1;33m.\u001b[0m\u001b[0mshape\u001b[0m\u001b[1;33m\u001b[0m\u001b[1;33m\u001b[0m\u001b[0m\n\u001b[0m",
      "\u001b[1;31mNameError\u001b[0m: name 'y_moon' is not defined"
     ]
    }
   ],
   "source": [
    "y_moon.shape"
   ]
  },
  {
   "cell_type": "code",
   "execution_count": 17,
   "metadata": {},
   "outputs": [
    {
     "data": {
      "image/png": "[encoded data removed]",
      "text/plain": [
       "<Figure size 432x288 with 1 Axes>"
      ]
     },
     "metadata": {
      "needs_background": "light"
     },
     "output_type": "display_data"
    }
   ],
   "source": [
    "plot_decision(X_moon, y_moon)"
   ]
  },
  {
   "cell_type": "code",
   "execution_count": 24,
   "metadata": {},
   "outputs": [
    {
     "data": {
      "text/plain": [
       "[<matplotlib.lines.Line2D at 0x14091e1e808>,\n",
       " <matplotlib.lines.Line2D at 0x14091e40b48>]"
      ]
     },
     "execution_count": 24,
     "metadata": {},
     "output_type": "execute_result"
    },
    {
     "data": {
      "image/png": "[encoded data removed]",
      "text/plain": [
       "<Figure size 432x288 with 1 Axes>"
      ]
     },
     "metadata": {
      "needs_background": "light"
     },
     "output_type": "display_data"
    }
   ],
   "source": [
    "plt.plot(X_moon, y_moon)"
   ]
  },
  {
   "cell_type": "code",
   "execution_count": 26,
   "metadata": {},
   "outputs": [
    {
     "data": {
      "text/plain": [
       "<AxesSubplot:>"
      ]
     },
     "execution_count": 26,
     "metadata": {},
     "output_type": "execute_result"
    },
    {
     "data": {
      "image/png": "[encoded data removed]",
      "text/plain": [
       "<Figure size 432x288 with 1 Axes>"
      ]
     },
     "metadata": {
      "needs_background": "light"
     },
     "output_type": "display_data"
    }
   ],
   "source": [
    "sns.scatterplot(x=X_moon[:, 0], y=X_moon[:, 1], hue=y_moon)"
   ]
  },
  {
   "cell_type": "code",
   "execution_count": 22,
   "metadata": {},
   "outputs": [
    {
     "data": {
      "text/plain": [
       "1.4387361443604965"
      ]
     },
     "execution_count": 22,
     "metadata": {},
     "output_type": "execute_result"
    }
   ],
   "source": [
    "X_moon[:, 1].max()"
   ]
  },
  {
   "cell_type": "markdown",
   "metadata": {},
   "source": [
    "<div class=\"alert alert-block alert-success\">\n",
    "⚠️TASK 2\n",
    "<br>\n",
    "\n",
    "But this time we will check the correctness on the training and test data. Therefore, we divide the data into test and training data. Let the test data account for 25% of all data.\n",
    "\n",
    "</div>"
   ]
  },
  {
   "cell_type": "code",
   "execution_count": 27,
   "metadata": {},
   "outputs": [],
   "source": [
    "X_moon_train, X_moon_test, y_moon_train, y_moon_test = train_test_split(X_moon, y_moon, test_size=0.25)"
   ]
  },
  {
   "cell_type": "code",
   "execution_count": 28,
   "metadata": {},
   "outputs": [
    {
     "data": {
      "text/plain": [
       "(187, 2)"
      ]
     },
     "execution_count": 28,
     "metadata": {},
     "output_type": "execute_result"
    }
   ],
   "source": [
    "X_moon_train.shape"
   ]
  },
  {
   "cell_type": "markdown",
   "metadata": {},
   "source": [
    "## Creating a network"
   ]
  },
  {
   "cell_type": "markdown",
   "metadata": {},
   "source": [
    "To create a sequential network, we first use `Sequential` - this way we will create an empty space (without layers yet) - to which we will \"stick\" the consequtive layers:"
   ]
  },
  {
   "cell_type": "code",
   "execution_count": 29,
   "metadata": {},
   "outputs": [],
   "source": [
    "model = Sequential()"
   ]
  },
  {
   "cell_type": "code",
   "execution_count": 30,
   "metadata": {
    "collapsed": true
   },
   "outputs": [
    {
     "ename": "ValueError",
     "evalue": "This model has not yet been built. Build the model first by calling `build()` or calling `fit()` with some data, or specify an `input_shape` argument in the first layer(s) for automatic build.",
     "output_type": "error",
     "traceback": [
      "\u001b[1;31m---------------------------------------------------------------------------\u001b[0m",
      "\u001b[1;31mValueError\u001b[0m                                Traceback (most recent call last)",
      "\u001b[1;32m<ipython-input-30-5f15418b3570>\u001b[0m in \u001b[0;36m<module>\u001b[1;34m\u001b[0m\n\u001b[1;32m----> 1\u001b[1;33m \u001b[0mmodel\u001b[0m\u001b[1;33m.\u001b[0m\u001b[0msummary\u001b[0m\u001b[1;33m(\u001b[0m\u001b[1;33m)\u001b[0m\u001b[1;33m\u001b[0m\u001b[1;33m\u001b[0m\u001b[0m\n\u001b[0m",
      "\u001b[1;32mC:\\ProgramData\\Anaconda3\\envs\\py37\\lib\\site-packages\\tensorflow\\python\\keras\\engine\\training.py\u001b[0m in \u001b[0;36msummary\u001b[1;34m(self, line_length, positions, print_fn)\u001b[0m\n\u001b[0;32m   2349\u001b[0m     \"\"\"\n\u001b[0;32m   2350\u001b[0m     \u001b[1;32mif\u001b[0m \u001b[1;32mnot\u001b[0m \u001b[0mself\u001b[0m\u001b[1;33m.\u001b[0m\u001b[0mbuilt\u001b[0m\u001b[1;33m:\u001b[0m\u001b[1;33m\u001b[0m\u001b[1;33m\u001b[0m\u001b[0m\n\u001b[1;32m-> 2351\u001b[1;33m       raise ValueError('This model has not yet been built. '\n\u001b[0m\u001b[0;32m   2352\u001b[0m                        \u001b[1;34m'Build the model first by calling `build()` or calling '\u001b[0m\u001b[1;33m\u001b[0m\u001b[1;33m\u001b[0m\u001b[0m\n\u001b[0;32m   2353\u001b[0m                        \u001b[1;34m'`fit()` with some data, or specify '\u001b[0m\u001b[1;33m\u001b[0m\u001b[1;33m\u001b[0m\u001b[0m\n",
      "\u001b[1;31mValueError\u001b[0m: This model has not yet been built. Build the model first by calling `build()` or calling `fit()` with some data, or specify an `input_shape` argument in the first layer(s) for automatic build."
     ]
    }
   ],
   "source": [
    "model.summary()"
   ]
  },
  {
   "cell_type": "markdown",
   "metadata": {},
   "source": [
    "<div class=\"alert alert-block alert-success\">\n",
    "⚠️TASK 3\n",
    "<br>\n",
    "\n",
    "Apply a \"dense\" layer first. (`Dense`) - i.e. one in which each neuron is connected to each other in the previous layer.  \n",
    "* The first argument for the `Dense` is the number of neurons - we want only one neuron for now.\n",
    "* We also want to set the type of activation for the added layer; the activation determines how the neurons transform the incoming signal. Because this one added neuron will also be an output neuron, we want it to have an activation of the `'sigmoid'` type (like a logistic function) - i.e. a minimum value of 0 and a maximum of 1. The activity of this neuron will determine whether the point belongs to the blue group (value zero) or to the orange group (value one).\n",
    "* The neuron added by us is simultaneously the output neuron and the first one adjacent to the data, therefore it needs to know what is the size of this data (`input_shape`). Our data has two predictors (values on the x-axis and values on the y-axis), so we give `input_shape=(2,)` (we give dimensions as a *tuple* type `(2,)`. Because the data could have e.g. height and width as in the case of photos, we would give `(height, width)`). \n",
    "\n",
    "</div>"
   ]
  },
  {
   "cell_type": "code",
   "execution_count": 31,
   "metadata": {},
   "outputs": [],
   "source": [
    "model.add(Dense(1, activation='sigmoid', input_shape=(2,)))"
   ]
  },
  {
   "cell_type": "markdown",
   "metadata": {},
   "source": [
    "To display a summary of the created model, use the `summary` method:"
   ]
  },
  {
   "cell_type": "code",
   "execution_count": 32,
   "metadata": {},
   "outputs": [
    {
     "name": "stdout",
     "output_type": "stream",
     "text": [
      "Model: \"sequential\"\n",
      "_________________________________________________________________\n",
      "Layer (type)                 Output Shape              Param #   \n",
      "=================================================================\n",
      "dense (Dense)                (None, 1)                 3         \n",
      "=================================================================\n",
      "Total params: 3\n",
      "Trainable params: 3\n",
      "Non-trainable params: 0\n",
      "_________________________________________________________________\n"
     ]
    }
   ],
   "source": [
    "model.summary()"
   ]
  },
  {
   "cell_type": "markdown",
   "metadata": {},
   "source": [
    "Our first network is very modest - only 3 parameters."
   ]
  },
  {
   "cell_type": "markdown",
   "metadata": {},
   "source": [
    "Now we want to compile the model, i.e. prepare it to run. When compiling, we specify the cost function (`loss`), the optimization method (`optimizer`). We can also ask for some values to be calculated for the next steps of fitting the model (`metrics`).  \n",
    "* We want the cost function to be `'binary_crossentropy'` (we will always use it for classification problems).\n",
    "* Optimizer is set to `'adam'`, a popular optimization method that often leads to faster network learning.\n",
    "* We also want to calculate the correctness for the next steps of network fit (`['accuracy']`)"
   ]
  },
  {
   "cell_type": "code",
   "execution_count": 33,
   "metadata": {},
   "outputs": [],
   "source": [
    "model.compile(loss='binary_crossentropy', optimizer='adam', metrics=['accuracy'])"
   ]
  },
  {
   "cell_type": "markdown",
   "metadata": {},
   "source": [
    "Now we need to fit the model to the data, we use the familiar method `.fit` - we provide the training data to it: predictors and classifications. We also want to define how long the network is going to learn, most often we define it in the so-called epochs. One epoch is the use of all observations in training. Let us choose `250` epochs. Additionally, we use the `verbose` argument and set it to `0` in order not to clutter the screen with messages about training progress (for such small data the training will be very fast, we do not need information about progress)."
   ]
  },
  {
   "cell_type": "code",
   "execution_count": 44,
   "metadata": {},
   "outputs": [
    {
     "name": "stdout",
     "output_type": "stream",
     "text": [
      "Epoch 1/250\n",
      "6/6 [==============================] - 0s 2ms/step - loss: 0.3526 - accuracy: 0.8396\n",
      "Epoch 2/250\n",
      "6/6 [==============================] - 0s 1ms/step - loss: 0.3524 - accuracy: 0.8449\n",
      "Epoch 3/250\n",
      "6/6 [==============================] - 0s 2ms/step - loss: 0.3523 - accuracy: 0.8449\n",
      "Epoch 4/250\n",
      "6/6 [==============================] - 0s 1ms/step - loss: 0.3521 - accuracy: 0.8449\n",
      "Epoch 5/250\n",
      "6/6 [==============================] - 0s 1ms/step - loss: 0.3520 - accuracy: 0.8449\n",
      "Epoch 6/250\n",
      "6/6 [==============================] - 0s 1ms/step - loss: 0.3518 - accuracy: 0.8449\n",
      "Epoch 7/250\n",
      "6/6 [==============================] - 0s 1ms/step - loss: 0.3517 - accuracy: 0.8449\n",
      "Epoch 8/250\n",
      "6/6 [==============================] - 0s 1ms/step - loss: 0.3515 - accuracy: 0.8449\n",
      "Epoch 9/250\n",
      "6/6 [==============================] - 0s 1ms/step - loss: 0.3514 - accuracy: 0.8449\n",
      "Epoch 10/250\n",
      "6/6 [==============================] - 0s 1ms/step - loss: 0.3512 - accuracy: 0.8449\n",
      "Epoch 11/250\n",
      "6/6 [==============================] - 0s 1ms/step - loss: 0.3511 - accuracy: 0.8449\n",
      "Epoch 12/250\n",
      "6/6 [==============================] - 0s 1ms/step - loss: 0.3509 - accuracy: 0.8449\n",
      "Epoch 13/250\n",
      "6/6 [==============================] - 0s 2ms/step - loss: 0.3508 - accuracy: 0.8449\n",
      "Epoch 14/250\n",
      "6/6 [==============================] - 0s 1ms/step - loss: 0.3507 - accuracy: 0.8449\n",
      "Epoch 15/250\n",
      "6/6 [==============================] - 0s 1ms/step - loss: 0.3505 - accuracy: 0.8449\n",
      "Epoch 16/250\n",
      "6/6 [==============================] - 0s 2ms/step - loss: 0.3504 - accuracy: 0.8449\n",
      "Epoch 17/250\n",
      "6/6 [==============================] - 0s 1ms/step - loss: 0.3502 - accuracy: 0.8449\n",
      "Epoch 18/250\n",
      "6/6 [==============================] - 0s 1ms/step - loss: 0.3501 - accuracy: 0.8449\n",
      "Epoch 19/250\n",
      "6/6 [==============================] - 0s 1ms/step - loss: 0.3499 - accuracy: 0.8449\n",
      "Epoch 20/250\n",
      "6/6 [==============================] - 0s 1ms/step - loss: 0.3498 - accuracy: 0.8449\n",
      "Epoch 21/250\n",
      "6/6 [==============================] - 0s 1ms/step - loss: 0.3497 - accuracy: 0.8449\n",
      "Epoch 22/250\n",
      "6/6 [==============================] - 0s 1ms/step - loss: 0.3495 - accuracy: 0.8449\n",
      "Epoch 23/250\n",
      "6/6 [==============================] - 0s 1ms/step - loss: 0.3494 - accuracy: 0.8449\n",
      "Epoch 24/250\n",
      "6/6 [==============================] - 0s 2ms/step - loss: 0.3493 - accuracy: 0.8449\n",
      "Epoch 25/250\n",
      "6/6 [==============================] - 0s 1ms/step - loss: 0.3491 - accuracy: 0.8449\n",
      "Epoch 26/250\n",
      "6/6 [==============================] - 0s 1ms/step - loss: 0.3490 - accuracy: 0.8449\n",
      "Epoch 27/250\n",
      "6/6 [==============================] - 0s 2ms/step - loss: 0.3488 - accuracy: 0.8449\n",
      "Epoch 28/250\n",
      "6/6 [==============================] - 0s 1ms/step - loss: 0.3487 - accuracy: 0.8449\n",
      "Epoch 29/250\n",
      "6/6 [==============================] - 0s 1ms/step - loss: 0.3486 - accuracy: 0.8449\n",
      "Epoch 30/250\n",
      "6/6 [==============================] - 0s 1ms/step - loss: 0.3484 - accuracy: 0.8449\n",
      "Epoch 31/250\n",
      "6/6 [==============================] - 0s 1ms/step - loss: 0.3483 - accuracy: 0.8396\n",
      "Epoch 32/250\n",
      "6/6 [==============================] - 0s 1ms/step - loss: 0.3482 - accuracy: 0.8396\n",
      "Epoch 33/250\n",
      "6/6 [==============================] - 0s 1ms/step - loss: 0.3480 - accuracy: 0.8396\n",
      "Epoch 34/250\n",
      "6/6 [==============================] - 0s 2ms/step - loss: 0.3479 - accuracy: 0.8396\n",
      "Epoch 35/250\n",
      "6/6 [==============================] - 0s 2ms/step - loss: 0.3478 - accuracy: 0.8396\n",
      "Epoch 36/250\n",
      "6/6 [==============================] - 0s 1ms/step - loss: 0.3477 - accuracy: 0.8396\n",
      "Epoch 37/250\n",
      "6/6 [==============================] - 0s 1ms/step - loss: 0.3475 - accuracy: 0.8396\n",
      "Epoch 38/250\n",
      "6/6 [==============================] - 0s 1ms/step - loss: 0.3474 - accuracy: 0.8396\n",
      "Epoch 39/250\n",
      "6/6 [==============================] - 0s 1ms/step - loss: 0.3473 - accuracy: 0.8396\n",
      "Epoch 40/250\n",
      "6/6 [==============================] - 0s 1ms/step - loss: 0.3472 - accuracy: 0.8396\n",
      "Epoch 41/250\n",
      "6/6 [==============================] - 0s 1ms/step - loss: 0.3470 - accuracy: 0.8396\n",
      "Epoch 42/250\n",
      "6/6 [==============================] - 0s 1ms/step - loss: 0.3469 - accuracy: 0.8396\n",
      "Epoch 43/250\n",
      "6/6 [==============================] - 0s 1ms/step - loss: 0.3468 - accuracy: 0.8396\n",
      "Epoch 44/250\n",
      "6/6 [==============================] - 0s 1ms/step - loss: 0.3467 - accuracy: 0.8396\n",
      "Epoch 45/250\n",
      "6/6 [==============================] - 0s 2ms/step - loss: 0.3465 - accuracy: 0.8396\n",
      "Epoch 46/250\n",
      "6/6 [==============================] - 0s 1ms/step - loss: 0.3464 - accuracy: 0.8396\n",
      "Epoch 47/250\n",
      "6/6 [==============================] - 0s 1ms/step - loss: 0.3463 - accuracy: 0.8396\n",
      "Epoch 48/250\n",
      "6/6 [==============================] - 0s 1ms/step - loss: 0.3462 - accuracy: 0.8396\n",
      "Epoch 49/250\n",
      "6/6 [==============================] - 0s 1ms/step - loss: 0.3461 - accuracy: 0.8396\n",
      "Epoch 50/250\n",
      "6/6 [==============================] - 0s 1ms/step - loss: 0.3459 - accuracy: 0.8396\n",
      "Epoch 51/250\n",
      "6/6 [==============================] - 0s 1ms/step - loss: 0.3458 - accuracy: 0.8396\n",
      "Epoch 52/250\n",
      "6/6 [==============================] - 0s 1ms/step - loss: 0.3457 - accuracy: 0.8396\n",
      "Epoch 53/250\n",
      "6/6 [==============================] - 0s 1ms/step - loss: 0.3456 - accuracy: 0.8396\n",
      "Epoch 54/250\n",
      "6/6 [==============================] - 0s 1ms/step - loss: 0.3455 - accuracy: 0.8396\n",
      "Epoch 55/250\n",
      "6/6 [==============================] - 0s 1ms/step - loss: 0.3453 - accuracy: 0.8396\n",
      "Epoch 56/250\n",
      "6/6 [==============================] - 0s 1ms/step - loss: 0.3452 - accuracy: 0.8396\n",
      "Epoch 57/250\n",
      "6/6 [==============================] - 0s 1ms/step - loss: 0.3451 - accuracy: 0.8396\n",
      "Epoch 58/250\n",
      "6/6 [==============================] - 0s 1ms/step - loss: 0.3450 - accuracy: 0.8396\n",
      "Epoch 59/250\n",
      "6/6 [==============================] - 0s 1ms/step - loss: 0.3449 - accuracy: 0.8396\n",
      "Epoch 60/250\n",
      "6/6 [==============================] - 0s 1ms/step - loss: 0.3448 - accuracy: 0.8396\n",
      "Epoch 61/250\n",
      "6/6 [==============================] - 0s 1ms/step - loss: 0.3447 - accuracy: 0.8396\n",
      "Epoch 62/250\n",
      "6/6 [==============================] - 0s 1ms/step - loss: 0.3445 - accuracy: 0.8396\n",
      "Epoch 63/250\n",
      "6/6 [==============================] - 0s 1ms/step - loss: 0.3444 - accuracy: 0.8396\n",
      "Epoch 64/250\n",
      "6/6 [==============================] - 0s 1ms/step - loss: 0.3443 - accuracy: 0.8396\n",
      "Epoch 65/250\n",
      "6/6 [==============================] - 0s 1ms/step - loss: 0.3442 - accuracy: 0.8396\n",
      "Epoch 66/250\n",
      "6/6 [==============================] - 0s 1ms/step - loss: 0.3441 - accuracy: 0.8396\n",
      "Epoch 67/250\n",
      "6/6 [==============================] - 0s 1ms/step - loss: 0.3440 - accuracy: 0.8396\n",
      "Epoch 68/250\n",
      "6/6 [==============================] - 0s 1ms/step - loss: 0.3439 - accuracy: 0.8396\n",
      "Epoch 69/250\n",
      "6/6 [==============================] - 0s 1ms/step - loss: 0.3438 - accuracy: 0.8396\n",
      "Epoch 70/250\n",
      "6/6 [==============================] - 0s 1ms/step - loss: 0.3437 - accuracy: 0.8396\n",
      "Epoch 71/250\n",
      "6/6 [==============================] - 0s 1ms/step - loss: 0.3435 - accuracy: 0.8396\n",
      "Epoch 72/250\n",
      "6/6 [==============================] - 0s 1ms/step - loss: 0.3434 - accuracy: 0.8396\n",
      "Epoch 73/250\n",
      "6/6 [==============================] - 0s 1ms/step - loss: 0.3433 - accuracy: 0.8396\n",
      "Epoch 74/250\n",
      "6/6 [==============================] - 0s 1ms/step - loss: 0.3432 - accuracy: 0.8396\n",
      "Epoch 75/250\n",
      "6/6 [==============================] - 0s 1ms/step - loss: 0.3431 - accuracy: 0.8396\n",
      "Epoch 76/250\n",
      "6/6 [==============================] - 0s 1ms/step - loss: 0.3430 - accuracy: 0.8396\n",
      "Epoch 77/250\n",
      "6/6 [==============================] - 0s 1ms/step - loss: 0.3429 - accuracy: 0.8396\n",
      "Epoch 78/250\n",
      "6/6 [==============================] - 0s 1ms/step - loss: 0.3428 - accuracy: 0.8396\n",
      "Epoch 79/250\n",
      "6/6 [==============================] - 0s 1ms/step - loss: 0.3427 - accuracy: 0.8396\n",
      "Epoch 80/250\n",
      "6/6 [==============================] - 0s 2ms/step - loss: 0.3426 - accuracy: 0.8396\n",
      "Epoch 81/250\n",
      "6/6 [==============================] - 0s 2ms/step - loss: 0.3425 - accuracy: 0.8396\n",
      "Epoch 82/250\n",
      "6/6 [==============================] - 0s 1ms/step - loss: 0.3424 - accuracy: 0.8396\n",
      "Epoch 83/250\n",
      "6/6 [==============================] - 0s 1ms/step - loss: 0.3423 - accuracy: 0.8396\n",
      "Epoch 84/250\n",
      "6/6 [==============================] - 0s 1ms/step - loss: 0.3422 - accuracy: 0.8396\n",
      "Epoch 85/250\n",
      "6/6 [==============================] - 0s 1ms/step - loss: 0.3421 - accuracy: 0.8396\n",
      "Epoch 86/250\n",
      "6/6 [==============================] - 0s 1ms/step - loss: 0.3420 - accuracy: 0.8396\n",
      "Epoch 87/250\n",
      "6/6 [==============================] - 0s 1ms/step - loss: 0.3419 - accuracy: 0.8396\n",
      "Epoch 88/250\n",
      "6/6 [==============================] - ETA: 0s - loss: 0.2727 - accuracy: 0.84 - 0s 1ms/step - loss: 0.3418 - accuracy: 0.8396\n",
      "Epoch 89/250\n",
      "6/6 [==============================] - 0s 2ms/step - loss: 0.3417 - accuracy: 0.8396\n",
      "Epoch 90/250\n",
      "6/6 [==============================] - 0s 1ms/step - loss: 0.3416 - accuracy: 0.8396\n",
      "Epoch 91/250\n",
      "6/6 [==============================] - 0s 1ms/step - loss: 0.3415 - accuracy: 0.8396\n",
      "Epoch 92/250\n",
      "6/6 [==============================] - 0s 1ms/step - loss: 0.3414 - accuracy: 0.8396\n",
      "Epoch 93/250\n",
      "6/6 [==============================] - 0s 1ms/step - loss: 0.3413 - accuracy: 0.8396\n",
      "Epoch 94/250\n",
      "6/6 [==============================] - 0s 1ms/step - loss: 0.3412 - accuracy: 0.8396\n",
      "Epoch 95/250\n",
      "6/6 [==============================] - 0s 1ms/step - loss: 0.3411 - accuracy: 0.8396\n",
      "Epoch 96/250\n",
      "6/6 [==============================] - 0s 1ms/step - loss: 0.3410 - accuracy: 0.8396\n",
      "Epoch 97/250\n",
      "6/6 [==============================] - 0s 1ms/step - loss: 0.3409 - accuracy: 0.8396\n",
      "Epoch 98/250\n",
      "6/6 [==============================] - 0s 1ms/step - loss: 0.3408 - accuracy: 0.8396\n",
      "Epoch 99/250\n",
      "6/6 [==============================] - 0s 1ms/step - loss: 0.3407 - accuracy: 0.8396\n",
      "Epoch 100/250\n",
      "6/6 [==============================] - 0s 1ms/step - loss: 0.3407 - accuracy: 0.8396\n",
      "Epoch 101/250\n",
      "6/6 [==============================] - 0s 1ms/step - loss: 0.3405 - accuracy: 0.8396\n",
      "Epoch 102/250\n",
      "6/6 [==============================] - 0s 1ms/step - loss: 0.3404 - accuracy: 0.8396\n",
      "Epoch 103/250\n",
      "6/6 [==============================] - 0s 1ms/step - loss: 0.3404 - accuracy: 0.8396\n",
      "Epoch 104/250\n",
      "6/6 [==============================] - 0s 1ms/step - loss: 0.3403 - accuracy: 0.8396\n",
      "Epoch 105/250\n",
      "6/6 [==============================] - 0s 1ms/step - loss: 0.3402 - accuracy: 0.8396\n",
      "Epoch 106/250\n",
      "6/6 [==============================] - 0s 1ms/step - loss: 0.3401 - accuracy: 0.8396\n",
      "Epoch 107/250\n",
      "6/6 [==============================] - 0s 1ms/step - loss: 0.3400 - accuracy: 0.8396\n",
      "Epoch 108/250\n",
      "6/6 [==============================] - 0s 1ms/step - loss: 0.3399 - accuracy: 0.8396\n",
      "Epoch 109/250\n",
      "6/6 [==============================] - 0s 1ms/step - loss: 0.3398 - accuracy: 0.8396\n",
      "Epoch 110/250\n",
      "6/6 [==============================] - 0s 5ms/step - loss: 0.3397 - accuracy: 0.8396\n",
      "Epoch 111/250\n",
      "6/6 [==============================] - 0s 2ms/step - loss: 0.3396 - accuracy: 0.8396\n",
      "Epoch 112/250\n",
      "6/6 [==============================] - 0s 1ms/step - loss: 0.3396 - accuracy: 0.8396\n",
      "Epoch 113/250\n",
      "6/6 [==============================] - 0s 1ms/step - loss: 0.3395 - accuracy: 0.8396\n",
      "Epoch 114/250\n",
      "6/6 [==============================] - 0s 1ms/step - loss: 0.3394 - accuracy: 0.8396\n",
      "Epoch 115/250\n",
      "6/6 [==============================] - 0s 1ms/step - loss: 0.3393 - accuracy: 0.8396\n",
      "Epoch 116/250\n",
      "6/6 [==============================] - 0s 1ms/step - loss: 0.3392 - accuracy: 0.8396\n",
      "Epoch 117/250\n",
      "6/6 [==============================] - 0s 1ms/step - loss: 0.3391 - accuracy: 0.8396\n",
      "Epoch 118/250\n",
      "6/6 [==============================] - 0s 1ms/step - loss: 0.3390 - accuracy: 0.8396\n",
      "Epoch 119/250\n",
      "6/6 [==============================] - 0s 1ms/step - loss: 0.3389 - accuracy: 0.8396\n",
      "Epoch 120/250\n",
      "6/6 [==============================] - 0s 1ms/step - loss: 0.3389 - accuracy: 0.8396\n",
      "Epoch 121/250\n",
      "6/6 [==============================] - 0s 2ms/step - loss: 0.3388 - accuracy: 0.8396\n",
      "Epoch 122/250\n",
      "6/6 [==============================] - 0s 1ms/step - loss: 0.3387 - accuracy: 0.8396\n",
      "Epoch 123/250\n",
      "6/6 [==============================] - 0s 1ms/step - loss: 0.3386 - accuracy: 0.8396\n",
      "Epoch 124/250\n",
      "6/6 [==============================] - 0s 1ms/step - loss: 0.3385 - accuracy: 0.8396\n",
      "Epoch 125/250\n",
      "6/6 [==============================] - 0s 1ms/step - loss: 0.3384 - accuracy: 0.8396\n",
      "Epoch 126/250\n",
      "6/6 [==============================] - 0s 1ms/step - loss: 0.3383 - accuracy: 0.8396\n",
      "Epoch 127/250\n",
      "6/6 [==============================] - 0s 1ms/step - loss: 0.3383 - accuracy: 0.8396\n",
      "Epoch 128/250\n",
      "6/6 [==============================] - ETA: 0s - loss: 0.3842 - accuracy: 0.81 - 0s 1ms/step - loss: 0.3382 - accuracy: 0.8396\n",
      "Epoch 129/250\n",
      "6/6 [==============================] - 0s 1ms/step - loss: 0.3381 - accuracy: 0.8396\n",
      "Epoch 130/250\n",
      "6/6 [==============================] - 0s 1ms/step - loss: 0.3380 - accuracy: 0.8396\n",
      "Epoch 131/250\n",
      "6/6 [==============================] - 0s 1ms/step - loss: 0.3379 - accuracy: 0.8396\n",
      "Epoch 132/250\n",
      "6/6 [==============================] - 0s 2ms/step - loss: 0.3379 - accuracy: 0.8396\n",
      "Epoch 133/250\n",
      "6/6 [==============================] - 0s 1ms/step - loss: 0.3378 - accuracy: 0.8396\n",
      "Epoch 134/250\n",
      "6/6 [==============================] - 0s 1ms/step - loss: 0.3377 - accuracy: 0.8396\n",
      "Epoch 135/250\n",
      "6/6 [==============================] - 0s 1ms/step - loss: 0.3376 - accuracy: 0.8396\n",
      "Epoch 136/250\n",
      "6/6 [==============================] - 0s 1ms/step - loss: 0.3375 - accuracy: 0.8396\n",
      "Epoch 137/250\n",
      "6/6 [==============================] - 0s 1ms/step - loss: 0.3374 - accuracy: 0.8396\n",
      "Epoch 138/250\n",
      "6/6 [==============================] - 0s 1ms/step - loss: 0.3374 - accuracy: 0.8396\n",
      "Epoch 139/250\n",
      "6/6 [==============================] - 0s 1ms/step - loss: 0.3373 - accuracy: 0.8396\n",
      "Epoch 140/250\n",
      "6/6 [==============================] - 0s 1ms/step - loss: 0.3373 - accuracy: 0.8396\n",
      "Epoch 141/250\n",
      "6/6 [==============================] - 0s 1ms/step - loss: 0.3371 - accuracy: 0.8396\n",
      "Epoch 142/250\n",
      "6/6 [==============================] - 0s 1ms/step - loss: 0.3371 - accuracy: 0.8396\n",
      "Epoch 143/250\n",
      "6/6 [==============================] - 0s 2ms/step - loss: 0.3370 - accuracy: 0.8396\n",
      "Epoch 144/250\n",
      "6/6 [==============================] - 0s 1ms/step - loss: 0.3369 - accuracy: 0.8396\n",
      "Epoch 145/250\n",
      "6/6 [==============================] - 0s 2ms/step - loss: 0.3368 - accuracy: 0.8396\n",
      "Epoch 146/250\n",
      "6/6 [==============================] - 0s 1ms/step - loss: 0.3368 - accuracy: 0.8396\n",
      "Epoch 147/250\n",
      "6/6 [==============================] - 0s 1ms/step - loss: 0.3367 - accuracy: 0.8396\n",
      "Epoch 148/250\n",
      "6/6 [==============================] - 0s 1ms/step - loss: 0.3366 - accuracy: 0.8396\n",
      "Epoch 149/250\n",
      "6/6 [==============================] - 0s 1ms/step - loss: 0.3365 - accuracy: 0.8396\n",
      "Epoch 150/250\n",
      "6/6 [==============================] - 0s 1ms/step - loss: 0.3365 - accuracy: 0.8396\n",
      "Epoch 151/250\n",
      "6/6 [==============================] - 0s 1ms/step - loss: 0.3364 - accuracy: 0.8396\n",
      "Epoch 152/250\n",
      "6/6 [==============================] - 0s 1ms/step - loss: 0.3363 - accuracy: 0.8396\n",
      "Epoch 153/250\n",
      "6/6 [==============================] - 0s 1ms/step - loss: 0.3362 - accuracy: 0.8396\n",
      "Epoch 154/250\n",
      "6/6 [==============================] - 0s 1ms/step - loss: 0.3362 - accuracy: 0.8396\n",
      "Epoch 155/250\n",
      "6/6 [==============================] - 0s 1ms/step - loss: 0.3361 - accuracy: 0.8396\n",
      "Epoch 156/250\n",
      "6/6 [==============================] - 0s 1ms/step - loss: 0.3360 - accuracy: 0.8396\n",
      "Epoch 157/250\n",
      "6/6 [==============================] - 0s 1ms/step - loss: 0.3359 - accuracy: 0.8396\n",
      "Epoch 158/250\n",
      "6/6 [==============================] - 0s 1ms/step - loss: 0.3359 - accuracy: 0.8396\n",
      "Epoch 159/250\n",
      "6/6 [==============================] - 0s 1ms/step - loss: 0.3358 - accuracy: 0.8396\n",
      "Epoch 160/250\n",
      "6/6 [==============================] - 0s 1ms/step - loss: 0.3357 - accuracy: 0.8396\n",
      "Epoch 161/250\n",
      "6/6 [==============================] - 0s 1ms/step - loss: 0.3357 - accuracy: 0.8396\n",
      "Epoch 162/250\n",
      "6/6 [==============================] - 0s 1ms/step - loss: 0.3356 - accuracy: 0.8396\n",
      "Epoch 163/250\n",
      "6/6 [==============================] - 0s 1ms/step - loss: 0.3355 - accuracy: 0.8396\n",
      "Epoch 164/250\n",
      "6/6 [==============================] - 0s 1ms/step - loss: 0.3355 - accuracy: 0.8396\n",
      "Epoch 165/250\n",
      "6/6 [==============================] - 0s 1ms/step - loss: 0.3354 - accuracy: 0.8396\n",
      "Epoch 166/250\n"
     ]
    },
    {
     "name": "stdout",
     "output_type": "stream",
     "text": [
      "6/6 [==============================] - 0s 1ms/step - loss: 0.3353 - accuracy: 0.8396\n",
      "Epoch 167/250\n",
      "6/6 [==============================] - 0s 1ms/step - loss: 0.3352 - accuracy: 0.8396\n",
      "Epoch 168/250\n",
      "6/6 [==============================] - 0s 1ms/step - loss: 0.3352 - accuracy: 0.8396\n",
      "Epoch 169/250\n",
      "6/6 [==============================] - 0s 1ms/step - loss: 0.3351 - accuracy: 0.8396\n",
      "Epoch 170/250\n",
      "6/6 [==============================] - 0s 1ms/step - loss: 0.3350 - accuracy: 0.8396\n",
      "Epoch 171/250\n",
      "6/6 [==============================] - 0s 1ms/step - loss: 0.3350 - accuracy: 0.8396\n",
      "Epoch 172/250\n",
      "6/6 [==============================] - 0s 1ms/step - loss: 0.3349 - accuracy: 0.8396\n",
      "Epoch 173/250\n",
      "6/6 [==============================] - 0s 1ms/step - loss: 0.3348 - accuracy: 0.8396\n",
      "Epoch 174/250\n",
      "6/6 [==============================] - 0s 1ms/step - loss: 0.3348 - accuracy: 0.8396\n",
      "Epoch 175/250\n",
      "6/6 [==============================] - 0s 1ms/step - loss: 0.3347 - accuracy: 0.8396\n",
      "Epoch 176/250\n",
      "6/6 [==============================] - 0s 1ms/step - loss: 0.3346 - accuracy: 0.8396\n",
      "Epoch 177/250\n",
      "6/6 [==============================] - 0s 1ms/step - loss: 0.3346 - accuracy: 0.8396\n",
      "Epoch 178/250\n",
      "6/6 [==============================] - 0s 1ms/step - loss: 0.3345 - accuracy: 0.8396\n",
      "Epoch 179/250\n",
      "6/6 [==============================] - 0s 1ms/step - loss: 0.3344 - accuracy: 0.8396\n",
      "Epoch 180/250\n",
      "6/6 [==============================] - 0s 1ms/step - loss: 0.3344 - accuracy: 0.8396\n",
      "Epoch 181/250\n",
      "6/6 [==============================] - 0s 1ms/step - loss: 0.3343 - accuracy: 0.8396\n",
      "Epoch 182/250\n",
      "6/6 [==============================] - 0s 1ms/step - loss: 0.3342 - accuracy: 0.8396\n",
      "Epoch 183/250\n",
      "6/6 [==============================] - 0s 1ms/step - loss: 0.3342 - accuracy: 0.8396\n",
      "Epoch 184/250\n",
      "6/6 [==============================] - 0s 1ms/step - loss: 0.3341 - accuracy: 0.8396\n",
      "Epoch 185/250\n",
      "6/6 [==============================] - 0s 1ms/step - loss: 0.3340 - accuracy: 0.8396\n",
      "Epoch 186/250\n",
      "6/6 [==============================] - 0s 1ms/step - loss: 0.3340 - accuracy: 0.8396\n",
      "Epoch 187/250\n",
      "6/6 [==============================] - 0s 1ms/step - loss: 0.3339 - accuracy: 0.8396\n",
      "Epoch 188/250\n",
      "6/6 [==============================] - 0s 2ms/step - loss: 0.3339 - accuracy: 0.8396\n",
      "Epoch 189/250\n",
      "6/6 [==============================] - 0s 1ms/step - loss: 0.3338 - accuracy: 0.8396\n",
      "Epoch 190/250\n",
      "6/6 [==============================] - 0s 1ms/step - loss: 0.3337 - accuracy: 0.8396\n",
      "Epoch 191/250\n",
      "6/6 [==============================] - 0s 1ms/step - loss: 0.3337 - accuracy: 0.8396\n",
      "Epoch 192/250\n",
      "6/6 [==============================] - 0s 2ms/step - loss: 0.3336 - accuracy: 0.8396\n",
      "Epoch 193/250\n",
      "6/6 [==============================] - 0s 1ms/step - loss: 0.3335 - accuracy: 0.8396\n",
      "Epoch 194/250\n",
      "6/6 [==============================] - 0s 1ms/step - loss: 0.3335 - accuracy: 0.8396\n",
      "Epoch 195/250\n",
      "6/6 [==============================] - 0s 1ms/step - loss: 0.3335 - accuracy: 0.8396\n",
      "Epoch 196/250\n",
      "6/6 [==============================] - 0s 1ms/step - loss: 0.3334 - accuracy: 0.8396\n",
      "Epoch 197/250\n",
      "6/6 [==============================] - 0s 1ms/step - loss: 0.3333 - accuracy: 0.8396\n",
      "Epoch 198/250\n",
      "6/6 [==============================] - 0s 1ms/step - loss: 0.3332 - accuracy: 0.8396\n",
      "Epoch 199/250\n",
      "6/6 [==============================] - 0s 2ms/step - loss: 0.3332 - accuracy: 0.8396\n",
      "Epoch 200/250\n",
      "6/6 [==============================] - 0s 1ms/step - loss: 0.3331 - accuracy: 0.8396\n",
      "Epoch 201/250\n",
      "6/6 [==============================] - 0s 1ms/step - loss: 0.3331 - accuracy: 0.8396\n",
      "Epoch 202/250\n",
      "6/6 [==============================] - 0s 1ms/step - loss: 0.3330 - accuracy: 0.8396\n",
      "Epoch 203/250\n",
      "6/6 [==============================] - 0s 1ms/step - loss: 0.3329 - accuracy: 0.8396\n",
      "Epoch 204/250\n",
      "6/6 [==============================] - 0s 2ms/step - loss: 0.3329 - accuracy: 0.8396\n",
      "Epoch 205/250\n",
      "6/6 [==============================] - 0s 1ms/step - loss: 0.3328 - accuracy: 0.8396\n",
      "Epoch 206/250\n",
      "6/6 [==============================] - 0s 1ms/step - loss: 0.3328 - accuracy: 0.8396\n",
      "Epoch 207/250\n",
      "6/6 [==============================] - 0s 1ms/step - loss: 0.3327 - accuracy: 0.8396\n",
      "Epoch 208/250\n",
      "6/6 [==============================] - 0s 1ms/step - loss: 0.3327 - accuracy: 0.8396\n",
      "Epoch 209/250\n",
      "6/6 [==============================] - 0s 1ms/step - loss: 0.3326 - accuracy: 0.8396\n",
      "Epoch 210/250\n",
      "6/6 [==============================] - 0s 2ms/step - loss: 0.3325 - accuracy: 0.8396\n",
      "Epoch 211/250\n",
      "6/6 [==============================] - 0s 1ms/step - loss: 0.3325 - accuracy: 0.8396\n",
      "Epoch 212/250\n",
      "6/6 [==============================] - 0s 1ms/step - loss: 0.3324 - accuracy: 0.8396\n",
      "Epoch 213/250\n",
      "6/6 [==============================] - 0s 1ms/step - loss: 0.3324 - accuracy: 0.8396\n",
      "Epoch 214/250\n",
      "6/6 [==============================] - 0s 1ms/step - loss: 0.3323 - accuracy: 0.8396\n",
      "Epoch 215/250\n",
      "6/6 [==============================] - 0s 1ms/step - loss: 0.3323 - accuracy: 0.8396\n",
      "Epoch 216/250\n",
      "6/6 [==============================] - 0s 1ms/step - loss: 0.3322 - accuracy: 0.8396\n",
      "Epoch 217/250\n",
      "6/6 [==============================] - 0s 1ms/step - loss: 0.3322 - accuracy: 0.8396\n",
      "Epoch 218/250\n",
      "6/6 [==============================] - 0s 1ms/step - loss: 0.3321 - accuracy: 0.8396\n",
      "Epoch 219/250\n",
      "6/6 [==============================] - 0s 1ms/step - loss: 0.3321 - accuracy: 0.8396\n",
      "Epoch 220/250\n",
      "6/6 [==============================] - 0s 1ms/step - loss: 0.3320 - accuracy: 0.8396\n",
      "Epoch 221/250\n",
      "6/6 [==============================] - 0s 1ms/step - loss: 0.3319 - accuracy: 0.8396\n",
      "Epoch 222/250\n",
      "6/6 [==============================] - 0s 1ms/step - loss: 0.3319 - accuracy: 0.8396\n",
      "Epoch 223/250\n",
      "6/6 [==============================] - 0s 1ms/step - loss: 0.3318 - accuracy: 0.8396\n",
      "Epoch 224/250\n",
      "6/6 [==============================] - 0s 1ms/step - loss: 0.3318 - accuracy: 0.8396\n",
      "Epoch 225/250\n",
      "6/6 [==============================] - 0s 1ms/step - loss: 0.3318 - accuracy: 0.8396\n",
      "Epoch 226/250\n",
      "6/6 [==============================] - 0s 1ms/step - loss: 0.3317 - accuracy: 0.8396\n",
      "Epoch 227/250\n",
      "6/6 [==============================] - 0s 1ms/step - loss: 0.3316 - accuracy: 0.8396\n",
      "Epoch 228/250\n",
      "6/6 [==============================] - 0s 1ms/step - loss: 0.3316 - accuracy: 0.8396\n",
      "Epoch 229/250\n",
      "6/6 [==============================] - 0s 1ms/step - loss: 0.3315 - accuracy: 0.8396\n",
      "Epoch 230/250\n",
      "6/6 [==============================] - 0s 1ms/step - loss: 0.3315 - accuracy: 0.8396\n",
      "Epoch 231/250\n",
      "6/6 [==============================] - 0s 1ms/step - loss: 0.3314 - accuracy: 0.8396\n",
      "Epoch 232/250\n",
      "6/6 [==============================] - 0s 1ms/step - loss: 0.3314 - accuracy: 0.8396\n",
      "Epoch 233/250\n",
      "6/6 [==============================] - 0s 1ms/step - loss: 0.3313 - accuracy: 0.8396\n",
      "Epoch 234/250\n",
      "6/6 [==============================] - 0s 1ms/step - loss: 0.3313 - accuracy: 0.8396\n",
      "Epoch 235/250\n",
      "6/6 [==============================] - 0s 1ms/step - loss: 0.3312 - accuracy: 0.8396\n",
      "Epoch 236/250\n",
      "6/6 [==============================] - 0s 1ms/step - loss: 0.3312 - accuracy: 0.8396\n",
      "Epoch 237/250\n",
      "6/6 [==============================] - 0s 1ms/step - loss: 0.3311 - accuracy: 0.8396\n",
      "Epoch 238/250\n",
      "6/6 [==============================] - 0s 1ms/step - loss: 0.3310 - accuracy: 0.8396\n",
      "Epoch 239/250\n",
      "6/6 [==============================] - 0s 1ms/step - loss: 0.3310 - accuracy: 0.8396\n",
      "Epoch 240/250\n",
      "6/6 [==============================] - 0s 1ms/step - loss: 0.3310 - accuracy: 0.8396\n",
      "Epoch 241/250\n",
      "6/6 [==============================] - 0s 1ms/step - loss: 0.3309 - accuracy: 0.8396\n",
      "Epoch 242/250\n",
      "6/6 [==============================] - 0s 1ms/step - loss: 0.3309 - accuracy: 0.8396\n",
      "Epoch 243/250\n",
      "6/6 [==============================] - 0s 1ms/step - loss: 0.3308 - accuracy: 0.8396\n",
      "Epoch 244/250\n",
      "6/6 [==============================] - 0s 2ms/step - loss: 0.3308 - accuracy: 0.8396\n",
      "Epoch 245/250\n",
      "6/6 [==============================] - 0s 1ms/step - loss: 0.3307 - accuracy: 0.8396\n",
      "Epoch 246/250\n",
      "6/6 [==============================] - 0s 1ms/step - loss: 0.3306 - accuracy: 0.8396\n",
      "Epoch 247/250\n",
      "6/6 [==============================] - 0s 1ms/step - loss: 0.3306 - accuracy: 0.8396\n",
      "Epoch 248/250\n",
      "6/6 [==============================] - 0s 2ms/step - loss: 0.3306 - accuracy: 0.8396\n",
      "Epoch 249/250\n",
      "6/6 [==============================] - 0s 1ms/step - loss: 0.3305 - accuracy: 0.8396\n",
      "Epoch 250/250\n",
      "6/6 [==============================] - 0s 1ms/step - loss: 0.3305 - accuracy: 0.8396\n"
     ]
    }
   ],
   "source": [
    "history = model.fit(X_moon_train, y_moon_train, epochs=250)"
   ]
  },
  {
   "cell_type": "markdown",
   "metadata": {},
   "source": [
    "After the fitting, we can retrieve the correctness information for the next matching steps (subsequent epochs) from the `history` variable."
   ]
  },
  {
   "cell_type": "code",
   "execution_count": 35,
   "metadata": {},
   "outputs": [
    {
     "data": {
      "text/plain": [
       "[<matplotlib.lines.Line2D at 0x140bc0a0ec8>]"
      ]
     },
     "execution_count": 35,
     "metadata": {},
     "output_type": "execute_result"
    },
    {
     "data": {
      "image/png": "[encoded data removed]",
      "text/plain": [
       "<Figure size 432x288 with 1 Axes>"
      ]
     },
     "metadata": {
      "needs_background": "light"
     },
     "output_type": "display_data"
    }
   ],
   "source": [
    "plt.plot(history.history['accuracy'])"
   ]
  },
  {
   "cell_type": "code",
   "execution_count": 45,
   "metadata": {},
   "outputs": [
    {
     "data": {
      "text/plain": [
       "[<matplotlib.lines.Line2D at 0x140fdcf2e08>]"
      ]
     },
     "execution_count": 45,
     "metadata": {},
     "output_type": "execute_result"
    },
    {
     "data": {
      "image/png": "[encoded data removed]",
      "text/plain": [
       "<Figure size 432x288 with 1 Axes>"
      ]
     },
     "metadata": {
      "needs_background": "light"
     },
     "output_type": "display_data"
    }
   ],
   "source": [
    "plt.plot(history.history['accuracy'])"
   ]
  },
  {
   "cell_type": "markdown",
   "metadata": {},
   "source": [
    "If your correctness is below 80%, you can run the model fitting cell (`model.fit(...)`) again."
   ]
  },
  {
   "cell_type": "markdown",
   "metadata": {},
   "source": [
    "It is worth noting that the solution reached by the network is tantamount to the logistic regression that we have already learned.\n",
    "This is because our network weighs predictors (values on the x and y axes in the graphic representation), adds up and transforms them logistically. Logistic regression does exactly the same - it selects weights for the predictors, adds up and transforms logistically. Logistic regression still has an `intercept`, but it is no different in the case of neural networks - every neuron has a so-called `bias`, which works exactly the same way as the `intercept`. As a result, we have implemented logistic regression using a neural network. We need more layers to be able to achieve better results.  \n",
    "However, before we move on to adding layers, we will check what correctness we get on the test data:"
   ]
  },
  {
   "cell_type": "code",
   "execution_count": 37,
   "metadata": {},
   "outputs": [],
   "source": [
    "def show_correctness(X, y, clf, threshold=0.5):\n",
    "    probabilities = clf.predict(X)[:, 0]\n",
    "    predictions = (probabilities > threshold).astype('int')\n",
    "    correctness = (predictions == y).mean()\n",
    "    print('The correctness is: {:.2f}'.format(correctness))"
   ]
  },
  {
   "cell_type": "code",
   "execution_count": 46,
   "metadata": {},
   "outputs": [
    {
     "name": "stdout",
     "output_type": "stream",
     "text": [
      "The correctness is: 0.84\n"
     ]
    }
   ],
   "source": [
    "show_correctness(X_moon_train, y_moon_train, model)"
   ]
  },
  {
   "cell_type": "code",
   "execution_count": 47,
   "metadata": {},
   "outputs": [
    {
     "name": "stdout",
     "output_type": "stream",
     "text": [
      "The correctness is: 0.86\n"
     ]
    }
   ],
   "source": [
    "show_correctness(X_moon_test, y_moon_test, model)"
   ]
  },
  {
   "cell_type": "markdown",
   "metadata": {},
   "source": [
    "Time to increase model correctness. We will create a network with one hidden layer. We create the model the same way as before, we also create the output layer. Now, before we add the output layer, we add another layer with the following characteristics:\n",
    "* 3 neurons\n",
    "* Activation of the `relu` type"
   ]
  },
  {
   "cell_type": "markdown",
   "metadata": {},
   "source": [
    "<div class=\"alert alert-block alert-info\">\n",
    "📺 ************* WATCH AT HOME *************\n",
    "<br>\n",
    "\n",
    "[Which Activation Function Should I Use? - VERY GOOD VIDEO about RELU!](https://www.youtube.com/watch?v=-7scQpJT7uo)\n",
    "\n",
    "</div>"
   ]
  },
  {
   "cell_type": "code",
   "execution_count": 48,
   "metadata": {},
   "outputs": [],
   "source": [
    "model2 = Sequential()\n",
    "model2.add(Dense(3, activation='relu', input_shape=(2,)))\n",
    "model2.add(Dense(1, activation='sigmoid'))"
   ]
  },
  {
   "cell_type": "code",
   "execution_count": 49,
   "metadata": {},
   "outputs": [
    {
     "name": "stdout",
     "output_type": "stream",
     "text": [
      "Model: \"sequential_1\"\n",
      "_________________________________________________________________\n",
      "Layer (type)                 Output Shape              Param #   \n",
      "=================================================================\n",
      "dense_1 (Dense)              (None, 3)                 9         \n",
      "_________________________________________________________________\n",
      "dense_2 (Dense)              (None, 1)                 4         \n",
      "=================================================================\n",
      "Total params: 13\n",
      "Trainable params: 13\n",
      "Non-trainable params: 0\n",
      "_________________________________________________________________\n"
     ]
    }
   ],
   "source": [
    "model2.summary()"
   ]
  },
  {
   "cell_type": "markdown",
   "metadata": {},
   "source": [
    "We compile and fit the model as before:"
   ]
  },
  {
   "cell_type": "code",
   "execution_count": 54,
   "metadata": {},
   "outputs": [
    {
     "name": "stdout",
     "output_type": "stream",
     "text": [
      "Epoch 1/250\n",
      "6/6 [==============================] - 0s 1ms/step - loss: 0.3811 - accuracy: 0.8396\n",
      "Epoch 2/250\n",
      "6/6 [==============================] - 0s 1ms/step - loss: 0.3807 - accuracy: 0.8396\n",
      "Epoch 3/250\n",
      "6/6 [==============================] - 0s 1ms/step - loss: 0.3803 - accuracy: 0.8396\n",
      "Epoch 4/250\n",
      "6/6 [==============================] - 0s 2ms/step - loss: 0.3800 - accuracy: 0.8396\n",
      "Epoch 5/250\n",
      "6/6 [==============================] - 0s 1ms/step - loss: 0.3796 - accuracy: 0.8396\n",
      "Epoch 6/250\n",
      "6/6 [==============================] - 0s 1ms/step - loss: 0.3793 - accuracy: 0.8396\n",
      "Epoch 7/250\n",
      "6/6 [==============================] - 0s 1ms/step - loss: 0.3790 - accuracy: 0.8396\n",
      "Epoch 8/250\n",
      "6/6 [==============================] - 0s 1ms/step - loss: 0.3787 - accuracy: 0.8396\n",
      "Epoch 9/250\n",
      "6/6 [==============================] - 0s 2ms/step - loss: 0.3783 - accuracy: 0.8396\n",
      "Epoch 10/250\n",
      "6/6 [==============================] - 0s 1ms/step - loss: 0.3780 - accuracy: 0.8396\n",
      "Epoch 11/250\n",
      "6/6 [==============================] - 0s 1ms/step - loss: 0.3777 - accuracy: 0.8396\n",
      "Epoch 12/250\n",
      "6/6 [==============================] - 0s 1ms/step - loss: 0.3774 - accuracy: 0.8396\n",
      "Epoch 13/250\n",
      "6/6 [==============================] - 0s 1ms/step - loss: 0.3771 - accuracy: 0.8396\n",
      "Epoch 14/250\n",
      "6/6 [==============================] - 0s 2ms/step - loss: 0.3768 - accuracy: 0.8396\n",
      "Epoch 15/250\n",
      "6/6 [==============================] - 0s 1ms/step - loss: 0.3764 - accuracy: 0.8396\n",
      "Epoch 16/250\n",
      "6/6 [==============================] - 0s 2ms/step - loss: 0.3761 - accuracy: 0.8396\n",
      "Epoch 17/250\n",
      "6/6 [==============================] - 0s 2ms/step - loss: 0.3758 - accuracy: 0.8396\n",
      "Epoch 18/250\n",
      "6/6 [==============================] - 0s 1ms/step - loss: 0.3755 - accuracy: 0.8396\n",
      "Epoch 19/250\n",
      "6/6 [==============================] - 0s 1ms/step - loss: 0.3752 - accuracy: 0.8396\n",
      "Epoch 20/250\n",
      "6/6 [==============================] - 0s 2ms/step - loss: 0.3749 - accuracy: 0.8396\n",
      "Epoch 21/250\n",
      "6/6 [==============================] - 0s 2ms/step - loss: 0.3746 - accuracy: 0.8396\n",
      "Epoch 22/250\n",
      "6/6 [==============================] - 0s 1ms/step - loss: 0.3744 - accuracy: 0.8396\n",
      "Epoch 23/250\n",
      "6/6 [==============================] - 0s 2ms/step - loss: 0.3741 - accuracy: 0.8396\n",
      "Epoch 24/250\n",
      "6/6 [==============================] - 0s 1ms/step - loss: 0.3738 - accuracy: 0.8396\n",
      "Epoch 25/250\n",
      "6/6 [==============================] - 0s 1ms/step - loss: 0.3735 - accuracy: 0.8396\n",
      "Epoch 26/250\n",
      "6/6 [==============================] - 0s 2ms/step - loss: 0.3732 - accuracy: 0.8396\n",
      "Epoch 27/250\n",
      "6/6 [==============================] - 0s 2ms/step - loss: 0.3730 - accuracy: 0.8396\n",
      "Epoch 28/250\n",
      "6/6 [==============================] - 0s 1ms/step - loss: 0.3727 - accuracy: 0.8396\n",
      "Epoch 29/250\n",
      "6/6 [==============================] - 0s 1ms/step - loss: 0.3724 - accuracy: 0.8396\n",
      "Epoch 30/250\n",
      "6/6 [==============================] - 0s 1ms/step - loss: 0.3722 - accuracy: 0.8396\n",
      "Epoch 31/250\n",
      "6/6 [==============================] - 0s 1ms/step - loss: 0.3719 - accuracy: 0.8396\n",
      "Epoch 32/250\n",
      "6/6 [==============================] - 0s 1ms/step - loss: 0.3716 - accuracy: 0.8396\n",
      "Epoch 33/250\n",
      "6/6 [==============================] - 0s 1ms/step - loss: 0.3714 - accuracy: 0.8396\n",
      "Epoch 34/250\n",
      "6/6 [==============================] - 0s 1ms/step - loss: 0.3711 - accuracy: 0.8396\n",
      "Epoch 35/250\n",
      "6/6 [==============================] - 0s 1ms/step - loss: 0.3709 - accuracy: 0.8396\n",
      "Epoch 36/250\n",
      "6/6 [==============================] - 0s 2ms/step - loss: 0.3706 - accuracy: 0.8396\n",
      "Epoch 37/250\n",
      "6/6 [==============================] - 0s 2ms/step - loss: 0.3704 - accuracy: 0.8396\n",
      "Epoch 38/250\n",
      "6/6 [==============================] - 0s 2ms/step - loss: 0.3701 - accuracy: 0.8396\n",
      "Epoch 39/250\n",
      "6/6 [==============================] - 0s 2ms/step - loss: 0.3699 - accuracy: 0.8396\n",
      "Epoch 40/250\n",
      "6/6 [==============================] - 0s 1ms/step - loss: 0.3696 - accuracy: 0.8396\n",
      "Epoch 41/250\n",
      "6/6 [==============================] - 0s 1ms/step - loss: 0.3694 - accuracy: 0.8396\n",
      "Epoch 42/250\n",
      "6/6 [==============================] - 0s 1ms/step - loss: 0.3692 - accuracy: 0.8396\n",
      "Epoch 43/250\n",
      "6/6 [==============================] - 0s 1ms/step - loss: 0.3689 - accuracy: 0.8342\n",
      "Epoch 44/250\n",
      "6/6 [==============================] - 0s 2ms/step - loss: 0.3687 - accuracy: 0.8342\n",
      "Epoch 45/250\n",
      "6/6 [==============================] - 0s 2ms/step - loss: 0.3685 - accuracy: 0.8342\n",
      "Epoch 46/250\n",
      "6/6 [==============================] - 0s 1ms/step - loss: 0.3683 - accuracy: 0.8342\n",
      "Epoch 47/250\n",
      "6/6 [==============================] - 0s 2ms/step - loss: 0.3681 - accuracy: 0.8342\n",
      "Epoch 48/250\n",
      "6/6 [==============================] - 0s 1ms/step - loss: 0.3678 - accuracy: 0.8342\n",
      "Epoch 49/250\n",
      "6/6 [==============================] - 0s 1ms/step - loss: 0.3676 - accuracy: 0.8342\n",
      "Epoch 50/250\n",
      "6/6 [==============================] - 0s 2ms/step - loss: 0.3674 - accuracy: 0.8342\n",
      "Epoch 51/250\n",
      "6/6 [==============================] - 0s 1ms/step - loss: 0.3672 - accuracy: 0.8342\n",
      "Epoch 52/250\n",
      "6/6 [==============================] - 0s 2ms/step - loss: 0.3670 - accuracy: 0.8342\n",
      "Epoch 53/250\n",
      "6/6 [==============================] - 0s 2ms/step - loss: 0.3668 - accuracy: 0.8342\n",
      "Epoch 54/250\n",
      "6/6 [==============================] - 0s 1ms/step - loss: 0.3666 - accuracy: 0.8342\n",
      "Epoch 55/250\n",
      "6/6 [==============================] - 0s 2ms/step - loss: 0.3664 - accuracy: 0.8342\n",
      "Epoch 56/250\n",
      "6/6 [==============================] - 0s 2ms/step - loss: 0.3662 - accuracy: 0.8342\n",
      "Epoch 57/250\n",
      "6/6 [==============================] - 0s 2ms/step - loss: 0.3659 - accuracy: 0.8342\n",
      "Epoch 58/250\n",
      "6/6 [==============================] - 0s 2ms/step - loss: 0.3658 - accuracy: 0.8342\n",
      "Epoch 59/250\n",
      "6/6 [==============================] - 0s 1ms/step - loss: 0.3656 - accuracy: 0.8342\n",
      "Epoch 60/250\n",
      "6/6 [==============================] - 0s 1ms/step - loss: 0.3654 - accuracy: 0.8342\n",
      "Epoch 61/250\n",
      "6/6 [==============================] - 0s 2ms/step - loss: 0.3652 - accuracy: 0.8342\n",
      "Epoch 62/250\n",
      "6/6 [==============================] - 0s 1ms/step - loss: 0.3650 - accuracy: 0.8342\n",
      "Epoch 63/250\n",
      "6/6 [==============================] - 0s 1ms/step - loss: 0.3649 - accuracy: 0.8342\n",
      "Epoch 64/250\n",
      "6/6 [==============================] - 0s 1ms/step - loss: 0.3646 - accuracy: 0.8342\n",
      "Epoch 65/250\n",
      "6/6 [==============================] - 0s 2ms/step - loss: 0.3645 - accuracy: 0.8342\n",
      "Epoch 66/250\n",
      "6/6 [==============================] - 0s 2ms/step - loss: 0.3643 - accuracy: 0.8342\n",
      "Epoch 67/250\n",
      "6/6 [==============================] - 0s 2ms/step - loss: 0.3641 - accuracy: 0.8342\n",
      "Epoch 68/250\n",
      "6/6 [==============================] - 0s 1ms/step - loss: 0.3640 - accuracy: 0.8342\n",
      "Epoch 69/250\n",
      "6/6 [==============================] - 0s 1ms/step - loss: 0.3638 - accuracy: 0.8342\n",
      "Epoch 70/250\n",
      "6/6 [==============================] - 0s 2ms/step - loss: 0.3636 - accuracy: 0.8342\n",
      "Epoch 71/250\n",
      "6/6 [==============================] - 0s 2ms/step - loss: 0.3634 - accuracy: 0.8342\n",
      "Epoch 72/250\n",
      "6/6 [==============================] - 0s 1ms/step - loss: 0.3632 - accuracy: 0.8342\n",
      "Epoch 73/250\n",
      "6/6 [==============================] - 0s 2ms/step - loss: 0.3630 - accuracy: 0.8342\n",
      "Epoch 74/250\n",
      "6/6 [==============================] - 0s 2ms/step - loss: 0.3629 - accuracy: 0.8342\n",
      "Epoch 75/250\n",
      "6/6 [==============================] - 0s 2ms/step - loss: 0.3628 - accuracy: 0.8342\n",
      "Epoch 76/250\n",
      "6/6 [==============================] - 0s 1ms/step - loss: 0.3626 - accuracy: 0.8342\n",
      "Epoch 77/250\n",
      "6/6 [==============================] - 0s 2ms/step - loss: 0.3625 - accuracy: 0.8342\n",
      "Epoch 78/250\n",
      "6/6 [==============================] - 0s 1ms/step - loss: 0.3623 - accuracy: 0.8342\n",
      "Epoch 79/250\n",
      "6/6 [==============================] - 0s 2ms/step - loss: 0.3621 - accuracy: 0.8342\n",
      "Epoch 80/250\n",
      "6/6 [==============================] - 0s 1ms/step - loss: 0.3619 - accuracy: 0.8342\n",
      "Epoch 81/250\n",
      "6/6 [==============================] - 0s 1ms/step - loss: 0.3618 - accuracy: 0.8342\n",
      "Epoch 82/250\n",
      "6/6 [==============================] - 0s 1ms/step - loss: 0.3616 - accuracy: 0.8342\n",
      "Epoch 83/250\n",
      "6/6 [==============================] - 0s 2ms/step - loss: 0.3615 - accuracy: 0.8342\n",
      "Epoch 84/250\n",
      "6/6 [==============================] - 0s 2ms/step - loss: 0.3614 - accuracy: 0.8342\n",
      "Epoch 85/250\n",
      "6/6 [==============================] - 0s 1ms/step - loss: 0.3612 - accuracy: 0.8342\n",
      "Epoch 86/250\n",
      "6/6 [==============================] - 0s 1ms/step - loss: 0.3611 - accuracy: 0.8342\n",
      "Epoch 87/250\n",
      "6/6 [==============================] - 0s 2ms/step - loss: 0.3610 - accuracy: 0.8342\n",
      "Epoch 88/250\n",
      "6/6 [==============================] - 0s 2ms/step - loss: 0.3608 - accuracy: 0.8342\n",
      "Epoch 89/250\n",
      "6/6 [==============================] - 0s 2ms/step - loss: 0.3607 - accuracy: 0.8342\n",
      "Epoch 90/250\n",
      "6/6 [==============================] - 0s 2ms/step - loss: 0.3605 - accuracy: 0.8342\n",
      "Epoch 91/250\n",
      "6/6 [==============================] - 0s 1ms/step - loss: 0.3604 - accuracy: 0.8342\n",
      "Epoch 92/250\n",
      "6/6 [==============================] - 0s 1ms/step - loss: 0.3602 - accuracy: 0.8396\n",
      "Epoch 93/250\n",
      "6/6 [==============================] - 0s 1ms/step - loss: 0.3601 - accuracy: 0.8396\n",
      "Epoch 94/250\n",
      "6/6 [==============================] - 0s 1ms/step - loss: 0.3600 - accuracy: 0.8396\n",
      "Epoch 95/250\n",
      "6/6 [==============================] - 0s 1ms/step - loss: 0.3598 - accuracy: 0.8396\n",
      "Epoch 96/250\n",
      "6/6 [==============================] - 0s 1ms/step - loss: 0.3597 - accuracy: 0.8396\n",
      "Epoch 97/250\n",
      "6/6 [==============================] - 0s 1ms/step - loss: 0.3596 - accuracy: 0.8396\n",
      "Epoch 98/250\n",
      "6/6 [==============================] - 0s 2ms/step - loss: 0.3595 - accuracy: 0.8396\n",
      "Epoch 99/250\n",
      "6/6 [==============================] - 0s 1ms/step - loss: 0.3593 - accuracy: 0.8449\n",
      "Epoch 100/250\n",
      "6/6 [==============================] - 0s 1ms/step - loss: 0.3592 - accuracy: 0.8449\n",
      "Epoch 101/250\n",
      "6/6 [==============================] - 0s 1ms/step - loss: 0.3591 - accuracy: 0.8449\n",
      "Epoch 102/250\n",
      "6/6 [==============================] - 0s 2ms/step - loss: 0.3590 - accuracy: 0.8449\n",
      "Epoch 103/250\n",
      "6/6 [==============================] - 0s 1ms/step - loss: 0.3589 - accuracy: 0.8449\n",
      "Epoch 104/250\n",
      "6/6 [==============================] - 0s 1ms/step - loss: 0.3587 - accuracy: 0.8449\n",
      "Epoch 105/250\n",
      "6/6 [==============================] - 0s 1ms/step - loss: 0.3586 - accuracy: 0.8449\n",
      "Epoch 106/250\n",
      "6/6 [==============================] - 0s 1ms/step - loss: 0.3585 - accuracy: 0.8449\n",
      "Epoch 107/250\n",
      "6/6 [==============================] - 0s 1ms/step - loss: 0.3583 - accuracy: 0.8449\n",
      "Epoch 108/250\n",
      "6/6 [==============================] - 0s 2ms/step - loss: 0.3582 - accuracy: 0.8449\n",
      "Epoch 109/250\n",
      "6/6 [==============================] - 0s 1ms/step - loss: 0.3581 - accuracy: 0.8449\n",
      "Epoch 110/250\n",
      "6/6 [==============================] - 0s 1ms/step - loss: 0.3580 - accuracy: 0.8449\n",
      "Epoch 111/250\n",
      "6/6 [==============================] - 0s 1ms/step - loss: 0.3579 - accuracy: 0.8449\n",
      "Epoch 112/250\n",
      "6/6 [==============================] - 0s 1ms/step - loss: 0.3578 - accuracy: 0.8449\n",
      "Epoch 113/250\n",
      "6/6 [==============================] - 0s 1ms/step - loss: 0.3576 - accuracy: 0.8449\n",
      "Epoch 114/250\n",
      "6/6 [==============================] - 0s 1ms/step - loss: 0.3576 - accuracy: 0.8449\n",
      "Epoch 115/250\n",
      "6/6 [==============================] - 0s 2ms/step - loss: 0.3575 - accuracy: 0.8503\n",
      "Epoch 116/250\n",
      "6/6 [==============================] - 0s 1ms/step - loss: 0.3574 - accuracy: 0.8503\n",
      "Epoch 117/250\n",
      "6/6 [==============================] - 0s 1ms/step - loss: 0.3572 - accuracy: 0.8503\n",
      "Epoch 118/250\n",
      "6/6 [==============================] - 0s 1ms/step - loss: 0.3571 - accuracy: 0.8503\n",
      "Epoch 119/250\n",
      "6/6 [==============================] - 0s 1ms/step - loss: 0.3570 - accuracy: 0.8503\n",
      "Epoch 120/250\n",
      "6/6 [==============================] - 0s 1ms/step - loss: 0.3569 - accuracy: 0.8503\n",
      "Epoch 121/250\n",
      "6/6 [==============================] - 0s 1ms/step - loss: 0.3569 - accuracy: 0.8503\n",
      "Epoch 122/250\n",
      "6/6 [==============================] - 0s 1ms/step - loss: 0.3569 - accuracy: 0.8503\n",
      "Epoch 123/250\n",
      "6/6 [==============================] - 0s 1ms/step - loss: 0.3566 - accuracy: 0.8503\n",
      "Epoch 124/250\n",
      "6/6 [==============================] - 0s 2ms/step - loss: 0.3565 - accuracy: 0.8503\n",
      "Epoch 125/250\n",
      "6/6 [==============================] - 0s 2ms/step - loss: 0.3564 - accuracy: 0.8503\n",
      "Epoch 126/250\n",
      "6/6 [==============================] - 0s 1ms/step - loss: 0.3564 - accuracy: 0.8503\n",
      "Epoch 127/250\n",
      "6/6 [==============================] - 0s 1ms/step - loss: 0.3563 - accuracy: 0.8503\n",
      "Epoch 128/250\n",
      "6/6 [==============================] - 0s 2ms/step - loss: 0.3562 - accuracy: 0.8503\n",
      "Epoch 129/250\n",
      "6/6 [==============================] - 0s 2ms/step - loss: 0.3561 - accuracy: 0.8503\n",
      "Epoch 130/250\n",
      "6/6 [==============================] - 0s 1ms/step - loss: 0.3560 - accuracy: 0.8503\n",
      "Epoch 131/250\n",
      "6/6 [==============================] - 0s 1ms/step - loss: 0.3559 - accuracy: 0.8503\n",
      "Epoch 132/250\n",
      "6/6 [==============================] - 0s 1ms/step - loss: 0.3558 - accuracy: 0.8503\n",
      "Epoch 133/250\n",
      "6/6 [==============================] - 0s 1ms/step - loss: 0.3557 - accuracy: 0.8503\n",
      "Epoch 134/250\n",
      "6/6 [==============================] - 0s 1ms/step - loss: 0.3556 - accuracy: 0.8503\n",
      "Epoch 135/250\n",
      "6/6 [==============================] - 0s 1ms/step - loss: 0.3555 - accuracy: 0.8503\n",
      "Epoch 136/250\n",
      "6/6 [==============================] - 0s 2ms/step - loss: 0.3555 - accuracy: 0.8503\n",
      "Epoch 137/250\n",
      "6/6 [==============================] - 0s 2ms/step - loss: 0.3554 - accuracy: 0.8503\n",
      "Epoch 138/250\n",
      "6/6 [==============================] - 0s 1ms/step - loss: 0.3553 - accuracy: 0.8503\n",
      "Epoch 139/250\n",
      "6/6 [==============================] - 0s 2ms/step - loss: 0.3552 - accuracy: 0.8503\n",
      "Epoch 140/250\n",
      "6/6 [==============================] - 0s 2ms/step - loss: 0.3552 - accuracy: 0.8503\n",
      "Epoch 141/250\n",
      "6/6 [==============================] - 0s 1ms/step - loss: 0.3551 - accuracy: 0.8503\n",
      "Epoch 142/250\n",
      "6/6 [==============================] - 0s 1ms/step - loss: 0.3550 - accuracy: 0.8503\n",
      "Epoch 143/250\n",
      "6/6 [==============================] - 0s 1ms/step - loss: 0.3549 - accuracy: 0.8503\n",
      "Epoch 144/250\n",
      "6/6 [==============================] - 0s 1ms/step - loss: 0.3548 - accuracy: 0.8503\n",
      "Epoch 145/250\n",
      "6/6 [==============================] - 0s 2ms/step - loss: 0.3548 - accuracy: 0.8503\n",
      "Epoch 146/250\n",
      "6/6 [==============================] - 0s 1ms/step - loss: 0.3547 - accuracy: 0.8503\n",
      "Epoch 147/250\n",
      "6/6 [==============================] - 0s 1ms/step - loss: 0.3546 - accuracy: 0.8503\n",
      "Epoch 148/250\n",
      "6/6 [==============================] - 0s 1ms/step - loss: 0.3545 - accuracy: 0.8503\n",
      "Epoch 149/250\n",
      "6/6 [==============================] - 0s 2ms/step - loss: 0.3545 - accuracy: 0.8503\n",
      "Epoch 150/250\n",
      "6/6 [==============================] - 0s 1ms/step - loss: 0.3544 - accuracy: 0.8503\n",
      "Epoch 151/250\n",
      "6/6 [==============================] - 0s 1ms/step - loss: 0.3543 - accuracy: 0.8503\n",
      "Epoch 152/250\n",
      "6/6 [==============================] - 0s 1ms/step - loss: 0.3542 - accuracy: 0.8503\n",
      "Epoch 153/250\n",
      "6/6 [==============================] - 0s 2ms/step - loss: 0.3542 - accuracy: 0.8503\n",
      "Epoch 154/250\n",
      "6/6 [==============================] - 0s 1ms/step - loss: 0.3541 - accuracy: 0.8503\n",
      "Epoch 155/250\n",
      "6/6 [==============================] - 0s 1ms/step - loss: 0.3540 - accuracy: 0.8503\n",
      "Epoch 156/250\n",
      "6/6 [==============================] - 0s 2ms/step - loss: 0.3540 - accuracy: 0.8503\n",
      "Epoch 157/250\n",
      "6/6 [==============================] - 0s 1ms/step - loss: 0.3539 - accuracy: 0.8503\n",
      "Epoch 158/250\n",
      "6/6 [==============================] - 0s 1ms/step - loss: 0.3538 - accuracy: 0.8503\n",
      "Epoch 159/250\n",
      "6/6 [==============================] - 0s 1ms/step - loss: 0.3538 - accuracy: 0.8503\n",
      "Epoch 160/250\n",
      "6/6 [==============================] - 0s 1ms/step - loss: 0.3537 - accuracy: 0.8503\n",
      "Epoch 161/250\n",
      "6/6 [==============================] - 0s 1ms/step - loss: 0.3536 - accuracy: 0.8503\n",
      "Epoch 162/250\n",
      "6/6 [==============================] - 0s 1ms/step - loss: 0.3536 - accuracy: 0.8503\n",
      "Epoch 163/250\n",
      "6/6 [==============================] - 0s 1ms/step - loss: 0.3535 - accuracy: 0.8503\n",
      "Epoch 164/250\n",
      "6/6 [==============================] - 0s 1ms/step - loss: 0.3534 - accuracy: 0.8503\n",
      "Epoch 165/250\n",
      "6/6 [==============================] - 0s 1ms/step - loss: 0.3534 - accuracy: 0.8503\n",
      "Epoch 166/250\n",
      "6/6 [==============================] - 0s 1ms/step - loss: 0.3533 - accuracy: 0.8503\n",
      "Epoch 167/250\n"
     ]
    },
    {
     "name": "stdout",
     "output_type": "stream",
     "text": [
      "6/6 [==============================] - 0s 2ms/step - loss: 0.3533 - accuracy: 0.8503\n",
      "Epoch 168/250\n",
      "6/6 [==============================] - 0s 1ms/step - loss: 0.3532 - accuracy: 0.8503\n",
      "Epoch 169/250\n",
      "6/6 [==============================] - 0s 1ms/step - loss: 0.3531 - accuracy: 0.8503\n",
      "Epoch 170/250\n",
      "6/6 [==============================] - 0s 1ms/step - loss: 0.3531 - accuracy: 0.8503\n",
      "Epoch 171/250\n",
      "6/6 [==============================] - 0s 2ms/step - loss: 0.3530 - accuracy: 0.8503\n",
      "Epoch 172/250\n",
      "6/6 [==============================] - 0s 1ms/step - loss: 0.3530 - accuracy: 0.8503\n",
      "Epoch 173/250\n",
      "6/6 [==============================] - 0s 1ms/step - loss: 0.3529 - accuracy: 0.8503\n",
      "Epoch 174/250\n",
      "6/6 [==============================] - 0s 1ms/step - loss: 0.3529 - accuracy: 0.8503\n",
      "Epoch 175/250\n",
      "6/6 [==============================] - 0s 2ms/step - loss: 0.3528 - accuracy: 0.8503\n",
      "Epoch 176/250\n",
      "6/6 [==============================] - 0s 2ms/step - loss: 0.3527 - accuracy: 0.8503\n",
      "Epoch 177/250\n",
      "6/6 [==============================] - 0s 1ms/step - loss: 0.3527 - accuracy: 0.8503\n",
      "Epoch 178/250\n",
      "6/6 [==============================] - 0s 1ms/step - loss: 0.3526 - accuracy: 0.8503\n",
      "Epoch 179/250\n",
      "6/6 [==============================] - 0s 1ms/step - loss: 0.3525 - accuracy: 0.8503\n",
      "Epoch 180/250\n",
      "6/6 [==============================] - 0s 2ms/step - loss: 0.3525 - accuracy: 0.8503\n",
      "Epoch 181/250\n",
      "6/6 [==============================] - 0s 2ms/step - loss: 0.3524 - accuracy: 0.8503\n",
      "Epoch 182/250\n",
      "6/6 [==============================] - 0s 1ms/step - loss: 0.3524 - accuracy: 0.8503\n",
      "Epoch 183/250\n",
      "6/6 [==============================] - 0s 1ms/step - loss: 0.3524 - accuracy: 0.8503\n",
      "Epoch 184/250\n",
      "6/6 [==============================] - 0s 1ms/step - loss: 0.3523 - accuracy: 0.8503\n",
      "Epoch 185/250\n",
      "6/6 [==============================] - 0s 1ms/step - loss: 0.3522 - accuracy: 0.8503\n",
      "Epoch 186/250\n",
      "6/6 [==============================] - 0s 1ms/step - loss: 0.3522 - accuracy: 0.8503\n",
      "Epoch 187/250\n",
      "6/6 [==============================] - 0s 1ms/step - loss: 0.3521 - accuracy: 0.8503\n",
      "Epoch 188/250\n",
      "6/6 [==============================] - 0s 1ms/step - loss: 0.3521 - accuracy: 0.8503\n",
      "Epoch 189/250\n",
      "6/6 [==============================] - 0s 1ms/step - loss: 0.3521 - accuracy: 0.8503\n",
      "Epoch 190/250\n",
      "6/6 [==============================] - 0s 1ms/step - loss: 0.3520 - accuracy: 0.8503\n",
      "Epoch 191/250\n",
      "6/6 [==============================] - 0s 2ms/step - loss: 0.3519 - accuracy: 0.8503\n",
      "Epoch 192/250\n",
      "6/6 [==============================] - 0s 2ms/step - loss: 0.3519 - accuracy: 0.8503\n",
      "Epoch 193/250\n",
      "6/6 [==============================] - 0s 2ms/step - loss: 0.3518 - accuracy: 0.8503\n",
      "Epoch 194/250\n",
      "6/6 [==============================] - 0s 1ms/step - loss: 0.3518 - accuracy: 0.8503\n",
      "Epoch 195/250\n",
      "6/6 [==============================] - 0s 1ms/step - loss: 0.3517 - accuracy: 0.8503\n",
      "Epoch 196/250\n",
      "6/6 [==============================] - 0s 1ms/step - loss: 0.3517 - accuracy: 0.8503\n",
      "Epoch 197/250\n",
      "6/6 [==============================] - 0s 1ms/step - loss: 0.3516 - accuracy: 0.8503\n",
      "Epoch 198/250\n",
      "6/6 [==============================] - 0s 1ms/step - loss: 0.3516 - accuracy: 0.8503\n",
      "Epoch 199/250\n",
      "6/6 [==============================] - 0s 1ms/step - loss: 0.3516 - accuracy: 0.8503\n",
      "Epoch 200/250\n",
      "6/6 [==============================] - 0s 1ms/step - loss: 0.3515 - accuracy: 0.8503\n",
      "Epoch 201/250\n",
      "6/6 [==============================] - 0s 2ms/step - loss: 0.3515 - accuracy: 0.8503\n",
      "Epoch 202/250\n",
      "6/6 [==============================] - 0s 2ms/step - loss: 0.3514 - accuracy: 0.8503\n",
      "Epoch 203/250\n",
      "6/6 [==============================] - 0s 1ms/step - loss: 0.3514 - accuracy: 0.8503\n",
      "Epoch 204/250\n",
      "6/6 [==============================] - 0s 1ms/step - loss: 0.3514 - accuracy: 0.8503\n",
      "Epoch 205/250\n",
      "6/6 [==============================] - 0s 1ms/step - loss: 0.3513 - accuracy: 0.8503\n",
      "Epoch 206/250\n",
      "6/6 [==============================] - 0s 2ms/step - loss: 0.3512 - accuracy: 0.8503\n",
      "Epoch 207/250\n",
      "6/6 [==============================] - 0s 2ms/step - loss: 0.3513 - accuracy: 0.8503\n",
      "Epoch 208/250\n",
      "6/6 [==============================] - 0s 1ms/step - loss: 0.3512 - accuracy: 0.8503\n",
      "Epoch 209/250\n",
      "6/6 [==============================] - 0s 1ms/step - loss: 0.3511 - accuracy: 0.8503\n",
      "Epoch 210/250\n",
      "6/6 [==============================] - 0s 1ms/step - loss: 0.3511 - accuracy: 0.8503\n",
      "Epoch 211/250\n",
      "6/6 [==============================] - 0s 1ms/step - loss: 0.3510 - accuracy: 0.8503\n",
      "Epoch 212/250\n",
      "6/6 [==============================] - 0s 2ms/step - loss: 0.3510 - accuracy: 0.8503\n",
      "Epoch 213/250\n",
      "6/6 [==============================] - 0s 1ms/step - loss: 0.3510 - accuracy: 0.8503\n",
      "Epoch 214/250\n",
      "6/6 [==============================] - 0s 1ms/step - loss: 0.3509 - accuracy: 0.8503\n",
      "Epoch 215/250\n",
      "6/6 [==============================] - 0s 2ms/step - loss: 0.3509 - accuracy: 0.8503\n",
      "Epoch 216/250\n",
      "6/6 [==============================] - 0s 1ms/step - loss: 0.3508 - accuracy: 0.8503\n",
      "Epoch 217/250\n",
      "6/6 [==============================] - 0s 1ms/step - loss: 0.3508 - accuracy: 0.8503\n",
      "Epoch 218/250\n",
      "6/6 [==============================] - 0s 1ms/step - loss: 0.3508 - accuracy: 0.8503\n",
      "Epoch 219/250\n",
      "6/6 [==============================] - 0s 1ms/step - loss: 0.3508 - accuracy: 0.8503\n",
      "Epoch 220/250\n",
      "6/6 [==============================] - 0s 2ms/step - loss: 0.3507 - accuracy: 0.8503\n",
      "Epoch 221/250\n",
      "6/6 [==============================] - 0s 1ms/step - loss: 0.3507 - accuracy: 0.8503\n",
      "Epoch 222/250\n",
      "6/6 [==============================] - 0s 1ms/step - loss: 0.3506 - accuracy: 0.8503\n",
      "Epoch 223/250\n",
      "6/6 [==============================] - 0s 1ms/step - loss: 0.3506 - accuracy: 0.8503\n",
      "Epoch 224/250\n",
      "6/6 [==============================] - 0s 2ms/step - loss: 0.3506 - accuracy: 0.8503\n",
      "Epoch 225/250\n",
      "6/6 [==============================] - 0s 2ms/step - loss: 0.3505 - accuracy: 0.8556\n",
      "Epoch 226/250\n",
      "6/6 [==============================] - 0s 1ms/step - loss: 0.3505 - accuracy: 0.8503\n",
      "Epoch 227/250\n",
      "6/6 [==============================] - 0s 1ms/step - loss: 0.3504 - accuracy: 0.8556\n",
      "Epoch 228/250\n",
      "6/6 [==============================] - 0s 1ms/step - loss: 0.3504 - accuracy: 0.8556\n",
      "Epoch 229/250\n",
      "6/6 [==============================] - 0s 1ms/step - loss: 0.3504 - accuracy: 0.8556\n",
      "Epoch 230/250\n",
      "6/6 [==============================] - 0s 1ms/step - loss: 0.3504 - accuracy: 0.8556\n",
      "Epoch 231/250\n",
      "6/6 [==============================] - 0s 1ms/step - loss: 0.3503 - accuracy: 0.8556\n",
      "Epoch 232/250\n",
      "6/6 [==============================] - 0s 2ms/step - loss: 0.3503 - accuracy: 0.8556\n",
      "Epoch 233/250\n",
      "6/6 [==============================] - 0s 2ms/step - loss: 0.3503 - accuracy: 0.8556\n",
      "Epoch 234/250\n",
      "6/6 [==============================] - 0s 2ms/step - loss: 0.3502 - accuracy: 0.8556\n",
      "Epoch 235/250\n",
      "6/6 [==============================] - 0s 1ms/step - loss: 0.3502 - accuracy: 0.8556\n",
      "Epoch 236/250\n",
      "6/6 [==============================] - 0s 1ms/step - loss: 0.3501 - accuracy: 0.8556\n",
      "Epoch 237/250\n",
      "6/6 [==============================] - 0s 2ms/step - loss: 0.3501 - accuracy: 0.8556\n",
      "Epoch 238/250\n",
      "6/6 [==============================] - 0s 2ms/step - loss: 0.3501 - accuracy: 0.8556\n",
      "Epoch 239/250\n",
      "6/6 [==============================] - 0s 1ms/step - loss: 0.3501 - accuracy: 0.8556\n",
      "Epoch 240/250\n",
      "6/6 [==============================] - 0s 1ms/step - loss: 0.3500 - accuracy: 0.8556\n",
      "Epoch 241/250\n",
      "6/6 [==============================] - 0s 2ms/step - loss: 0.3500 - accuracy: 0.8556\n",
      "Epoch 242/250\n",
      "6/6 [==============================] - 0s 2ms/step - loss: 0.3500 - accuracy: 0.8556\n",
      "Epoch 243/250\n",
      "6/6 [==============================] - 0s 2ms/step - loss: 0.3499 - accuracy: 0.8556\n",
      "Epoch 244/250\n",
      "6/6 [==============================] - 0s 1ms/step - loss: 0.3499 - accuracy: 0.8556\n",
      "Epoch 245/250\n",
      "6/6 [==============================] - 0s 2ms/step - loss: 0.3499 - accuracy: 0.8556\n",
      "Epoch 246/250\n",
      "6/6 [==============================] - 0s 2ms/step - loss: 0.3498 - accuracy: 0.8556\n",
      "Epoch 247/250\n",
      "6/6 [==============================] - 0s 2ms/step - loss: 0.3498 - accuracy: 0.8556\n",
      "Epoch 248/250\n",
      "6/6 [==============================] - 0s 2ms/step - loss: 0.3498 - accuracy: 0.8556\n",
      "Epoch 249/250\n",
      "6/6 [==============================] - 0s 1ms/step - loss: 0.3498 - accuracy: 0.8556\n",
      "Epoch 250/250\n",
      "6/6 [==============================] - 0s 1ms/step - loss: 0.3497 - accuracy: 0.8556\n"
     ]
    }
   ],
   "source": [
    "model2.compile(loss='binary_crossentropy', optimizer='adam', metrics=['accuracy'])\n",
    "history2 = model2.fit(X_moon_train, y_moon_train, epochs=250)"
   ]
  },
  {
   "cell_type": "code",
   "execution_count": 51,
   "metadata": {},
   "outputs": [
    {
     "data": {
      "text/plain": [
       "[<matplotlib.lines.Line2D at 0x142720d9508>]"
      ]
     },
     "execution_count": 51,
     "metadata": {},
     "output_type": "execute_result"
    },
    {
     "data": {
      "image/png": "[encoded data removed]",
      "text/plain": [
       "<Figure size 432x288 with 1 Axes>"
      ]
     },
     "metadata": {
      "needs_background": "light"
     },
     "output_type": "display_data"
    }
   ],
   "source": [
    "plt.plot(history2.history['accuracy'])"
   ]
  },
  {
   "cell_type": "code",
   "execution_count": 55,
   "metadata": {},
   "outputs": [
    {
     "data": {
      "text/plain": [
       "[<matplotlib.lines.Line2D at 0x14272b10f88>]"
      ]
     },
     "execution_count": 55,
     "metadata": {},
     "output_type": "execute_result"
    },
    {
     "data": {
      "image/png": "[encoded data removed]",
      "text/plain": [
       "<Figure size 432x288 with 1 Axes>"
      ]
     },
     "metadata": {
      "needs_background": "light"
     },
     "output_type": "display_data"
    }
   ],
   "source": [
    "plt.plot(history2.history['accuracy'])"
   ]
  },
  {
   "cell_type": "markdown",
   "metadata": {},
   "source": [
    "<div class=\"alert alert-block alert-success\">\n",
    "⚠️TASK 4\n",
    "<br>\n",
    "\n",
    "Now check the correctness of this network for the test data.\n",
    "\n",
    "</div>"
   ]
  },
  {
   "cell_type": "code",
   "execution_count": 52,
   "metadata": {},
   "outputs": [
    {
     "name": "stdout",
     "output_type": "stream",
     "text": [
      "The correctness is: 0.84\n"
     ]
    }
   ],
   "source": [
    "show_correctness(X_moon_train, y_moon_train, model2)"
   ]
  },
  {
   "cell_type": "code",
   "execution_count": 53,
   "metadata": {},
   "outputs": [
    {
     "name": "stdout",
     "output_type": "stream",
     "text": [
      "The correctness is: 0.86\n"
     ]
    }
   ],
   "source": [
    "show_correctness(X_moon_test, y_moon_test, model2)"
   ]
  },
  {
   "cell_type": "code",
   "execution_count": 56,
   "metadata": {},
   "outputs": [
    {
     "name": "stdout",
     "output_type": "stream",
     "text": [
      "The correctness is: 0.86\n",
      "The correctness is: 0.84\n"
     ]
    }
   ],
   "source": [
    "show_correctness(X_moon_train, y_moon_train, model2)\n",
    "\n",
    "show_correctness(X_moon_test, y_moon_test, model2)"
   ]
  },
  {
   "cell_type": "markdown",
   "metadata": {},
   "source": [
    "<div class=\"alert alert-block alert-success\">\n",
    "⚠️TASK 5\n",
    "<br>\n",
    "\n",
    "Create a model with two hidden layers: one with 8 neurons, the other with 2. Both hidden layers with activation of `'relu'` type.\n",
    "\n",
    "</div>"
   ]
  },
  {
   "cell_type": "code",
   "execution_count": 57,
   "metadata": {},
   "outputs": [],
   "source": [
    "# creating model\n",
    "model3 = Sequential()\n",
    "\n",
    "# hidden layers\n",
    "model3.add(Dense(8, activation='relu', input_shape=(2,)))\n",
    "model3.add(Dense(2, activation='relu'))\n",
    "\n",
    "# output layer\n",
    "model3.add(Dense(1, activation='sigmoid'))"
   ]
  },
  {
   "cell_type": "code",
   "execution_count": 58,
   "metadata": {},
   "outputs": [
    {
     "name": "stdout",
     "output_type": "stream",
     "text": [
      "Model: \"sequential_2\"\n",
      "_________________________________________________________________\n",
      "Layer (type)                 Output Shape              Param #   \n",
      "=================================================================\n",
      "dense_3 (Dense)              (None, 8)                 24        \n",
      "_________________________________________________________________\n",
      "dense_4 (Dense)              (None, 2)                 18        \n",
      "_________________________________________________________________\n",
      "dense_5 (Dense)              (None, 1)                 3         \n",
      "=================================================================\n",
      "Total params: 45\n",
      "Trainable params: 45\n",
      "Non-trainable params: 0\n",
      "_________________________________________________________________\n"
     ]
    }
   ],
   "source": [
    "model3.summary()"
   ]
  },
  {
   "cell_type": "code",
   "execution_count": 63,
   "metadata": {},
   "outputs": [
    {
     "name": "stdout",
     "output_type": "stream",
     "text": [
      "Epoch 1/250\n",
      "6/6 [==============================] - 0s 2ms/step - loss: 0.3068 - accuracy: 0.9091\n",
      "Epoch 2/250\n",
      "6/6 [==============================] - 0s 2ms/step - loss: 0.3057 - accuracy: 0.9091\n",
      "Epoch 3/250\n",
      "6/6 [==============================] - 0s 2ms/step - loss: 0.3048 - accuracy: 0.9091\n",
      "Epoch 4/250\n",
      "6/6 [==============================] - 0s 1ms/step - loss: 0.3042 - accuracy: 0.9091\n",
      "Epoch 5/250\n",
      "6/6 [==============================] - 0s 2ms/step - loss: 0.3033 - accuracy: 0.9091\n",
      "Epoch 6/250\n",
      "6/6 [==============================] - 0s 2ms/step - loss: 0.3026 - accuracy: 0.9091\n",
      "Epoch 7/250\n",
      "6/6 [==============================] - 0s 2ms/step - loss: 0.3019 - accuracy: 0.9091\n",
      "Epoch 8/250\n",
      "6/6 [==============================] - 0s 2ms/step - loss: 0.3011 - accuracy: 0.9091\n",
      "Epoch 9/250\n",
      "6/6 [==============================] - 0s 2ms/step - loss: 0.3003 - accuracy: 0.9091\n",
      "Epoch 10/250\n",
      "6/6 [==============================] - 0s 2ms/step - loss: 0.2996 - accuracy: 0.9091\n",
      "Epoch 11/250\n",
      "6/6 [==============================] - 0s 1ms/step - loss: 0.2988 - accuracy: 0.9091\n",
      "Epoch 12/250\n",
      "6/6 [==============================] - 0s 2ms/step - loss: 0.2981 - accuracy: 0.9091\n",
      "Epoch 13/250\n",
      "6/6 [==============================] - 0s 2ms/step - loss: 0.2974 - accuracy: 0.9144\n",
      "Epoch 14/250\n",
      "6/6 [==============================] - 0s 2ms/step - loss: 0.2967 - accuracy: 0.9144\n",
      "Epoch 15/250\n",
      "6/6 [==============================] - 0s 2ms/step - loss: 0.2958 - accuracy: 0.9144\n",
      "Epoch 16/250\n",
      "6/6 [==============================] - 0s 2ms/step - loss: 0.2950 - accuracy: 0.9144\n",
      "Epoch 17/250\n",
      "6/6 [==============================] - 0s 2ms/step - loss: 0.2943 - accuracy: 0.9144\n",
      "Epoch 18/250\n",
      "6/6 [==============================] - 0s 1ms/step - loss: 0.2934 - accuracy: 0.9144\n",
      "Epoch 19/250\n",
      "6/6 [==============================] - 0s 2ms/step - loss: 0.2928 - accuracy: 0.9144\n",
      "Epoch 20/250\n",
      "6/6 [==============================] - 0s 2ms/step - loss: 0.2920 - accuracy: 0.9144\n",
      "Epoch 21/250\n",
      "6/6 [==============================] - 0s 2ms/step - loss: 0.2914 - accuracy: 0.9144\n",
      "Epoch 22/250\n",
      "6/6 [==============================] - 0s 2ms/step - loss: 0.2904 - accuracy: 0.9144\n",
      "Epoch 23/250\n",
      "6/6 [==============================] - 0s 2ms/step - loss: 0.2898 - accuracy: 0.9144\n",
      "Epoch 24/250\n",
      "6/6 [==============================] - 0s 2ms/step - loss: 0.2892 - accuracy: 0.9144\n",
      "Epoch 25/250\n",
      "6/6 [==============================] - 0s 2ms/step - loss: 0.2883 - accuracy: 0.9144\n",
      "Epoch 26/250\n",
      "6/6 [==============================] - 0s 2ms/step - loss: 0.2875 - accuracy: 0.9091\n",
      "Epoch 27/250\n",
      "6/6 [==============================] - 0s 2ms/step - loss: 0.2868 - accuracy: 0.9091\n",
      "Epoch 28/250\n",
      "6/6 [==============================] - 0s 2ms/step - loss: 0.2861 - accuracy: 0.9091\n",
      "Epoch 29/250\n",
      "6/6 [==============================] - 0s 2ms/step - loss: 0.2853 - accuracy: 0.9091\n",
      "Epoch 30/250\n",
      "6/6 [==============================] - 0s 2ms/step - loss: 0.2845 - accuracy: 0.9091\n",
      "Epoch 31/250\n",
      "6/6 [==============================] - 0s 1ms/step - loss: 0.2839 - accuracy: 0.9091\n",
      "Epoch 32/250\n",
      "6/6 [==============================] - 0s 2ms/step - loss: 0.2831 - accuracy: 0.9091\n",
      "Epoch 33/250\n",
      "6/6 [==============================] - 0s 2ms/step - loss: 0.2824 - accuracy: 0.9091\n",
      "Epoch 34/250\n",
      "6/6 [==============================] - 0s 2ms/step - loss: 0.2817 - accuracy: 0.9091\n",
      "Epoch 35/250\n",
      "6/6 [==============================] - 0s 2ms/step - loss: 0.2810 - accuracy: 0.9091\n",
      "Epoch 36/250\n",
      "6/6 [==============================] - 0s 2ms/step - loss: 0.2802 - accuracy: 0.9091\n",
      "Epoch 37/250\n",
      "6/6 [==============================] - 0s 2ms/step - loss: 0.2795 - accuracy: 0.9091\n",
      "Epoch 38/250\n",
      "6/6 [==============================] - 0s 1ms/step - loss: 0.2788 - accuracy: 0.9091\n",
      "Epoch 39/250\n",
      "6/6 [==============================] - 0s 2ms/step - loss: 0.2781 - accuracy: 0.9091\n",
      "Epoch 40/250\n",
      "6/6 [==============================] - 0s 2ms/step - loss: 0.2774 - accuracy: 0.9091\n",
      "Epoch 41/250\n",
      "6/6 [==============================] - 0s 2ms/step - loss: 0.2767 - accuracy: 0.9091\n",
      "Epoch 42/250\n",
      "6/6 [==============================] - 0s 2ms/step - loss: 0.2760 - accuracy: 0.9091\n",
      "Epoch 43/250\n",
      "6/6 [==============================] - 0s 2ms/step - loss: 0.2753 - accuracy: 0.9091\n",
      "Epoch 44/250\n",
      "6/6 [==============================] - 0s 2ms/step - loss: 0.2746 - accuracy: 0.9091\n",
      "Epoch 45/250\n",
      "6/6 [==============================] - 0s 2ms/step - loss: 0.2739 - accuracy: 0.9091\n",
      "Epoch 46/250\n",
      "6/6 [==============================] - 0s 2ms/step - loss: 0.2732 - accuracy: 0.9091\n",
      "Epoch 47/250\n",
      "6/6 [==============================] - 0s 1ms/step - loss: 0.2725 - accuracy: 0.9091\n",
      "Epoch 48/250\n",
      "6/6 [==============================] - 0s 2ms/step - loss: 0.2718 - accuracy: 0.9091\n",
      "Epoch 49/250\n",
      "6/6 [==============================] - 0s 2ms/step - loss: 0.2710 - accuracy: 0.9091\n",
      "Epoch 50/250\n",
      "6/6 [==============================] - 0s 2ms/step - loss: 0.2704 - accuracy: 0.9091\n",
      "Epoch 51/250\n",
      "6/6 [==============================] - 0s 2ms/step - loss: 0.2697 - accuracy: 0.9091\n",
      "Epoch 52/250\n",
      "6/6 [==============================] - 0s 2ms/step - loss: 0.2690 - accuracy: 0.9091\n",
      "Epoch 53/250\n",
      "6/6 [==============================] - 0s 2ms/step - loss: 0.2684 - accuracy: 0.9091\n",
      "Epoch 54/250\n",
      "6/6 [==============================] - 0s 1ms/step - loss: 0.2677 - accuracy: 0.9091\n",
      "Epoch 55/250\n",
      "6/6 [==============================] - 0s 2ms/step - loss: 0.2670 - accuracy: 0.9091\n",
      "Epoch 56/250\n",
      "6/6 [==============================] - 0s 2ms/step - loss: 0.2663 - accuracy: 0.9091\n",
      "Epoch 57/250\n",
      "6/6 [==============================] - 0s 1ms/step - loss: 0.2657 - accuracy: 0.9091\n",
      "Epoch 58/250\n",
      "6/6 [==============================] - 0s 1ms/step - loss: 0.2649 - accuracy: 0.9091\n",
      "Epoch 59/250\n",
      "6/6 [==============================] - 0s 2ms/step - loss: 0.2642 - accuracy: 0.9091\n",
      "Epoch 60/250\n",
      "6/6 [==============================] - 0s 2ms/step - loss: 0.2637 - accuracy: 0.9091\n",
      "Epoch 61/250\n",
      "6/6 [==============================] - 0s 1ms/step - loss: 0.2630 - accuracy: 0.9091\n",
      "Epoch 62/250\n",
      "6/6 [==============================] - 0s 1ms/step - loss: 0.2623 - accuracy: 0.9091\n",
      "Epoch 63/250\n",
      "6/6 [==============================] - 0s 2ms/step - loss: 0.2618 - accuracy: 0.9091\n",
      "Epoch 64/250\n",
      "6/6 [==============================] - 0s 2ms/step - loss: 0.2609 - accuracy: 0.9091\n",
      "Epoch 65/250\n",
      "6/6 [==============================] - 0s 2ms/step - loss: 0.2603 - accuracy: 0.9091\n",
      "Epoch 66/250\n",
      "6/6 [==============================] - 0s 2ms/step - loss: 0.2598 - accuracy: 0.9091\n",
      "Epoch 67/250\n",
      "6/6 [==============================] - 0s 1ms/step - loss: 0.2590 - accuracy: 0.9091\n",
      "Epoch 68/250\n",
      "6/6 [==============================] - 0s 2ms/step - loss: 0.2584 - accuracy: 0.9144\n",
      "Epoch 69/250\n",
      "6/6 [==============================] - 0s 2ms/step - loss: 0.2576 - accuracy: 0.9144\n",
      "Epoch 70/250\n",
      "6/6 [==============================] - 0s 2ms/step - loss: 0.2570 - accuracy: 0.9144\n",
      "Epoch 71/250\n",
      "6/6 [==============================] - 0s 2ms/step - loss: 0.2564 - accuracy: 0.9144\n",
      "Epoch 72/250\n",
      "6/6 [==============================] - 0s 2ms/step - loss: 0.2559 - accuracy: 0.9144\n",
      "Epoch 73/250\n",
      "6/6 [==============================] - 0s 1ms/step - loss: 0.2550 - accuracy: 0.9144\n",
      "Epoch 74/250\n",
      "6/6 [==============================] - 0s 1ms/step - loss: 0.2544 - accuracy: 0.9144\n",
      "Epoch 75/250\n",
      "6/6 [==============================] - 0s 2ms/step - loss: 0.2538 - accuracy: 0.9144\n",
      "Epoch 76/250\n",
      "6/6 [==============================] - 0s 2ms/step - loss: 0.2532 - accuracy: 0.9144\n",
      "Epoch 77/250\n",
      "6/6 [==============================] - 0s 1ms/step - loss: 0.2526 - accuracy: 0.9144\n",
      "Epoch 78/250\n",
      "6/6 [==============================] - 0s 1ms/step - loss: 0.2519 - accuracy: 0.9144\n",
      "Epoch 79/250\n",
      "6/6 [==============================] - 0s 2ms/step - loss: 0.2514 - accuracy: 0.9144\n",
      "Epoch 80/250\n",
      "6/6 [==============================] - 0s 2ms/step - loss: 0.2507 - accuracy: 0.9144\n",
      "Epoch 81/250\n",
      "6/6 [==============================] - 0s 2ms/step - loss: 0.2501 - accuracy: 0.9198\n",
      "Epoch 82/250\n",
      "6/6 [==============================] - 0s 2ms/step - loss: 0.2495 - accuracy: 0.9198\n",
      "Epoch 83/250\n",
      "6/6 [==============================] - 0s 1ms/step - loss: 0.2489 - accuracy: 0.9198\n",
      "Epoch 84/250\n",
      "6/6 [==============================] - 0s 2ms/step - loss: 0.2482 - accuracy: 0.9198\n",
      "Epoch 85/250\n",
      "6/6 [==============================] - 0s 2ms/step - loss: 0.2478 - accuracy: 0.9198\n",
      "Epoch 86/250\n",
      "6/6 [==============================] - 0s 2ms/step - loss: 0.2471 - accuracy: 0.9251\n",
      "Epoch 87/250\n",
      "6/6 [==============================] - 0s 2ms/step - loss: 0.2464 - accuracy: 0.9251\n",
      "Epoch 88/250\n",
      "6/6 [==============================] - 0s 1ms/step - loss: 0.2457 - accuracy: 0.9251\n",
      "Epoch 89/250\n",
      "6/6 [==============================] - 0s 1ms/step - loss: 0.2451 - accuracy: 0.9251\n",
      "Epoch 90/250\n",
      "6/6 [==============================] - 0s 2ms/step - loss: 0.2445 - accuracy: 0.9251\n",
      "Epoch 91/250\n",
      "6/6 [==============================] - 0s 2ms/step - loss: 0.2440 - accuracy: 0.9251\n",
      "Epoch 92/250\n",
      "6/6 [==============================] - 0s 2ms/step - loss: 0.2433 - accuracy: 0.9251\n",
      "Epoch 93/250\n",
      "6/6 [==============================] - 0s 1ms/step - loss: 0.2427 - accuracy: 0.9251\n",
      "Epoch 94/250\n",
      "6/6 [==============================] - 0s 1ms/step - loss: 0.2421 - accuracy: 0.9251\n",
      "Epoch 95/250\n",
      "6/6 [==============================] - 0s 2ms/step - loss: 0.2416 - accuracy: 0.9251\n",
      "Epoch 96/250\n",
      "6/6 [==============================] - 0s 2ms/step - loss: 0.2409 - accuracy: 0.9251\n",
      "Epoch 97/250\n",
      "6/6 [==============================] - 0s 1ms/step - loss: 0.2403 - accuracy: 0.9251\n",
      "Epoch 98/250\n",
      "6/6 [==============================] - 0s 1ms/step - loss: 0.2398 - accuracy: 0.9251\n",
      "Epoch 99/250\n",
      "6/6 [==============================] - 0s 2ms/step - loss: 0.2391 - accuracy: 0.9251\n",
      "Epoch 100/250\n",
      "6/6 [==============================] - 0s 2ms/step - loss: 0.2385 - accuracy: 0.9251\n",
      "Epoch 101/250\n",
      "6/6 [==============================] - 0s 2ms/step - loss: 0.2379 - accuracy: 0.9251\n",
      "Epoch 102/250\n",
      "6/6 [==============================] - 0s 2ms/step - loss: 0.2373 - accuracy: 0.9251\n",
      "Epoch 103/250\n",
      "6/6 [==============================] - 0s 1ms/step - loss: 0.2367 - accuracy: 0.9251\n",
      "Epoch 104/250\n",
      "6/6 [==============================] - 0s 1ms/step - loss: 0.2362 - accuracy: 0.9251\n",
      "Epoch 105/250\n",
      "6/6 [==============================] - 0s 2ms/step - loss: 0.2356 - accuracy: 0.9251\n",
      "Epoch 106/250\n",
      "6/6 [==============================] - 0s 2ms/step - loss: 0.2351 - accuracy: 0.9251\n",
      "Epoch 107/250\n",
      "6/6 [==============================] - 0s 2ms/step - loss: 0.2345 - accuracy: 0.9251\n",
      "Epoch 108/250\n",
      "6/6 [==============================] - 0s 1ms/step - loss: 0.2339 - accuracy: 0.9251\n",
      "Epoch 109/250\n",
      "6/6 [==============================] - 0s 1ms/step - loss: 0.2334 - accuracy: 0.9251\n",
      "Epoch 110/250\n",
      "6/6 [==============================] - 0s 2ms/step - loss: 0.2329 - accuracy: 0.9251\n",
      "Epoch 111/250\n",
      "6/6 [==============================] - 0s 2ms/step - loss: 0.2329 - accuracy: 0.9251\n",
      "Epoch 112/250\n",
      "6/6 [==============================] - ETA: 0s - loss: 0.2069 - accuracy: 0.93 - 0s 2ms/step - loss: 0.2318 - accuracy: 0.9251\n",
      "Epoch 113/250\n",
      "6/6 [==============================] - 0s 1ms/step - loss: 0.2314 - accuracy: 0.9251\n",
      "Epoch 114/250\n",
      "6/6 [==============================] - 0s 1ms/step - loss: 0.2308 - accuracy: 0.9251\n",
      "Epoch 115/250\n",
      "6/6 [==============================] - 0s 2ms/step - loss: 0.2305 - accuracy: 0.9251\n",
      "Epoch 116/250\n",
      "6/6 [==============================] - 0s 2ms/step - loss: 0.2298 - accuracy: 0.9251\n",
      "Epoch 117/250\n",
      "6/6 [==============================] - 0s 1ms/step - loss: 0.2293 - accuracy: 0.9251\n",
      "Epoch 118/250\n",
      "6/6 [==============================] - 0s 1ms/step - loss: 0.2288 - accuracy: 0.9251\n",
      "Epoch 119/250\n",
      "6/6 [==============================] - 0s 2ms/step - loss: 0.2283 - accuracy: 0.9251\n",
      "Epoch 120/250\n",
      "6/6 [==============================] - 0s 2ms/step - loss: 0.2281 - accuracy: 0.9251\n",
      "Epoch 121/250\n",
      "6/6 [==============================] - 0s 2ms/step - loss: 0.2273 - accuracy: 0.9251\n",
      "Epoch 122/250\n",
      "6/6 [==============================] - 0s 1ms/step - loss: 0.2269 - accuracy: 0.9251\n",
      "Epoch 123/250\n",
      "6/6 [==============================] - 0s 2ms/step - loss: 0.2263 - accuracy: 0.9251\n",
      "Epoch 124/250\n",
      "6/6 [==============================] - 0s 2ms/step - loss: 0.2259 - accuracy: 0.9251\n",
      "Epoch 125/250\n",
      "6/6 [==============================] - 0s 1ms/step - loss: 0.2255 - accuracy: 0.9251\n",
      "Epoch 126/250\n",
      "6/6 [==============================] - 0s 2ms/step - loss: 0.2248 - accuracy: 0.9251\n",
      "Epoch 127/250\n",
      "6/6 [==============================] - 0s 2ms/step - loss: 0.2244 - accuracy: 0.9251\n",
      "Epoch 128/250\n",
      "6/6 [==============================] - 0s 2ms/step - loss: 0.2238 - accuracy: 0.9251\n",
      "Epoch 129/250\n",
      "6/6 [==============================] - 0s 1ms/step - loss: 0.2234 - accuracy: 0.9251\n",
      "Epoch 130/250\n",
      "6/6 [==============================] - 0s 1ms/step - loss: 0.2229 - accuracy: 0.9251\n",
      "Epoch 131/250\n",
      "6/6 [==============================] - 0s 2ms/step - loss: 0.2224 - accuracy: 0.9251\n",
      "Epoch 132/250\n",
      "6/6 [==============================] - 0s 2ms/step - loss: 0.2220 - accuracy: 0.9251\n",
      "Epoch 133/250\n",
      "6/6 [==============================] - 0s 2ms/step - loss: 0.2215 - accuracy: 0.9251\n",
      "Epoch 134/250\n",
      "6/6 [==============================] - 0s 1ms/step - loss: 0.2211 - accuracy: 0.9251\n",
      "Epoch 135/250\n",
      "6/6 [==============================] - 0s 1ms/step - loss: 0.2205 - accuracy: 0.9251\n",
      "Epoch 136/250\n",
      "6/6 [==============================] - 0s 2ms/step - loss: 0.2201 - accuracy: 0.9251\n",
      "Epoch 137/250\n",
      "6/6 [==============================] - 0s 2ms/step - loss: 0.2196 - accuracy: 0.9251\n",
      "Epoch 138/250\n",
      "6/6 [==============================] - 0s 1ms/step - loss: 0.2192 - accuracy: 0.9305\n",
      "Epoch 139/250\n",
      "6/6 [==============================] - 0s 2ms/step - loss: 0.2187 - accuracy: 0.9305\n",
      "Epoch 140/250\n",
      "6/6 [==============================] - 0s 2ms/step - loss: 0.2182 - accuracy: 0.9305\n",
      "Epoch 141/250\n",
      "6/6 [==============================] - 0s 2ms/step - loss: 0.2177 - accuracy: 0.9305\n",
      "Epoch 142/250\n",
      "6/6 [==============================] - 0s 2ms/step - loss: 0.2172 - accuracy: 0.9305\n",
      "Epoch 143/250\n",
      "6/6 [==============================] - 0s 1ms/step - loss: 0.2168 - accuracy: 0.9305\n",
      "Epoch 144/250\n",
      "6/6 [==============================] - 0s 1ms/step - loss: 0.2164 - accuracy: 0.9305\n",
      "Epoch 145/250\n",
      "6/6 [==============================] - 0s 2ms/step - loss: 0.2158 - accuracy: 0.9305\n",
      "Epoch 146/250\n",
      "6/6 [==============================] - 0s 2ms/step - loss: 0.2155 - accuracy: 0.9305\n",
      "Epoch 147/250\n",
      "6/6 [==============================] - 0s 1ms/step - loss: 0.2150 - accuracy: 0.9305\n",
      "Epoch 148/250\n",
      "6/6 [==============================] - 0s 1ms/step - loss: 0.2146 - accuracy: 0.9305\n",
      "Epoch 149/250\n",
      "6/6 [==============================] - 0s 1ms/step - loss: 0.2141 - accuracy: 0.9305\n",
      "Epoch 150/250\n",
      "6/6 [==============================] - 0s 2ms/step - loss: 0.2138 - accuracy: 0.9305\n",
      "Epoch 151/250\n",
      "6/6 [==============================] - 0s 2ms/step - loss: 0.2134 - accuracy: 0.9305\n",
      "Epoch 152/250\n",
      "6/6 [==============================] - 0s 2ms/step - loss: 0.2133 - accuracy: 0.9305\n",
      "Epoch 153/250\n",
      "6/6 [==============================] - 0s 1ms/step - loss: 0.2125 - accuracy: 0.9305\n",
      "Epoch 154/250\n",
      "6/6 [==============================] - 0s 1ms/step - loss: 0.2120 - accuracy: 0.9305\n",
      "Epoch 155/250\n",
      "6/6 [==============================] - 0s 2ms/step - loss: 0.2115 - accuracy: 0.9305\n",
      "Epoch 156/250\n",
      "6/6 [==============================] - 0s 2ms/step - loss: 0.2113 - accuracy: 0.9305\n",
      "Epoch 157/250\n",
      "6/6 [==============================] - 0s 1ms/step - loss: 0.2108 - accuracy: 0.9305\n",
      "Epoch 158/250\n",
      "6/6 [==============================] - 0s 1ms/step - loss: 0.2105 - accuracy: 0.9305\n",
      "Epoch 159/250\n",
      "6/6 [==============================] - 0s 1ms/step - loss: 0.2103 - accuracy: 0.9305\n",
      "Epoch 160/250\n",
      "6/6 [==============================] - 0s 2ms/step - loss: 0.2096 - accuracy: 0.9305\n",
      "Epoch 161/250\n",
      "6/6 [==============================] - 0s 2ms/step - loss: 0.2093 - accuracy: 0.9305\n",
      "Epoch 162/250\n",
      "6/6 [==============================] - 0s 2ms/step - loss: 0.2090 - accuracy: 0.9305\n",
      "Epoch 163/250\n",
      "6/6 [==============================] - 0s 1ms/step - loss: 0.2084 - accuracy: 0.9305\n",
      "Epoch 164/250\n",
      "6/6 [==============================] - 0s 1ms/step - loss: 0.2082 - accuracy: 0.9305\n",
      "Epoch 165/250\n",
      "6/6 [==============================] - 0s 2ms/step - loss: 0.2076 - accuracy: 0.9305\n",
      "Epoch 166/250\n"
     ]
    },
    {
     "name": "stdout",
     "output_type": "stream",
     "text": [
      "6/6 [==============================] - 0s 1ms/step - loss: 0.2073 - accuracy: 0.9305\n",
      "Epoch 167/250\n",
      "6/6 [==============================] - 0s 2ms/step - loss: 0.2070 - accuracy: 0.9305\n",
      "Epoch 168/250\n",
      "6/6 [==============================] - 0s 2ms/step - loss: 0.2065 - accuracy: 0.9305\n",
      "Epoch 169/250\n",
      "6/6 [==============================] - 0s 1ms/step - loss: 0.2062 - accuracy: 0.9358\n",
      "Epoch 170/250\n",
      "6/6 [==============================] - 0s 1ms/step - loss: 0.2058 - accuracy: 0.9358\n",
      "Epoch 171/250\n",
      "6/6 [==============================] - 0s 2ms/step - loss: 0.2054 - accuracy: 0.9358\n",
      "Epoch 172/250\n",
      "6/6 [==============================] - 0s 2ms/step - loss: 0.2051 - accuracy: 0.9358\n",
      "Epoch 173/250\n",
      "6/6 [==============================] - 0s 1ms/step - loss: 0.2046 - accuracy: 0.9305\n",
      "Epoch 174/250\n",
      "6/6 [==============================] - 0s 1ms/step - loss: 0.2043 - accuracy: 0.9305\n",
      "Epoch 175/250\n",
      "6/6 [==============================] - 0s 1ms/step - loss: 0.2040 - accuracy: 0.9305\n",
      "Epoch 176/250\n",
      "6/6 [==============================] - 0s 2ms/step - loss: 0.2036 - accuracy: 0.9305\n",
      "Epoch 177/250\n",
      "6/6 [==============================] - 0s 1ms/step - loss: 0.2032 - accuracy: 0.9305\n",
      "Epoch 178/250\n",
      "6/6 [==============================] - 0s 1ms/step - loss: 0.2029 - accuracy: 0.9305\n",
      "Epoch 179/250\n",
      "6/6 [==============================] - 0s 1ms/step - loss: 0.2026 - accuracy: 0.9305\n",
      "Epoch 180/250\n",
      "6/6 [==============================] - 0s 2ms/step - loss: 0.2023 - accuracy: 0.9305\n",
      "Epoch 181/250\n",
      "6/6 [==============================] - 0s 2ms/step - loss: 0.2018 - accuracy: 0.9305\n",
      "Epoch 182/250\n",
      "6/6 [==============================] - 0s 2ms/step - loss: 0.2016 - accuracy: 0.9358\n",
      "Epoch 183/250\n",
      "6/6 [==============================] - 0s 1ms/step - loss: 0.2012 - accuracy: 0.9358\n",
      "Epoch 184/250\n",
      "6/6 [==============================] - 0s 1ms/step - loss: 0.2008 - accuracy: 0.9358\n",
      "Epoch 185/250\n",
      "6/6 [==============================] - 0s 2ms/step - loss: 0.2004 - accuracy: 0.9358\n",
      "Epoch 186/250\n",
      "6/6 [==============================] - 0s 1ms/step - loss: 0.2001 - accuracy: 0.9358\n",
      "Epoch 187/250\n",
      "6/6 [==============================] - 0s 1ms/step - loss: 0.1998 - accuracy: 0.9305\n",
      "Epoch 188/250\n",
      "6/6 [==============================] - 0s 1ms/step - loss: 0.1997 - accuracy: 0.9305\n",
      "Epoch 189/250\n",
      "6/6 [==============================] - 0s 2ms/step - loss: 0.1992 - accuracy: 0.9305\n",
      "Epoch 190/250\n",
      "6/6 [==============================] - ETA: 0s - loss: 0.2027 - accuracy: 0.87 - 0s 2ms/step - loss: 0.1988 - accuracy: 0.9305\n",
      "Epoch 191/250\n",
      "6/6 [==============================] - 0s 2ms/step - loss: 0.1985 - accuracy: 0.9358\n",
      "Epoch 192/250\n",
      "6/6 [==============================] - 0s 2ms/step - loss: 0.1982 - accuracy: 0.9358\n",
      "Epoch 193/250\n",
      "6/6 [==============================] - 0s 1ms/step - loss: 0.1978 - accuracy: 0.9358\n",
      "Epoch 194/250\n",
      "6/6 [==============================] - 0s 1ms/step - loss: 0.1976 - accuracy: 0.9305\n",
      "Epoch 195/250\n",
      "6/6 [==============================] - 0s 2ms/step - loss: 0.1972 - accuracy: 0.9305\n",
      "Epoch 196/250\n",
      "6/6 [==============================] - 0s 2ms/step - loss: 0.1969 - accuracy: 0.9305\n",
      "Epoch 197/250\n",
      "6/6 [==============================] - 0s 1ms/step - loss: 0.1965 - accuracy: 0.9305\n",
      "Epoch 198/250\n",
      "6/6 [==============================] - 0s 1ms/step - loss: 0.1962 - accuracy: 0.9305\n",
      "Epoch 199/250\n",
      "6/6 [==============================] - 0s 2ms/step - loss: 0.1959 - accuracy: 0.9305\n",
      "Epoch 200/250\n",
      "6/6 [==============================] - 0s 1ms/step - loss: 0.1956 - accuracy: 0.9305\n",
      "Epoch 201/250\n",
      "6/6 [==============================] - 0s 1ms/step - loss: 0.1953 - accuracy: 0.9305\n",
      "Epoch 202/250\n",
      "6/6 [==============================] - 0s 2ms/step - loss: 0.1951 - accuracy: 0.9305\n",
      "Epoch 203/250\n",
      "6/6 [==============================] - 0s 2ms/step - loss: 0.1949 - accuracy: 0.9305\n",
      "Epoch 204/250\n",
      "6/6 [==============================] - 0s 1ms/step - loss: 0.1944 - accuracy: 0.9305\n",
      "Epoch 205/250\n",
      "6/6 [==============================] - 0s 1ms/step - loss: 0.1941 - accuracy: 0.9305\n",
      "Epoch 206/250\n",
      "6/6 [==============================] - 0s 1ms/step - loss: 0.1938 - accuracy: 0.9305\n",
      "Epoch 207/250\n",
      "6/6 [==============================] - 0s 1ms/step - loss: 0.1935 - accuracy: 0.9305\n",
      "Epoch 208/250\n",
      "6/6 [==============================] - 0s 2ms/step - loss: 0.1933 - accuracy: 0.9305\n",
      "Epoch 209/250\n",
      "6/6 [==============================] - 0s 1ms/step - loss: 0.1930 - accuracy: 0.9305\n",
      "Epoch 210/250\n",
      "6/6 [==============================] - 0s 1ms/step - loss: 0.1927 - accuracy: 0.9305\n",
      "Epoch 211/250\n",
      "6/6 [==============================] - 0s 2ms/step - loss: 0.1926 - accuracy: 0.9305\n",
      "Epoch 212/250\n",
      "6/6 [==============================] - 0s 2ms/step - loss: 0.1921 - accuracy: 0.9305\n",
      "Epoch 213/250\n",
      "6/6 [==============================] - 0s 2ms/step - loss: 0.1918 - accuracy: 0.9305\n",
      "Epoch 214/250\n",
      "6/6 [==============================] - 0s 1ms/step - loss: 0.1916 - accuracy: 0.9305\n",
      "Epoch 215/250\n",
      "6/6 [==============================] - 0s 2ms/step - loss: 0.1913 - accuracy: 0.9358\n",
      "Epoch 216/250\n",
      "6/6 [==============================] - 0s 2ms/step - loss: 0.1909 - accuracy: 0.9305\n",
      "Epoch 217/250\n",
      "6/6 [==============================] - 0s 2ms/step - loss: 0.1908 - accuracy: 0.9305\n",
      "Epoch 218/250\n",
      "6/6 [==============================] - 0s 1ms/step - loss: 0.1905 - accuracy: 0.9305\n",
      "Epoch 219/250\n",
      "6/6 [==============================] - 0s 1ms/step - loss: 0.1903 - accuracy: 0.9358\n",
      "Epoch 220/250\n",
      "6/6 [==============================] - 0s 2ms/step - loss: 0.1899 - accuracy: 0.9305\n",
      "Epoch 221/250\n",
      "6/6 [==============================] - 0s 2ms/step - loss: 0.1896 - accuracy: 0.9358\n",
      "Epoch 222/250\n",
      "6/6 [==============================] - 0s 1ms/step - loss: 0.1893 - accuracy: 0.9358\n",
      "Epoch 223/250\n",
      "6/6 [==============================] - 0s 1ms/step - loss: 0.1891 - accuracy: 0.9358\n",
      "Epoch 224/250\n",
      "6/6 [==============================] - 0s 2ms/step - loss: 0.1891 - accuracy: 0.9412\n",
      "Epoch 225/250\n",
      "6/6 [==============================] - 0s 2ms/step - loss: 0.1885 - accuracy: 0.9412\n",
      "Epoch 226/250\n",
      "6/6 [==============================] - 0s 2ms/step - loss: 0.1883 - accuracy: 0.9412\n",
      "Epoch 227/250\n",
      "6/6 [==============================] - 0s 1ms/step - loss: 0.1881 - accuracy: 0.9358\n",
      "Epoch 228/250\n",
      "6/6 [==============================] - 0s 1ms/step - loss: 0.1878 - accuracy: 0.9358\n",
      "Epoch 229/250\n",
      "6/6 [==============================] - 0s 1ms/step - loss: 0.1876 - accuracy: 0.9358\n",
      "Epoch 230/250\n",
      "6/6 [==============================] - 0s 2ms/step - loss: 0.1873 - accuracy: 0.9412\n",
      "Epoch 231/250\n",
      "6/6 [==============================] - 0s 2ms/step - loss: 0.1870 - accuracy: 0.9412\n",
      "Epoch 232/250\n",
      "6/6 [==============================] - 0s 1ms/step - loss: 0.1869 - accuracy: 0.9358\n",
      "Epoch 233/250\n",
      "6/6 [==============================] - 0s 2ms/step - loss: 0.1865 - accuracy: 0.9358\n",
      "Epoch 234/250\n",
      "6/6 [==============================] - 0s 1ms/step - loss: 0.1862 - accuracy: 0.9358\n",
      "Epoch 235/250\n",
      "6/6 [==============================] - 0s 2ms/step - loss: 0.1859 - accuracy: 0.9412\n",
      "Epoch 236/250\n",
      "6/6 [==============================] - 0s 2ms/step - loss: 0.1858 - accuracy: 0.9412\n",
      "Epoch 237/250\n",
      "6/6 [==============================] - 0s 1ms/step - loss: 0.1855 - accuracy: 0.9412\n",
      "Epoch 238/250\n",
      "6/6 [==============================] - 0s 1ms/step - loss: 0.1853 - accuracy: 0.9412\n",
      "Epoch 239/250\n",
      "6/6 [==============================] - 0s 1ms/step - loss: 0.1851 - accuracy: 0.9412\n",
      "Epoch 240/250\n",
      "6/6 [==============================] - 0s 1ms/step - loss: 0.1849 - accuracy: 0.9412\n",
      "Epoch 241/250\n",
      "6/6 [==============================] - 0s 1ms/step - loss: 0.1846 - accuracy: 0.9412\n",
      "Epoch 242/250\n",
      "6/6 [==============================] - 0s 2ms/step - loss: 0.1843 - accuracy: 0.9412\n",
      "Epoch 243/250\n",
      "6/6 [==============================] - 0s 2ms/step - loss: 0.1841 - accuracy: 0.9412\n",
      "Epoch 244/250\n",
      "6/6 [==============================] - 0s 1ms/step - loss: 0.1839 - accuracy: 0.9358\n",
      "Epoch 245/250\n",
      "6/6 [==============================] - 0s 2ms/step - loss: 0.1838 - accuracy: 0.9412\n",
      "Epoch 246/250\n",
      "6/6 [==============================] - 0s 1ms/step - loss: 0.1835 - accuracy: 0.9412\n",
      "Epoch 247/250\n",
      "6/6 [==============================] - 0s 1ms/step - loss: 0.1832 - accuracy: 0.9358\n",
      "Epoch 248/250\n",
      "6/6 [==============================] - 0s 1ms/step - loss: 0.1830 - accuracy: 0.9412\n",
      "Epoch 249/250\n",
      "6/6 [==============================] - 0s 2ms/step - loss: 0.1827 - accuracy: 0.9412\n",
      "Epoch 250/250\n",
      "6/6 [==============================] - 0s 2ms/step - loss: 0.1828 - accuracy: 0.9412\n"
     ]
    }
   ],
   "source": [
    "# compiling, training, and plotting the accuracy history\n",
    "model3.compile(loss='binary_crossentropy', optimizer='adam', metrics=['accuracy'])\n",
    "history3 = model3.fit(X_moon_train, y_moon_train, epochs=250)"
   ]
  },
  {
   "cell_type": "code",
   "execution_count": 60,
   "metadata": {},
   "outputs": [
    {
     "data": {
      "text/plain": [
       "[<matplotlib.lines.Line2D at 0x14277b33808>]"
      ]
     },
     "execution_count": 60,
     "metadata": {},
     "output_type": "execute_result"
    },
    {
     "data": {
      "image/png": "[encoded data removed]",
      "text/plain": [
       "<Figure size 432x288 with 1 Axes>"
      ]
     },
     "metadata": {
      "needs_background": "light"
     },
     "output_type": "display_data"
    }
   ],
   "source": [
    "plt.plot(history3.history['accuracy'])"
   ]
  },
  {
   "cell_type": "code",
   "execution_count": 64,
   "metadata": {},
   "outputs": [
    {
     "data": {
      "text/plain": [
       "[<matplotlib.lines.Line2D at 0x142796e9508>]"
      ]
     },
     "execution_count": 64,
     "metadata": {},
     "output_type": "execute_result"
    },
    {
     "data": {
      "image/png": "[encoded data removed]",
      "text/plain": [
       "<Figure size 432x288 with 1 Axes>"
      ]
     },
     "metadata": {
      "needs_background": "light"
     },
     "output_type": "display_data"
    }
   ],
   "source": [
    "plt.plot(history3.history['accuracy'])"
   ]
  },
  {
   "cell_type": "markdown",
   "metadata": {},
   "source": [
    "<div class=\"alert alert-block alert-success\">\n",
    "⚠️TASK 6\n",
    "<br>\n",
    "\n",
    "Now check the correctness of this network for the test data.\n",
    "\n",
    "</div>"
   ]
  },
  {
   "cell_type": "code",
   "execution_count": 62,
   "metadata": {},
   "outputs": [
    {
     "name": "stdout",
     "output_type": "stream",
     "text": [
      "The correctness is: 0.91\n",
      "The correctness is: 0.92\n"
     ]
    }
   ],
   "source": [
    "show_correctness(X_moon_train, y_moon_train, model3)\n",
    "\n",
    "show_correctness(X_moon_test, y_moon_test, model3)"
   ]
  },
  {
   "cell_type": "code",
   "execution_count": 65,
   "metadata": {},
   "outputs": [
    {
     "name": "stdout",
     "output_type": "stream",
     "text": [
      "The correctness is: 0.94\n",
      "The correctness is: 0.95\n"
     ]
    }
   ],
   "source": [
    "show_correctness(X_moon_train, y_moon_train, model3)\n",
    "\n",
    "show_correctness(X_moon_test, y_moon_test, model3)"
   ]
  },
  {
   "cell_type": "markdown",
   "metadata": {},
   "source": [
    "<div class=\"alert alert-block alert-success\">\n",
    "⚠️TASK 7\n",
    "<br>\n",
    "\n",
    "Build the same model as in the first exercise, but now the second hidden layer should have 10 neurons.\n",
    "\n",
    "</div>"
   ]
  },
  {
   "cell_type": "code",
   "execution_count": null,
   "metadata": {},
   "outputs": [],
   "source": [
    "# here the code creating the network\n",
    "model = ...\n"
   ]
  },
  {
   "cell_type": "code",
   "execution_count": null,
   "metadata": {},
   "outputs": [],
   "source": [
    "model.compile(loss='binary_crossentropy', optimizer=______, metrics=['accuracy'])\n",
    "history = model.fit(X_moon_train, y_moon_train, epochs=350, verbose=0)\n",
    "plt.plot(history.history['accuracy'])"
   ]
  },
  {
   "cell_type": "code",
   "execution_count": null,
   "metadata": {},
   "outputs": [],
   "source": [
    "plot_decision(_________, __________, clf=model)"
   ]
  },
  {
   "cell_type": "markdown",
   "metadata": {},
   "source": [
    "<div class=\"alert alert-block alert-success\">\n",
    "⚠️TASK 8\n",
    "<br>\n",
    "\n",
    "Now check the correctness of this network for the test data.\n",
    "\n",
    "</div>"
   ]
  },
  {
   "cell_type": "code",
   "execution_count": null,
   "metadata": {},
   "outputs": [],
   "source": []
  },
  {
   "cell_type": "markdown",
   "metadata": {},
   "source": [
    "Can you see what the correctness is right now???"
   ]
  },
  {
   "cell_type": "markdown",
   "metadata": {},
   "source": [
    "# Back to the Titanic\n",
    "First, create a network with two hidden layers - 10 neurons each.\n",
    "We will now use titanic data; also note that we have a different number of predicators here, which we have to provide to `input_shape`:"
   ]
  },
  {
   "cell_type": "code",
   "execution_count": null,
   "metadata": {},
   "outputs": [],
   "source": [
    "titanic_preproc = pd.read_csv('titanic_preproc.csv', index_col=0)"
   ]
  },
  {
   "cell_type": "code",
   "execution_count": null,
   "metadata": {},
   "outputs": [],
   "source": [
    "y = sns.load_dataset('titanic').survived.values"
   ]
  },
  {
   "cell_type": "code",
   "execution_count": null,
   "metadata": {},
   "outputs": [],
   "source": [
    "X_train, X_test, y_train, y_test = train_test_split(\n",
    "    titanic_preproc.values, y, test_size=0.3, random_state=42)"
   ]
  },
  {
   "cell_type": "code",
   "execution_count": null,
   "metadata": {},
   "outputs": [],
   "source": [
    "from sklearn.preprocessing import StandardScaler\n",
    "\n",
    "std = StandardScaler()\n",
    "X_train_std = std.fit_transform(X_train)\n",
    "X_test_std = std.fit_transform(X_test)"
   ]
  },
  {
   "cell_type": "code",
   "execution_count": null,
   "metadata": {},
   "outputs": [],
   "source": [
    "X_train_std.shape"
   ]
  },
  {
   "cell_type": "code",
   "execution_count": null,
   "metadata": {},
   "outputs": [],
   "source": [
    "# creating the model\n",
    "model = Sequential()\n",
    "model.add(Dense(_, activation=______, input_shape=(__,)))\n",
    "model.add(Dense(_, activation=______))\n",
    "model.add(Dense(1, activation='sigmoid'))"
   ]
  },
  {
   "cell_type": "markdown",
   "metadata": {},
   "source": [
    "During model training we would like to see how the correctness of the test data changes with training.\n",
    "We can do this by giving an additional argument of `validation_data` and setting it to `(X_test_std, y_test)`:"
   ]
  },
  {
   "cell_type": "code",
   "execution_count": null,
   "metadata": {},
   "outputs": [],
   "source": [
    "# training and showing accuracy\n",
    "model.compile(loss='binary_crossentropy', optimizer='adam', metrics=['accuracy'])\n",
    "history = model.fit(________, ________, epochs=400, verbose=0,\n",
    "                    validation_data=______________________________)"
   ]
  },
  {
   "cell_type": "code",
   "execution_count": null,
   "metadata": {},
   "outputs": [],
   "source": [
    "plt.plot(history.history['accuracy'])\n",
    "plt.plot(history.history['val_acc'])"
   ]
  },
  {
   "cell_type": "code",
   "execution_count": null,
   "metadata": {},
   "outputs": [],
   "source": [
    "print('Accuracy on the training data:')\n",
    "show_correctness(X_train_std, y_train, model)\n",
    "\n",
    "print('\\Accuracy on the test data:')\n",
    "show_correctness(X_test_std, y_test, model)"
   ]
  },
  {
   "cell_type": "markdown",
   "metadata": {},
   "source": [
    "As in the case of previous algorithms, in the case of neural networks we are also dealing with hyperparameters. The most obvious hyperparameters of neural networks are: \n",
    "- the number of layers, \n",
    "- number of neurons in each layer,\n",
    "- activation types,\n",
    "- regularization (regular or dropout - but we will talk about it later), \n",
    "- finally: matching algorithm, learning rate (how big steps in the searched parameter space are performed) and others. \n",
    "\n",
    "We won't learn how to match hyperparameters for the network (apart from choosing the number of layers and neurons), but it's worth remembering that there is such a possibility. Professional applications of neural networks usually perform tests on many lists of hyperparameters (especially those hyperparameters that are not network architectures)."
   ]
  },
  {
   "cell_type": "markdown",
   "metadata": {},
   "source": [
    "<div class=\"alert alert-block alert-success\">\n",
    "⚠️TASK 9\n",
    "<br>\n",
    "\n",
    "Please play with the Neural Networks, and try to create the best model (that achieves the best results when tested on the test data)!\n",
    "\n",
    "</div>"
   ]
  },
  {
   "cell_type": "code",
   "execution_count": null,
   "metadata": {},
   "outputs": [],
   "source": []
  }
 ],
 "metadata": {
  "kernelspec": {
   "display_name": "Python 3",
   "language": "python",
   "name": "python3"
  },
  "language_info": {
   "codemirror_mode": {
    "name": "ipython",
    "version": 3
   },
   "file_extension": ".py",
   "mimetype": "text/x-python",
   "name": "python",
   "nbconvert_exporter": "python",
   "pygments_lexer": "ipython3",
   "version": "3.8.3"
  }
 },
 "nbformat": 4,
 "nbformat_minor": 2
}
