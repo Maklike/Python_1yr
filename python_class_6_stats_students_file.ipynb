{
 "cells": [
  {
   "cell_type": "markdown",
   "metadata": {},
   "source": [
    "# <div style=\"text-align: center\"> Introduction to Python and Machine Learning\n",
    "\n",
    "## <div style=\"text-align: center\">Introduction to Statistics in Python (VI) - Advanced Stats\n",
    "\n",
    "### <span style=\"color:red\"> *PLEASE ENTER THIS CELL AND WRITE YOUR NAME HERE:*_____________________________ </span>"
   ]
  },
  {
   "cell_type": "markdown",
   "metadata": {},
   "source": [
    "![logo](https://www.kozminski.edu.pl/fileadmin/_processed_/csm_logotypy_plaskie__kozminski_university_0430be3c25.png)\n",
    "![logo2](https://efs.mrpips.gov.pl/__data/assets/image/0014/11336/04_zestawienie_power_rp_ue_efs.png)"
   ]
  },
  {
   "cell_type": "markdown",
   "metadata": {},
   "source": [
    "---"
   ]
  },
  {
   "cell_type": "markdown",
   "metadata": {},
   "source": [
    "## A nice intro to statistics (but difficult):\n",
    "[Statistical Data Analysis in Python, SciPy2013 Tutorial, Part 4 of 4](https://www.youtube.com/watch?v=5_rcdhBXD-0) \n",
    "<br>\n",
    "Materials for the video: https://github.com/fonnesbeck/statistical-analysis-python-tutorial"
   ]
  },
  {
   "cell_type": "markdown",
   "metadata": {},
   "source": [
    "The notebook is based on:\n",
    "- https://github.com/rouseguy/intro2stats\n",
    "- https://machinelearningmastery.com/a-gentle-introduction-to-the-central-limit-theorem-for-machine-learning/\n",
    "- https://towardsdatascience.com/visualizing-the-central-limit-theorem-with-python-e89d2ce41788\n",
    "- https://github.com/AllenDowney/CompStats\n",
    "\n",
    "A great intro to stats in Machine Learning:\n",
    "https://machinelearningmastery.com/statistics_for_machine_learning/"
   ]
  },
  {
   "cell_type": "markdown",
   "metadata": {},
   "source": [
    "# Distribution\n",
    "> the way in which something is shared out among a group or spread over an area\n",
    "\n",
    "### Random Variable\n",
    "> a variable whose value is subject to variations due to chance (i.e. randomness, in a mathematical sense). A random variable can take on a set of possible different values (similarly to other mathematical variables), each with an associated probability [wiki](https://en.wikipedia.org/wiki/Random_variable)\n",
    "\n",
    "**Types**\n",
    "\n",
    "1. Discrete and Categorical Random Variables <br>\n",
    "    Eg: Genders of the buyers buying shoe\n",
    "2. Continuous Random Variables <br>\n",
    "    Eg: Shoe Sales in a quarter\n",
    "    \n",
    "### Probability Distribution\n",
    "> Assigns a probability to each measurable subset of the possible outcomes of a random experiment, survey, or procedure of statistical inference. [wiki](https://en.wikipedia.org/wiki/Probability_distribution)\n",
    "\n",
    "#### Probability Mass Function\n",
    "probability mass function (pmf) is a function that gives the probability that a discrete random variable is exactly equal to some value\n",
    "\n",
    "#### Discrete probability distribution(Cumulative Mass Function)\n",
    "probability distribution characterized by a probability mass function\n",
    "\n",
    "#### Probability Density Function\n",
    "function that describes the relative likelihood for this random variable to take on a given value\n",
    "\n",
    "#### Continuous probability distribution(Cumulative Density function)\n",
    "probability that the variable takes a value less than or equal to `x`"
   ]
  },
  {
   "cell_type": "markdown",
   "metadata": {},
   "source": [
    "<div class=\"alert alert-block alert-warning\">\n",
    "📺 WATCH AT HOME\n",
    "<br>\n",
    "\n",
    "Watch the video: [Understanding Random Variables - Probability Distributions 1](https://www.youtube.com/watch?v=lHCpYeFvTs0)\n",
    "\n",
    "</div>"
   ]
  },
  {
   "cell_type": "markdown",
   "metadata": {},
   "source": [
    "### Central Limit Theorem\n",
    "Given certain conditions, the arithmetic mean of a sufficiently large number of iterates of independent random variables, each with a well-defined expected value and well-defined variance, will be approximately normally distributed, regardless of the underlying distribution. [wiki](https://en.wikipedia.org/wiki/Central_limit_theorem)\n",
    "\n",
    "#### Normal Distribution\n",
    "A bell shaped distribution. It is also called Gaussian distribution\n",
    "\n",
    "\n",
    "<img style=\"float: left;\" src=\"https://upload.wikimedia.org/wikipedia/commons/thumb/7/74/Normal_Distribution_PDF.svg/340px-Normal_Distribution_PDF.svg.png\" height=\"420\" width=\"420\">\n",
    "\n",
    "<br>\n",
    "<br>\n",
    "<br>\n",
    "<br>\n",
    "<br>\n",
    "<br>\n",
    "<br>\n",
    "<br>\n",
    "<br>\n",
    "<br>\n",
    "<br>\n",
    "<br>\n",
    "<br>\n",
    "<br>\n",
    "<br>\n",
    "\n",
    "<img style=\"float: left;\" src=\"https://hackernoon.com/drafts/bwr193w4m.png\" height=\"1000\" width=\"500\">\n",
    "\n",
    "\n",
    "<br>\n",
    "<br>\n",
    "<br>\n",
    "<br>\n",
    "<br>\n",
    "<br>\n",
    "<br>\n",
    "<br>\n",
    "<br>\n",
    "<br>\n",
    "<br>\n",
    "<br>\n",
    "<br>\n",
    "<br>\n",
    "<br>\n",
    "<br>\n",
    "\n",
    "#### Skewness\n",
    "Measure of the asymmetry of the probability distribution of a real-valued random variable about its mean. [wiki](https://en.wikipedia.org/wiki/Skewness)\n",
    "\n",
    "<img style=\"float: left;\" src=\"https://miro.medium.com/max/1200/1*nj-Ch3AUFmkd0JUSOW_bTQ.jpeg\" height=\"520\" width=\"520\">\n",
    "<br>\n",
    "<br>\n",
    "<br>\n",
    "<br>\n",
    "<br>\n",
    "<br>\n",
    "<br>\n",
    "<br>\n",
    "<br>\n",
    "<br>\n",
    "<br>\n",
    "\n",
    "![image1](https://d3i71xaburhd42.cloudfront.net/67123f08ba8ffa75126cb68fd6860e5d34494815/3-Figure1-1.png)\n",
    "\n",
    "<br>\n",
    "\n",
    "\n",
    "\n",
    "#### Kurtosis\n",
    "Measure of the \"peakedness\" of the probability distribution of a real-valued random variable [wiki](https://en.wikipedia.org/wiki/Kurtosis)\n",
    "<br>\n",
    "<br>\n",
    "<img style=\"float: left;\" src=\"http://www.wikimnemonic.com/w/images/thumb/5/55/Kurtosis.png/626px-Kurtosis.png\" height=\"420\" width=\"420\">\n",
    "\n",
    "<br>\n",
    "<br>\n",
    "<br>\n",
    "<br>\n",
    "<br>\n",
    "<br>\n",
    "<br>\n",
    "<br>\n",
    "<br>\n",
    "<br>\n",
    "<br>\n",
    "<br>\n",
    "<br>\n",
    "<br>\n",
    "<br>\n",
    "\n",
    "\n",
    "#### Binomial Distribution\n",
    "\n",
    "Binomial distribution with parameters `n` and `p` is the discrete probability distribution of the number of successes in a sequence of n independent yes/no experiments, each of which yields success with probability p. A success/failure experiment is also called a Bernoulli experiment or Bernoulli trial; when n = 1, the binomial distribution is a Bernoulli distribution  [wiki](https://en.wikipedia.org/wiki/Binomial_distribution)\n",
    "<br>\n",
    "<br>\n",
    "<img style=\"float: left;\" src=\"https://www.researchgate.net/profile/Pho_Kim_Hung/publication/333817766/figure/fig2/AS:770752424988678@1560773106419/PDF-and-CDF-of-negative-binomial-distribution.ppm\" height=\"420\" width=\"420\">\n",
    "<br>\n",
    "<br>\n",
    "<br>\n",
    "<br>\n",
    "<br>\n",
    "<br>\n",
    "<br>\n",
    "<br>\n",
    "<br>\n",
    "<br>\n",
    "<br>\n",
    "<br>\n",
    "<br>\n",
    "<br>\n",
    "<br>\n",
    "<br>\n",
    "<br>\n",
    "\n",
    "#### Uniform distribution\n",
    "All values have the same frequency [wiki](https://en.wikipedia.org/wiki/Uniform_distribution_(continuous))\n",
    "\n",
    "\n",
    "<img style=\"float: left;\" src=\"https://static.packt-cdn.com/products/9781784390815/graphics/B04007_04_01.jpg\" height=\"420\" width=\"420\">\n"
   ]
  },
  {
   "cell_type": "markdown",
   "metadata": {},
   "source": [
    "<div class=\"alert alert-block alert-warning\">\n",
    "📺 WATCH\n",
    "<br>\n",
    "\n",
    "Watch the videos: <br>\n",
    "[The Central Limit Theorem](https://www.youtube.com/watch?v=YAlJCEDH2uY)\n",
    "<br>\n",
    "[StatQuest: The Normal Distribution, Clearly Explained!!!](https://www.youtube.com/watch?v=rzFX5NWojp0)\n",
    "\n",
    "\n",
    "\n",
    "</div>"
   ]
  },
  {
   "cell_type": "markdown",
   "metadata": {},
   "source": [
    "<div class=\"alert alert-block alert-info\">\n",
    "📺 WATCH AT HOME\n",
    "<br>\n",
    "    \n",
    "#### Sampling distribution\n",
    "http://onlinestatbook.com/stat_sim/sampling_dist/ \n",
    "<br><br>\n",
    "[StatQuest: Sampling A Distribution](https://www.youtube.com/watch?v=XLCWeSVzHUU)\n",
    "\n",
    "</div>"
   ]
  },
  {
   "cell_type": "markdown",
   "metadata": {},
   "source": [
    "### Histograms\n",
    "\n",
    "Most commonly used representation of a distribution.\n",
    "\n",
    "Let's plot distribution of weed prices for 2015"
   ]
  },
  {
   "cell_type": "code",
   "execution_count": 3,
   "metadata": {},
   "outputs": [],
   "source": [
    "import numpy as np\n",
    "import pandas as pd\n",
    "from datetime import datetime as dt\n",
    "\n",
    "import os\n",
    "\n",
    "import matplotlib.pyplot as plt\n",
    "import seaborn as sns\n",
    "%matplotlib inline"
   ]
  },
  {
   "cell_type": "code",
   "execution_count": 7,
   "metadata": {},
   "outputs": [],
   "source": [
    "# REMEMBER to change the path address!\n",
    "\n",
    "PTH = r'C:\\Users\\HP\\Dysk Google\\CLASSES\\ALK 2020-2021\\Introduction to Python and Machine Learning\\Class 5\\data'\n",
    "\n",
    "weed_pd = pd.read_csv(os.path.join(PTH, \"Weed_Price.csv\"), parse_dates=[-1])\n",
    "demography_pd = pd.read_csv(os.path.join(PTH, \"Demographics_State.csv\"))\n",
    "population_pd = pd.read_csv(os.path.join(PTH, \"Population_State.csv\"))"
   ]
  },
  {
   "cell_type": "code",
   "execution_count": 5,
   "metadata": {},
   "outputs": [
    {
     "data": {
      "text/html": [
       "<div>\n",
       "<style scoped>\n",
       "    .dataframe tbody tr th:only-of-type {\n",
       "        vertical-align: middle;\n",
       "    }\n",
       "\n",
       "    .dataframe tbody tr th {\n",
       "        vertical-align: top;\n",
       "    }\n",
       "\n",
       "    .dataframe thead th {\n",
       "        text-align: right;\n",
       "    }\n",
       "</style>\n",
       "<table border=\"1\" class=\"dataframe\">\n",
       "  <thead>\n",
       "    <tr style=\"text-align: right;\">\n",
       "      <th></th>\n",
       "      <th>State</th>\n",
       "      <th>HighQ</th>\n",
       "      <th>HighQN</th>\n",
       "      <th>MedQ</th>\n",
       "      <th>MedQN</th>\n",
       "      <th>LowQ</th>\n",
       "      <th>LowQN</th>\n",
       "      <th>date</th>\n",
       "    </tr>\n",
       "  </thead>\n",
       "  <tbody>\n",
       "    <tr>\n",
       "      <th>0</th>\n",
       "      <td>Alabama</td>\n",
       "      <td>339.06</td>\n",
       "      <td>1042</td>\n",
       "      <td>198.64</td>\n",
       "      <td>933</td>\n",
       "      <td>149.49</td>\n",
       "      <td>123</td>\n",
       "      <td>2014-01-01</td>\n",
       "    </tr>\n",
       "    <tr>\n",
       "      <th>1</th>\n",
       "      <td>Alaska</td>\n",
       "      <td>288.75</td>\n",
       "      <td>252</td>\n",
       "      <td>260.60</td>\n",
       "      <td>297</td>\n",
       "      <td>388.58</td>\n",
       "      <td>26</td>\n",
       "      <td>2014-01-01</td>\n",
       "    </tr>\n",
       "    <tr>\n",
       "      <th>2</th>\n",
       "      <td>Arizona</td>\n",
       "      <td>303.31</td>\n",
       "      <td>1941</td>\n",
       "      <td>209.35</td>\n",
       "      <td>1625</td>\n",
       "      <td>189.45</td>\n",
       "      <td>222</td>\n",
       "      <td>2014-01-01</td>\n",
       "    </tr>\n",
       "    <tr>\n",
       "      <th>3</th>\n",
       "      <td>Arkansas</td>\n",
       "      <td>361.85</td>\n",
       "      <td>576</td>\n",
       "      <td>185.62</td>\n",
       "      <td>544</td>\n",
       "      <td>125.87</td>\n",
       "      <td>112</td>\n",
       "      <td>2014-01-01</td>\n",
       "    </tr>\n",
       "    <tr>\n",
       "      <th>4</th>\n",
       "      <td>California</td>\n",
       "      <td>248.78</td>\n",
       "      <td>12096</td>\n",
       "      <td>193.56</td>\n",
       "      <td>12812</td>\n",
       "      <td>192.92</td>\n",
       "      <td>778</td>\n",
       "      <td>2014-01-01</td>\n",
       "    </tr>\n",
       "  </tbody>\n",
       "</table>\n",
       "</div>"
      ],
      "text/plain": [
       "        State   HighQ  HighQN    MedQ  MedQN    LowQ  LowQN       date\n",
       "0     Alabama  339.06    1042  198.64    933  149.49    123 2014-01-01\n",
       "1      Alaska  288.75     252  260.60    297  388.58     26 2014-01-01\n",
       "2     Arizona  303.31    1941  209.35   1625  189.45    222 2014-01-01\n",
       "3    Arkansas  361.85     576  185.62    544  125.87    112 2014-01-01\n",
       "4  California  248.78   12096  193.56  12812  192.92    778 2014-01-01"
      ]
     },
     "execution_count": 5,
     "metadata": {},
     "output_type": "execute_result"
    }
   ],
   "source": [
    "prices_pd.head()"
   ]
  },
  {
   "cell_type": "markdown",
   "metadata": {},
   "source": [
    "<div class=\"alert alert-block alert-success\">\n",
    "⚠️TASK 1\n",
    "<br>\n",
    "\n",
    "Use distplot to plot `HighQ` from `weed_pd`.\n",
    "\n",
    "</div>"
   ]
  },
  {
   "cell_type": "code",
   "execution_count": null,
   "metadata": {},
   "outputs": [],
   "source": []
  },
  {
   "cell_type": "markdown",
   "metadata": {},
   "source": [
    "<div class=\"alert alert-block alert-success\">\n",
    "⚠️TASK 2\n",
    "<br>\n",
    "\n",
    "Create 2 new columns in `weed_pd`, `weed_pd.month` and `weed_pd.year`, where you would put months and years from the `date` column.\n",
    "\n",
    "</div>"
   ]
  },
  {
   "cell_type": "code",
   "execution_count": null,
   "metadata": {},
   "outputs": [],
   "source": []
  },
  {
   "cell_type": "markdown",
   "metadata": {},
   "source": [
    "<div class=\"alert alert-block alert-info\">\n",
    "⚠️INFO about lambda functions\n",
    "<br>\n",
    "    \n",
    "TEXT: https://realpython.com/python-lambda/\n",
    "\n",
    "VIDEO: [Python 3 Tutorial for Beginners #24 - Lambdas](https://www.youtube.com/watch?v=3waZGETmzjY)\n",
    "\n",
    "</div>"
   ]
  },
  {
   "cell_type": "code",
   "execution_count": 10,
   "metadata": {},
   "outputs": [
    {
     "data": {
      "text/html": [
       "<div>\n",
       "<style scoped>\n",
       "    .dataframe tbody tr th:only-of-type {\n",
       "        vertical-align: middle;\n",
       "    }\n",
       "\n",
       "    .dataframe tbody tr th {\n",
       "        vertical-align: top;\n",
       "    }\n",
       "\n",
       "    .dataframe thead th {\n",
       "        text-align: right;\n",
       "    }\n",
       "</style>\n",
       "<table border=\"1\" class=\"dataframe\">\n",
       "  <thead>\n",
       "    <tr style=\"text-align: right;\">\n",
       "      <th></th>\n",
       "      <th>State</th>\n",
       "      <th>HighQ</th>\n",
       "      <th>HighQN</th>\n",
       "      <th>MedQ</th>\n",
       "      <th>MedQN</th>\n",
       "      <th>LowQ</th>\n",
       "      <th>LowQN</th>\n",
       "      <th>date</th>\n",
       "      <th>month</th>\n",
       "      <th>year</th>\n",
       "    </tr>\n",
       "  </thead>\n",
       "  <tbody>\n",
       "    <tr>\n",
       "      <th>0</th>\n",
       "      <td>Alabama</td>\n",
       "      <td>339.06</td>\n",
       "      <td>1042</td>\n",
       "      <td>198.64</td>\n",
       "      <td>933</td>\n",
       "      <td>149.49</td>\n",
       "      <td>123</td>\n",
       "      <td>2014-01-01</td>\n",
       "      <td>1</td>\n",
       "      <td>2014</td>\n",
       "    </tr>\n",
       "    <tr>\n",
       "      <th>1</th>\n",
       "      <td>Alaska</td>\n",
       "      <td>288.75</td>\n",
       "      <td>252</td>\n",
       "      <td>260.60</td>\n",
       "      <td>297</td>\n",
       "      <td>388.58</td>\n",
       "      <td>26</td>\n",
       "      <td>2014-01-01</td>\n",
       "      <td>1</td>\n",
       "      <td>2014</td>\n",
       "    </tr>\n",
       "    <tr>\n",
       "      <th>2</th>\n",
       "      <td>Arizona</td>\n",
       "      <td>303.31</td>\n",
       "      <td>1941</td>\n",
       "      <td>209.35</td>\n",
       "      <td>1625</td>\n",
       "      <td>189.45</td>\n",
       "      <td>222</td>\n",
       "      <td>2014-01-01</td>\n",
       "      <td>1</td>\n",
       "      <td>2014</td>\n",
       "    </tr>\n",
       "    <tr>\n",
       "      <th>3</th>\n",
       "      <td>Arkansas</td>\n",
       "      <td>361.85</td>\n",
       "      <td>576</td>\n",
       "      <td>185.62</td>\n",
       "      <td>544</td>\n",
       "      <td>125.87</td>\n",
       "      <td>112</td>\n",
       "      <td>2014-01-01</td>\n",
       "      <td>1</td>\n",
       "      <td>2014</td>\n",
       "    </tr>\n",
       "    <tr>\n",
       "      <th>4</th>\n",
       "      <td>California</td>\n",
       "      <td>248.78</td>\n",
       "      <td>12096</td>\n",
       "      <td>193.56</td>\n",
       "      <td>12812</td>\n",
       "      <td>192.92</td>\n",
       "      <td>778</td>\n",
       "      <td>2014-01-01</td>\n",
       "      <td>1</td>\n",
       "      <td>2014</td>\n",
       "    </tr>\n",
       "  </tbody>\n",
       "</table>\n",
       "</div>"
      ],
      "text/plain": [
       "        State   HighQ  HighQN    MedQ  MedQN    LowQ  LowQN       date  month  \\\n",
       "0     Alabama  339.06    1042  198.64    933  149.49    123 2014-01-01      1   \n",
       "1      Alaska  288.75     252  260.60    297  388.58     26 2014-01-01      1   \n",
       "2     Arizona  303.31    1941  209.35   1625  189.45    222 2014-01-01      1   \n",
       "3    Arkansas  361.85     576  185.62    544  125.87    112 2014-01-01      1   \n",
       "4  California  248.78   12096  193.56  12812  192.92    778 2014-01-01      1   \n",
       "\n",
       "   year  \n",
       "0  2014  \n",
       "1  2014  \n",
       "2  2014  \n",
       "3  2014  \n",
       "4  2014  "
      ]
     },
     "execution_count": 10,
     "metadata": {},
     "output_type": "execute_result"
    }
   ],
   "source": [
    "weed_pd.head()"
   ]
  },
  {
   "cell_type": "code",
   "execution_count": 11,
   "metadata": {},
   "outputs": [
    {
     "data": {
      "text/plain": [
       "array([2014, 2015, 2013], dtype=int64)"
      ]
     },
     "execution_count": 11,
     "metadata": {},
     "output_type": "execute_result"
    }
   ],
   "source": [
    "weed_pd.year.unique()"
   ]
  },
  {
   "cell_type": "code",
   "execution_count": 12,
   "metadata": {},
   "outputs": [
    {
     "data": {
      "text/plain": [
       "2014    18564\n",
       "2015     4080\n",
       "2013      255\n",
       "Name: year, dtype: int64"
      ]
     },
     "execution_count": 12,
     "metadata": {},
     "output_type": "execute_result"
    }
   ],
   "source": [
    "weed_pd.year.value_counts()"
   ]
  },
  {
   "cell_type": "code",
   "execution_count": 13,
   "metadata": {},
   "outputs": [],
   "source": [
    "# here we are taking only January 2015 and take the mean of HighQ for each state\n",
    "\n",
    "weed_jan2015_summarized = weed_pd.loc[(weed_pd.month==1) & (weed_pd.year==2015), [\"State\", \"HighQ\"]].groupby(\"State\").mean().reset_index()"
   ]
  },
  {
   "cell_type": "code",
   "execution_count": 14,
   "metadata": {},
   "outputs": [
    {
     "data": {
      "text/html": [
       "<div>\n",
       "<style scoped>\n",
       "    .dataframe tbody tr th:only-of-type {\n",
       "        vertical-align: middle;\n",
       "    }\n",
       "\n",
       "    .dataframe tbody tr th {\n",
       "        vertical-align: top;\n",
       "    }\n",
       "\n",
       "    .dataframe thead th {\n",
       "        text-align: right;\n",
       "    }\n",
       "</style>\n",
       "<table border=\"1\" class=\"dataframe\">\n",
       "  <thead>\n",
       "    <tr style=\"text-align: right;\">\n",
       "      <th></th>\n",
       "      <th>State</th>\n",
       "      <th>HighQ</th>\n",
       "    </tr>\n",
       "  </thead>\n",
       "  <tbody>\n",
       "    <tr>\n",
       "      <th>0</th>\n",
       "      <td>Alabama</td>\n",
       "      <td>336.504839</td>\n",
       "    </tr>\n",
       "    <tr>\n",
       "      <th>1</th>\n",
       "      <td>Alaska</td>\n",
       "      <td>302.972581</td>\n",
       "    </tr>\n",
       "    <tr>\n",
       "      <th>2</th>\n",
       "      <td>Arizona</td>\n",
       "      <td>297.782903</td>\n",
       "    </tr>\n",
       "    <tr>\n",
       "      <th>3</th>\n",
       "      <td>Arkansas</td>\n",
       "      <td>341.705806</td>\n",
       "    </tr>\n",
       "    <tr>\n",
       "      <th>4</th>\n",
       "      <td>California</td>\n",
       "      <td>243.602258</td>\n",
       "    </tr>\n",
       "  </tbody>\n",
       "</table>\n",
       "</div>"
      ],
      "text/plain": [
       "        State       HighQ\n",
       "0     Alabama  336.504839\n",
       "1      Alaska  302.972581\n",
       "2     Arizona  297.782903\n",
       "3    Arkansas  341.705806\n",
       "4  California  243.602258"
      ]
     },
     "execution_count": 14,
     "metadata": {},
     "output_type": "execute_result"
    }
   ],
   "source": [
    "weed_jan2015_summarized.head()"
   ]
  },
  {
   "cell_type": "code",
   "execution_count": 15,
   "metadata": {},
   "outputs": [
    {
     "data": {
      "text/plain": [
       "(51, 2)"
      ]
     },
     "execution_count": 15,
     "metadata": {},
     "output_type": "execute_result"
    }
   ],
   "source": [
    "weed_jan2015_summarized.shape"
   ]
  },
  {
   "cell_type": "markdown",
   "metadata": {},
   "source": [
    "**Question If you'd randomly landed in USA, with equal chances of landing in any of the states, what is the probability that the price of weed is more than 340. (Bin the prices by $10)**"
   ]
  },
  {
   "cell_type": "code",
   "execution_count": null,
   "metadata": {},
   "outputs": [],
   "source": []
  },
  {
   "cell_type": "markdown",
   "metadata": {},
   "source": [
    "---"
   ]
  },
  {
   "cell_type": "code",
   "execution_count": null,
   "metadata": {
    "collapsed": true
   },
   "outputs": [],
   "source": [
    "#Using `scipy` to use distribution\n",
    "# scipy = Scientific Python - a library with various statistical and Machine Learning tools"
   ]
  },
  {
   "cell_type": "code",
   "execution_count": 27,
   "metadata": {},
   "outputs": [],
   "source": [
    "from scipy import stats\n",
    "import scipy as sp\n",
    "import numpy as np\n",
    "from matplotlib import pyplot as plt\n",
    "%matplotlib inline"
   ]
  },
  {
   "cell_type": "code",
   "execution_count": 28,
   "metadata": {
    "collapsed": true
   },
   "outputs": [
    {
     "name": "stderr",
     "output_type": "stream",
     "text": [
      "C:\\ProgramData\\Anaconda3\\lib\\site-packages\\ipykernel_launcher.py:2: DeprecationWarning: scipy.randn is deprecated and will be removed in SciPy 2.0.0, use numpy.random.randn instead\n",
      "  \n"
     ]
    },
    {
     "data": {
      "text/plain": [
       "<matplotlib.collections.PathCollection at 0x18e86e1b308>"
      ]
     },
     "execution_count": 28,
     "metadata": {},
     "output_type": "execute_result"
    },
    {
     "data": {
      "image/png": "[encoded data removed]",
      "text/plain": [
       "<Figure size 432x288 with 1 Axes>"
      ]
     },
     "metadata": {
      "needs_background": "light"
     },
     "output_type": "display_data"
    }
   ],
   "source": [
    "#Generate random numbers that are normally distributed\n",
    "random_normal = sp.randn(100)\n",
    "plt.scatter(range(100), random_normal)"
   ]
  },
  {
   "cell_type": "code",
   "execution_count": 29,
   "metadata": {
    "collapsed": true
   },
   "outputs": [
    {
     "data": {
      "text/plain": [
       "array([-2.09743012e+00, -1.30331344e+00, -5.50977209e-01, -1.73524815e-01,\n",
       "       -4.11927559e-01,  1.23870504e+00,  1.12467177e+00,  3.05316285e-01,\n",
       "        1.18877953e+00, -1.77330814e+00, -2.11699899e+00,  5.51084287e-01,\n",
       "        2.77202812e-01, -1.09539185e+00, -7.59674073e-01,  1.83732291e+00,\n",
       "        1.65206053e+00,  1.84267213e+00,  9.39382997e-01, -5.72860438e-01,\n",
       "        1.85398564e+00, -7.67195196e-01, -1.52447177e+00,  9.85420104e-01,\n",
       "        1.73065568e+00, -9.51488336e-01, -1.12415677e+00,  1.01707375e+00,\n",
       "        5.78588923e-01,  3.50533524e-01, -1.36938535e+00, -2.66263044e+00,\n",
       "       -1.11968367e+00,  8.64512921e-01, -1.46865448e+00,  6.37932649e-01,\n",
       "       -3.61799202e-01,  1.05182583e+00,  7.02936405e-01, -7.89903925e-02,\n",
       "       -2.28417255e+00,  3.01841944e-01, -1.48309694e+00, -6.93874468e-01,\n",
       "       -8.58785784e-01,  1.14989414e-01, -5.80768812e-01,  1.25543812e+00,\n",
       "        3.20700739e-01,  1.39070314e+00,  7.15625295e-01,  4.15760159e-01,\n",
       "       -1.53804954e-01,  8.73368629e-03,  5.27671939e-01, -6.46773331e-02,\n",
       "        1.30733853e+00,  4.05746523e-01, -7.82881299e-01,  2.19993565e-01,\n",
       "       -8.88160172e-01,  1.56925503e+00,  1.43259028e-03, -6.62231629e-01,\n",
       "        1.05925943e+00,  4.46366474e-01, -7.09598880e-01,  7.92934100e-01,\n",
       "       -3.19018452e-01,  3.84655189e-01, -1.48311471e+00, -9.38215755e-02,\n",
       "       -1.37369504e-01, -8.78399371e-01,  1.35936355e+00,  5.73646308e-01,\n",
       "       -7.11008119e-01, -6.61952834e-02, -1.36539021e+00,  8.97670773e-01,\n",
       "       -1.18028882e+00, -1.31799969e+00, -5.55436612e-01,  1.33263232e+00,\n",
       "       -1.81401245e-01,  7.84997422e-01, -8.25177752e-01, -3.72208080e-01,\n",
       "       -1.29485663e+00, -1.09194236e+00, -1.78356458e-02,  7.87986813e-01,\n",
       "       -2.24177367e-01, -4.15384210e-01, -1.97097617e+00,  4.00590501e-02,\n",
       "        1.62851691e+00,  6.54501579e-01, -1.89936874e-01, -3.14176858e-01])"
      ]
     },
     "execution_count": 29,
     "metadata": {},
     "output_type": "execute_result"
    }
   ],
   "source": [
    "random_normal"
   ]
  },
  {
   "cell_type": "markdown",
   "metadata": {},
   "source": [
    "<div class=\"alert alert-block alert-success\">\n",
    "⚠️TASK 3\n",
    "<br>\n",
    "\n",
    "Print the mean and variance of the `random_normal`.\n",
    "\n",
    "</div>"
   ]
  },
  {
   "cell_type": "code",
   "execution_count": null,
   "metadata": {},
   "outputs": [],
   "source": []
  },
  {
   "cell_type": "markdown",
   "metadata": {},
   "source": [
    "<div class=\"alert alert-block alert-success\">\n",
    "⚠️TASK 4\n",
    "<br>\n",
    "\n",
    "Visualise the histogram of the `random_normal`. Is it a normal distribution???\n",
    "\n",
    "</div>"
   ]
  },
  {
   "cell_type": "code",
   "execution_count": null,
   "metadata": {},
   "outputs": [],
   "source": []
  },
  {
   "cell_type": "code",
   "execution_count": 59,
   "metadata": {},
   "outputs": [],
   "source": [
    "#Create a normal distribution with mean 2.5 and standard deviation 1.7\n",
    "\n",
    "n = stats.norm(loc=2.5, scale=2.7)"
   ]
  },
  {
   "cell_type": "code",
   "execution_count": 49,
   "metadata": {},
   "outputs": [
    {
     "data": {
      "text/plain": [
       "-0.7409186036220787"
      ]
     },
     "execution_count": 49,
     "metadata": {},
     "output_type": "execute_result"
    }
   ],
   "source": [
    "#Generate random number from that distribution\n",
    "n.rvs()"
   ]
  },
  {
   "cell_type": "code",
   "execution_count": null,
   "metadata": {},
   "outputs": [],
   "source": []
  },
  {
   "cell_type": "markdown",
   "metadata": {},
   "source": [
    "### Standard Error\n",
    "\n",
    "It is a measure of how far the estimate to be off, on average. More technically, it is the standard deviation of the sampling distribution of a statistic(mostly the mean). Please do not confuse it with *standard deviation*. Standard deviation is a measure of the variability of the observed quantity. Standard error, on the other hand, describes variability of the estimate. \n",
    "\n",
    "To illustrate this, let's do the following.\n",
    "\n",
    "Not everyone buying weed reports it on the site. Let's assume that the actual mean price for January 2015 was 243.7. Compute standard deviation and standard error for the mean. "
   ]
  },
  {
   "cell_type": "markdown",
   "metadata": {},
   "source": [
    "<div class=\"alert alert-block alert-warning\">\n",
    "📺 WATCH\n",
    "<br>\n",
    "\n",
    "Watch the videos: <br>\n",
    "[StatQuickie: Standard Deviation vs Standard Error](https://www.youtube.com/watch?v=A82brFpdr9g)\n",
    "<br>\n",
    "\n",
    "</div>"
   ]
  },
  {
   "cell_type": "markdown",
   "metadata": {},
   "source": [
    "<div class=\"alert alert-block alert-info\">\n",
    "📺 WATCH AT HOME\n",
    "<br>\n",
    "\n",
    "[StatQuest: The standard error](https://www.youtube.com/watch?v=XNgt7F6FqDU)\n",
    "\n",
    "</div>"
   ]
  },
  {
   "cell_type": "code",
   "execution_count": 78,
   "metadata": {},
   "outputs": [
    {
     "data": {
      "text/html": [
       "<div>\n",
       "<style scoped>\n",
       "    .dataframe tbody tr th:only-of-type {\n",
       "        vertical-align: middle;\n",
       "    }\n",
       "\n",
       "    .dataframe tbody tr th {\n",
       "        vertical-align: top;\n",
       "    }\n",
       "\n",
       "    .dataframe thead th {\n",
       "        text-align: right;\n",
       "    }\n",
       "</style>\n",
       "<table border=\"1\" class=\"dataframe\">\n",
       "  <thead>\n",
       "    <tr style=\"text-align: right;\">\n",
       "      <th></th>\n",
       "      <th>State</th>\n",
       "      <th>HighQ</th>\n",
       "      <th>HighQN</th>\n",
       "      <th>MedQ</th>\n",
       "      <th>MedQN</th>\n",
       "      <th>LowQ</th>\n",
       "      <th>LowQN</th>\n",
       "      <th>date</th>\n",
       "      <th>month</th>\n",
       "      <th>year</th>\n",
       "    </tr>\n",
       "  </thead>\n",
       "  <tbody>\n",
       "    <tr>\n",
       "      <th>55</th>\n",
       "      <td>California</td>\n",
       "      <td>243.96</td>\n",
       "      <td>16512</td>\n",
       "      <td>189.35</td>\n",
       "      <td>19151</td>\n",
       "      <td>NaN</td>\n",
       "      <td>1096</td>\n",
       "      <td>2015-01-01</td>\n",
       "      <td>1</td>\n",
       "      <td>2015</td>\n",
       "    </tr>\n",
       "    <tr>\n",
       "      <th>820</th>\n",
       "      <td>California</td>\n",
       "      <td>243.95</td>\n",
       "      <td>16517</td>\n",
       "      <td>189.34</td>\n",
       "      <td>19160</td>\n",
       "      <td>NaN</td>\n",
       "      <td>1096</td>\n",
       "      <td>2015-01-02</td>\n",
       "      <td>1</td>\n",
       "      <td>2015</td>\n",
       "    </tr>\n",
       "    <tr>\n",
       "      <th>1534</th>\n",
       "      <td>California</td>\n",
       "      <td>243.93</td>\n",
       "      <td>16530</td>\n",
       "      <td>189.38</td>\n",
       "      <td>19179</td>\n",
       "      <td>NaN</td>\n",
       "      <td>1096</td>\n",
       "      <td>2015-01-03</td>\n",
       "      <td>1</td>\n",
       "      <td>2015</td>\n",
       "    </tr>\n",
       "    <tr>\n",
       "      <th>2299</th>\n",
       "      <td>California</td>\n",
       "      <td>243.91</td>\n",
       "      <td>16542</td>\n",
       "      <td>189.38</td>\n",
       "      <td>19193</td>\n",
       "      <td>NaN</td>\n",
       "      <td>1099</td>\n",
       "      <td>2015-01-04</td>\n",
       "      <td>1</td>\n",
       "      <td>2015</td>\n",
       "    </tr>\n",
       "    <tr>\n",
       "      <th>3064</th>\n",
       "      <td>California</td>\n",
       "      <td>243.91</td>\n",
       "      <td>16558</td>\n",
       "      <td>189.39</td>\n",
       "      <td>19222</td>\n",
       "      <td>NaN</td>\n",
       "      <td>1100</td>\n",
       "      <td>2015-01-05</td>\n",
       "      <td>1</td>\n",
       "      <td>2015</td>\n",
       "    </tr>\n",
       "  </tbody>\n",
       "</table>\n",
       "</div>"
      ],
      "text/plain": [
       "           State   HighQ  HighQN    MedQ  MedQN  LowQ  LowQN       date  \\\n",
       "55    California  243.96   16512  189.35  19151   NaN   1096 2015-01-01   \n",
       "820   California  243.95   16517  189.34  19160   NaN   1096 2015-01-02   \n",
       "1534  California  243.93   16530  189.38  19179   NaN   1096 2015-01-03   \n",
       "2299  California  243.91   16542  189.38  19193   NaN   1099 2015-01-04   \n",
       "3064  California  243.91   16558  189.39  19222   NaN   1100 2015-01-05   \n",
       "\n",
       "      month  year  \n",
       "55        1  2015  \n",
       "820       1  2015  \n",
       "1534      1  2015  \n",
       "2299      1  2015  \n",
       "3064      1  2015  "
      ]
     },
     "execution_count": 78,
     "metadata": {},
     "output_type": "execute_result"
    }
   ],
   "source": [
    "#Weed prices of Calinfornia for the month of Jan 2015\n",
    "weed_ca_jan2015 = weed_pd[(weed_pd.State==\"California\") & (weed_pd.month==1) & (weed_pd.year==2015)]\n",
    "weed_ca_jan2015.head()"
   ]
  },
  {
   "cell_type": "code",
   "execution_count": 79,
   "metadata": {},
   "outputs": [
    {
     "name": "stdout",
     "output_type": "stream",
     "text": [
      "Sample Mean: 243.6022580645161 \n",
      " Sample Standard Deviation: 0.21137186311363304\n"
     ]
    }
   ],
   "source": [
    "#Mean and standard deviation of the price of high quality weed in California\n",
    "print(\"Sample Mean:\", weed_ca_jan2015.HighQ.mean(), \"\\n\", \"Sample Standard Deviation:\", weed_ca_jan2015.HighQ.std())"
   ]
  },
  {
   "cell_type": "code",
   "execution_count": 80,
   "metadata": {},
   "outputs": [
    {
     "data": {
      "text/plain": [
       "<matplotlib.axes._subplots.AxesSubplot at 0x18e8a7b7548>"
      ]
     },
     "execution_count": 80,
     "metadata": {},
     "output_type": "execute_result"
    },
    {
     "data": {
      "image/png": "[encoded data removed]",
      "text/plain": [
       "<Figure size 432x288 with 1 Axes>"
      ]
     },
     "metadata": {
      "needs_background": "light"
     },
     "output_type": "display_data"
    }
   ],
   "source": [
    "sns.distplot(weed_ca_jan2015.HighQ)"
   ]
  },
  {
   "cell_type": "code",
   "execution_count": 25,
   "metadata": {
    "collapsed": true
   },
   "outputs": [
    {
     "name": "stdout",
     "output_type": "stream",
     "text": [
      "243.96 243.27\n"
     ]
    }
   ],
   "source": [
    "print(weed_ca_jan2015.HighQ.max(), weed_ca_jan2015.HighQ.min())"
   ]
  },
  {
   "cell_type": "markdown",
   "metadata": {},
   "source": [
    "We'll follow the same procedures we did in the `resampling.ipynb`.  We will bootstrap samples from actual observed data 10,000 times and compute difference between sample mean and actual mean. Find root mean squared error to get standard error"
   ]
  },
  {
   "cell_type": "code",
   "execution_count": 81,
   "metadata": {},
   "outputs": [],
   "source": [
    "def squared_error(bootstrap_sample, actual_mean):\n",
    "    return np.square(bootstrap_sample.mean() - actual_mean)\n",
    "\n",
    "def experiment_for_computing_standard_error(observed_prices, number_of_times, actual_mean):\n",
    "    bootstrap_mean = np.empty([number_of_times, 1], dtype=np.int32)\n",
    "    bootstrap_sample = np.random.choice(observed_prices, size=[observed_prices.size, number_of_times], replace=True)\n",
    "    bootstrap_squared_error = np.apply_along_axis(squared_error, 1, bootstrap_sample, actual_mean)\n",
    "    return np.sqrt(bootstrap_squared_error.mean())"
   ]
  },
  {
   "cell_type": "code",
   "execution_count": 85,
   "metadata": {},
   "outputs": [
    {
     "data": {
      "text/plain": [
       "0.10576144794284616"
      ]
     },
     "execution_count": 85,
     "metadata": {},
     "output_type": "execute_result"
    }
   ],
   "source": [
    "#Standard error of the estimate for mean\n",
    "experiment_for_computing_standard_error(np.array(weed_ca_jan2015.HighQ), 10, 243.7)"
   ]
  },
  {
   "cell_type": "markdown",
   "metadata": {},
   "source": [
    "---"
   ]
  },
  {
   "cell_type": "markdown",
   "metadata": {},
   "source": [
    "# Hypothesis Testing\n",
    "\n",
    "\n",
    "We would like to know if the effects we see in the sample(observed data) are likely to occur in the population. \n",
    "\n",
    "The way classical hypothesis testing works is by conducting a statistical test to answer the following question:\n",
    "> Given the sample and an effect, what is the probability of seeing that effect just by chance?\n",
    "\n",
    "Here are the steps on how we would do this\n",
    "\n",
    "1. Compute test statistic\n",
    "2. Define null hypothesis\n",
    "3. Compute p-value (probability of our result being false)\n",
    "4. Interpret the result\n",
    "\n",
    "If p-value is very low(most often than now, below 0.05), the effect is considered statistically significant. That means that effect is unlikely to have occured by chance. The inference? The effect is likely to be seen in the population too. \n",
    "\n",
    "This process is very similar to the *proof by contradiction* paradigm. We first assume that the effect is false. That's the null hypothesis. Next step is to compute the probability of obtaining that effect (the p-value). If p-value is very low(<0.05 as a rule of thumb), we reject the null hypothesis. "
   ]
  },
  {
   "cell_type": "code",
   "execution_count": 86,
   "metadata": {},
   "outputs": [],
   "source": [
    "import numpy as np\n",
    "import pandas as pd\n",
    "from datetime import datetime as dt\n",
    "\n",
    "import os\n",
    "\n",
    "import seaborn as sns\n",
    "\n",
    "from scipy import stats\n",
    "import matplotlib.pyplot as plt\n",
    "%matplotlib inline"
   ]
  },
  {
   "cell_type": "code",
   "execution_count": 87,
   "metadata": {},
   "outputs": [],
   "source": [
    "# REMEMBER to change the path address!\n",
    "\n",
    "PTH = r'C:\\Users\\HP\\Dysk Google\\CLASSES\\ALK 2020-2021\\Introduction to Python and Machine Learning\\Class 5\\data'\n",
    "\n",
    "weed_pd = pd.read_csv(os.path.join(PTH, \"Weed_Price.csv\"), parse_dates=[-1])\n",
    "demography_pd = pd.read_csv(os.path.join(PTH, \"Demographics_State.csv\"))\n",
    "population_pd = pd.read_csv(os.path.join(PTH, \"Population_State.csv\"))"
   ]
  },
  {
   "cell_type": "code",
   "execution_count": 88,
   "metadata": {},
   "outputs": [],
   "source": [
    "weed_pd[\"month\"] = weed_pd.date.apply(lambda x: x.month)\n",
    "weed_pd[\"year\"] = weed_pd.date.apply(lambda x: x.year)"
   ]
  },
  {
   "cell_type": "code",
   "execution_count": 89,
   "metadata": {},
   "outputs": [
    {
     "data": {
      "text/html": [
       "<div>\n",
       "<style scoped>\n",
       "    .dataframe tbody tr th:only-of-type {\n",
       "        vertical-align: middle;\n",
       "    }\n",
       "\n",
       "    .dataframe tbody tr th {\n",
       "        vertical-align: top;\n",
       "    }\n",
       "\n",
       "    .dataframe thead th {\n",
       "        text-align: right;\n",
       "    }\n",
       "</style>\n",
       "<table border=\"1\" class=\"dataframe\">\n",
       "  <thead>\n",
       "    <tr style=\"text-align: right;\">\n",
       "      <th></th>\n",
       "      <th>State</th>\n",
       "      <th>HighQ</th>\n",
       "      <th>HighQN</th>\n",
       "      <th>MedQ</th>\n",
       "      <th>MedQN</th>\n",
       "      <th>LowQ</th>\n",
       "      <th>LowQN</th>\n",
       "      <th>date</th>\n",
       "      <th>month</th>\n",
       "      <th>year</th>\n",
       "    </tr>\n",
       "  </thead>\n",
       "  <tbody>\n",
       "    <tr>\n",
       "      <th>0</th>\n",
       "      <td>Alabama</td>\n",
       "      <td>339.06</td>\n",
       "      <td>1042</td>\n",
       "      <td>198.64</td>\n",
       "      <td>933</td>\n",
       "      <td>149.49</td>\n",
       "      <td>123</td>\n",
       "      <td>2014-01-01</td>\n",
       "      <td>1</td>\n",
       "      <td>2014</td>\n",
       "    </tr>\n",
       "    <tr>\n",
       "      <th>1</th>\n",
       "      <td>Alaska</td>\n",
       "      <td>288.75</td>\n",
       "      <td>252</td>\n",
       "      <td>260.60</td>\n",
       "      <td>297</td>\n",
       "      <td>388.58</td>\n",
       "      <td>26</td>\n",
       "      <td>2014-01-01</td>\n",
       "      <td>1</td>\n",
       "      <td>2014</td>\n",
       "    </tr>\n",
       "    <tr>\n",
       "      <th>2</th>\n",
       "      <td>Arizona</td>\n",
       "      <td>303.31</td>\n",
       "      <td>1941</td>\n",
       "      <td>209.35</td>\n",
       "      <td>1625</td>\n",
       "      <td>189.45</td>\n",
       "      <td>222</td>\n",
       "      <td>2014-01-01</td>\n",
       "      <td>1</td>\n",
       "      <td>2014</td>\n",
       "    </tr>\n",
       "    <tr>\n",
       "      <th>3</th>\n",
       "      <td>Arkansas</td>\n",
       "      <td>361.85</td>\n",
       "      <td>576</td>\n",
       "      <td>185.62</td>\n",
       "      <td>544</td>\n",
       "      <td>125.87</td>\n",
       "      <td>112</td>\n",
       "      <td>2014-01-01</td>\n",
       "      <td>1</td>\n",
       "      <td>2014</td>\n",
       "    </tr>\n",
       "    <tr>\n",
       "      <th>4</th>\n",
       "      <td>California</td>\n",
       "      <td>248.78</td>\n",
       "      <td>12096</td>\n",
       "      <td>193.56</td>\n",
       "      <td>12812</td>\n",
       "      <td>192.92</td>\n",
       "      <td>778</td>\n",
       "      <td>2014-01-01</td>\n",
       "      <td>1</td>\n",
       "      <td>2014</td>\n",
       "    </tr>\n",
       "  </tbody>\n",
       "</table>\n",
       "</div>"
      ],
      "text/plain": [
       "        State   HighQ  HighQN    MedQ  MedQN    LowQ  LowQN       date  month  \\\n",
       "0     Alabama  339.06    1042  198.64    933  149.49    123 2014-01-01      1   \n",
       "1      Alaska  288.75     252  260.60    297  388.58     26 2014-01-01      1   \n",
       "2     Arizona  303.31    1941  209.35   1625  189.45    222 2014-01-01      1   \n",
       "3    Arkansas  361.85     576  185.62    544  125.87    112 2014-01-01      1   \n",
       "4  California  248.78   12096  193.56  12812  192.92    778 2014-01-01      1   \n",
       "\n",
       "   year  \n",
       "0  2014  \n",
       "1  2014  \n",
       "2  2014  \n",
       "3  2014  \n",
       "4  2014  "
      ]
     },
     "execution_count": 89,
     "metadata": {},
     "output_type": "execute_result"
    }
   ],
   "source": [
    "weed_pd.head()"
   ]
  },
  {
   "cell_type": "markdown",
   "metadata": {},
   "source": [
    "### Let's work on weed prices in California in 2014\n"
   ]
  },
  {
   "cell_type": "code",
   "execution_count": 90,
   "metadata": {},
   "outputs": [],
   "source": [
    "weed_ca_2014 = weed_pd[(weed_pd.State==\"California\") & (weed_pd.year==2014)]"
   ]
  },
  {
   "cell_type": "code",
   "execution_count": 91,
   "metadata": {},
   "outputs": [
    {
     "name": "stdout",
     "output_type": "stream",
     "text": [
      "Mean: 245.8942307692309\n",
      "Standard Deviation: 1.289907939371412\n"
     ]
    }
   ],
   "source": [
    "#Mean and standard deviation of high quality weed's price\n",
    "print(\"Mean:\", weed_ca_2014.HighQ.mean())\n",
    "print(\"Standard Deviation:\", weed_ca_2014.HighQ.std())"
   ]
  },
  {
   "cell_type": "code",
   "execution_count": 8,
   "metadata": {},
   "outputs": [
    {
     "data": {
      "text/plain": [
       "(245.761718492726, 246.02674304573577)"
      ]
     },
     "execution_count": 8,
     "metadata": {},
     "output_type": "execute_result"
    }
   ],
   "source": [
    "#Confidence interval on the mean\n",
    "stats.norm.interval(0.95, loc=weed_ca_2014.HighQ.mean(), scale = weed_ca_2014.HighQ.std()/np.sqrt(len(weed_ca_2014)))"
   ]
  },
  {
   "cell_type": "code",
   "execution_count": 92,
   "metadata": {},
   "outputs": [
    {
     "data": {
      "text/plain": [
       "<matplotlib.axes._subplots.AxesSubplot at 0x18e8bc3fd88>"
      ]
     },
     "execution_count": 92,
     "metadata": {},
     "output_type": "execute_result"
    },
    {
     "data": {
      "image/png": "[encoded data removed]",
      "text/plain": [
       "<Figure size 432x288 with 1 Axes>"
      ]
     },
     "metadata": {
      "needs_background": "light"
     },
     "output_type": "display_data"
    }
   ],
   "source": [
    "sns.pointplot(weed_ca_2014.HighQ) #pointplot visualises confidence intervals"
   ]
  },
  {
   "cell_type": "code",
   "execution_count": 93,
   "metadata": {},
   "outputs": [
    {
     "data": {
      "text/plain": [
       "<matplotlib.axes._subplots.AxesSubplot at 0x18e8bba7588>"
      ]
     },
     "execution_count": 93,
     "metadata": {},
     "output_type": "execute_result"
    },
    {
     "data": {
      "image/png": "[encoded data removed]",
      "text/plain": [
       "<Figure size 432x288 with 1 Axes>"
      ]
     },
     "metadata": {
      "needs_background": "light"
     },
     "output_type": "display_data"
    }
   ],
   "source": [
    "sns.distplot(weed_ca_2014.HighQ) #pointplot visualises confidence intervals"
   ]
  },
  {
   "cell_type": "markdown",
   "metadata": {},
   "source": [
    "# Question: Are high-quality weed prices in Jan 2014 significantly higher than in Jan 2015?"
   ]
  },
  {
   "cell_type": "code",
   "execution_count": 94,
   "metadata": {},
   "outputs": [],
   "source": [
    "#Get the data\n",
    "weed_ca_jan2014 = np.array(weed_pd[(weed_pd.State==\"California\") & (weed_pd.year==2014) & (weed_pd.month==1)].HighQ)\n",
    "weed_ca_jan2015 = np.array(weed_pd[(weed_pd.State==\"California\") & (weed_pd.year==2015) & (weed_pd.month==1)].HighQ)"
   ]
  },
  {
   "cell_type": "code",
   "execution_count": 95,
   "metadata": {
    "collapsed": true
   },
   "outputs": [
    {
     "name": "stdout",
     "output_type": "stream",
     "text": [
      "Mean-2014 Jan: 248.4454838709677\n",
      "Mean-2015 Jan: 243.60225806451612\n"
     ]
    }
   ],
   "source": [
    "print(\"Mean-2014 Jan:\", weed_ca_jan2014.mean())\n",
    "print(\"Mean-2015 Jan:\", weed_ca_jan2015.mean())"
   ]
  },
  {
   "cell_type": "code",
   "execution_count": 96,
   "metadata": {
    "collapsed": true
   },
   "outputs": [
    {
     "name": "stdout",
     "output_type": "stream",
     "text": [
      "Effect size: 4.843225806451585 (dollars)\n"
     ]
    }
   ],
   "source": [
    "print(\"Effect size:\", weed_ca_jan2014.mean() - weed_ca_jan2015.mean(), \"(dollars)\")"
   ]
  },
  {
   "cell_type": "code",
   "execution_count": 98,
   "metadata": {
    "collapsed": true
   },
   "outputs": [
    {
     "data": {
      "text/plain": [
       "<matplotlib.axes._subplots.AxesSubplot at 0x18e8b941988>"
      ]
     },
     "execution_count": 98,
     "metadata": {},
     "output_type": "execute_result"
    },
    {
     "data": {
      "image/png": "[encoded data removed]",
      "text/plain": [
       "<Figure size 432x288 with 1 Axes>"
      ]
     },
     "metadata": {
      "needs_background": "light"
     },
     "output_type": "display_data"
    }
   ],
   "source": [
    "sns.distplot(weed_ca_jan2014) #pointplot visualises confidence intervals"
   ]
  },
  {
   "cell_type": "code",
   "execution_count": 99,
   "metadata": {
    "collapsed": true
   },
   "outputs": [
    {
     "data": {
      "text/plain": [
       "<matplotlib.axes._subplots.AxesSubplot at 0x18e8b9d5cc8>"
      ]
     },
     "execution_count": 99,
     "metadata": {},
     "output_type": "execute_result"
    },
    {
     "data": {
      "image/png": "[encoded data removed]",
      "text/plain": [
       "<Figure size 432x288 with 1 Axes>"
      ]
     },
     "metadata": {
      "needs_background": "light"
     },
     "output_type": "display_data"
    }
   ],
   "source": [
    "sns.distplot(weed_ca_jan2015) #pointplot visualises confidence intervals"
   ]
  },
  {
   "cell_type": "markdown",
   "metadata": {},
   "source": [
    "## Checking assumptions"
   ]
  },
  {
   "cell_type": "markdown",
   "metadata": {},
   "source": [
    "<div class=\"alert alert-block alert-success\">\n",
    "⚠️TASK 5\n",
    "<br>\n",
    "\n",
    "Find the proper function and carry out the Shapiro-Wilk's test of normality, and the Levene's test of equal variances.\n",
    "\n",
    "</div>"
   ]
  },
  {
   "cell_type": "code",
   "execution_count": null,
   "metadata": {},
   "outputs": [],
   "source": []
  },
  {
   "cell_type": "markdown",
   "metadata": {},
   "source": [
    "---\n",
    "\n",
    "## Carrying out t-test\n",
    "\n",
    "**Null Hypothesis**: Mean prices aren't significantly different\n",
    "\n",
    "Perform **t-test** and determine the p-value. "
   ]
  },
  {
   "cell_type": "markdown",
   "metadata": {},
   "source": [
    "<div class=\"alert alert-block alert-success\">\n",
    "⚠️TASK 6\n",
    "<br>\n",
    "\n",
    "Carry out the t-test.\n",
    "\n",
    "</div>"
   ]
  },
  {
   "cell_type": "code",
   "execution_count": null,
   "metadata": {},
   "outputs": [],
   "source": []
  },
  {
   "cell_type": "markdown",
   "metadata": {},
   "source": [
    "p-value is the probability that the effective size was by chance. And here, p-value is almost 0 (6.297971818508403e-68 is in mathematical notation; e-68 means here \"take the number 6.297971818508403 to the power of -68\", which makes the number extremely small! <br>\n",
    "We can report it `p < 0.001`.\n",
    "\n",
    "*Conclusion*: The price difference is significant. But is a price increase of $4.85 a big deal? The price decreased in 2015 by almost 2\\%. \n",
    "**Always remember to look at effect size.**"
   ]
  },
  {
   "cell_type": "markdown",
   "metadata": {},
   "source": [
    "<div class=\"alert alert-block alert-success\">\n",
    "⚠️TASK 7\n",
    "<br>\n",
    "\n",
    "Visualise the two distributions of the two variables\n",
    "\n",
    "</div>"
   ]
  },
  {
   "cell_type": "code",
   "execution_count": null,
   "metadata": {},
   "outputs": [],
   "source": []
  },
  {
   "cell_type": "markdown",
   "metadata": {},
   "source": [
    "---\n",
    "\n",
    "Calculating effect size/power"
   ]
  },
  {
   "cell_type": "code",
   "execution_count": 109,
   "metadata": {},
   "outputs": [],
   "source": [
    "import numpy\n",
    "def CohenEffectSize(group1, group2):\n",
    "    \"\"\"Compute Cohen's d.\n",
    "\n",
    "    group1: Series or NumPy array\n",
    "    group2: Series or NumPy array\n",
    "\n",
    "    returns: float\n",
    "    \"\"\"\n",
    "    diff = group1.mean() - group2.mean()\n",
    "\n",
    "    n1, n2 = len(group1), len(group2)\n",
    "    var1 = group1.var()\n",
    "    var2 = group2.var()\n",
    "\n",
    "    pooled_var = (n1 * var1 + n2 * var2) / (n1 + n2)\n",
    "    d = diff / numpy.sqrt(pooled_var)\n",
    "    return d"
   ]
  },
  {
   "cell_type": "code",
   "execution_count": 110,
   "metadata": {},
   "outputs": [
    {
     "data": {
      "text/plain": [
       "25.30641535914032"
      ]
     },
     "execution_count": 110,
     "metadata": {},
     "output_type": "execute_result"
    }
   ],
   "source": [
    "CohenEffectSize(weed_ca_jan2014, weed_ca_jan2015)"
   ]
  },
  {
   "cell_type": "markdown",
   "metadata": {},
   "source": [
    "<div class=\"alert alert-block alert-info\">\n",
    "📺 WATCH AT HOME - **********VERY IMPORTANT VIDEOS!**********\n",
    "<br>\n",
    "\n",
    "[StatQuest: P Values, clearly explained](https://www.youtube.com/watch?v=5Z9OIYA8He8)\n",
    "<br><br>\n",
    "[Understanding Hypothesis testing, p-value, t-test](https://www.youtube.com/watch?v=0zZYBALbZgg)\n",
    "\n",
    "</div>"
   ]
  },
  {
   "cell_type": "markdown",
   "metadata": {},
   "source": [
    "### Assumption of t-test\n",
    "\n",
    "One assumption is that the data used came from a normal distribution. \n",
    "<br>\n",
    "There's a [Shapiro-Wilk test](https://en.wikipedia.org/wiki/Shapiro-Wilk) to test for normality. If p-value is less than 0.05, then there's a low chance that the distribution is normal."
   ]
  },
  {
   "cell_type": "markdown",
   "metadata": {},
   "source": [
    "<div class=\"alert alert-block alert-success\">\n",
    "⚠️TASK 8\n",
    "<br>\n",
    "\n",
    "Find the proper function and carry out the Shapiro-Wilk's test of normality for prices of medium quality weed for Jan 2015 and Feb 2015 for New York.\n",
    "    \n",
    "Check also the equal variances Levene's test.\n",
    "\n",
    "</div>"
   ]
  },
  {
   "cell_type": "code",
   "execution_count": null,
   "metadata": {},
   "outputs": [],
   "source": []
  },
  {
   "cell_type": "markdown",
   "metadata": {},
   "source": [
    "<div class=\"alert alert-block alert-success\">\n",
    "⚠️TASK 9\n",
    "<br>\n",
    "\n",
    "Determine if prices of medium quality weed for Jan 2015 and Feb 2015 are significantly different for New York. \n",
    "\n",
    "</div>"
   ]
  },
  {
   "cell_type": "code",
   "execution_count": null,
   "metadata": {},
   "outputs": [],
   "source": []
  },
  {
   "cell_type": "code",
   "execution_count": null,
   "metadata": {},
   "outputs": [],
   "source": []
  },
  {
   "cell_type": "code",
   "execution_count": null,
   "metadata": {},
   "outputs": [],
   "source": []
  },
  {
   "cell_type": "markdown",
   "metadata": {},
   "source": [
    "Write the interpretation of the result here:\n",
    "<br>\n",
    "t test (statistic) value = \n",
    "<br>\n",
    "p = \n",
    "<br>\n",
    "\n",
    "This means that the difference in prices of medium quality weed for Jan 2015 and Feb 2015 are ............... (significantly or not significantly) different for New York."
   ]
  },
  {
   "cell_type": "markdown",
   "metadata": {},
   "source": [
    "### A/B testing\n",
    "\n",
    "Comparing two versions to check which one performs better. Eg: Show to people two variants for the same webpage that they want to see and find which one provides better conversion rate (or the relevant metric). [wiki](https://en.wikipedia.org/wiki/A/B_testing)"
   ]
  },
  {
   "cell_type": "markdown",
   "metadata": {},
   "source": [
    "<div class=\"alert alert-block alert-success\">\n",
    "⚠️TASK 10\n",
    "<br>\n",
    "\n",
    "**Exercise: Impact of regulation and deregulation.**\n",
    "\n",
    "Information on regulation of Weed in the US by State\n",
    "\n",
    "1. Alaska legalized it on 4th Nov 2014. Find if HighQ prices significantly changed in Dec 2014 compared to Oct 2014. \n",
    "2. Maryland decriminalized possessing weed from Oct 1, 2014. Find if HighQ prices of weed changed significantly in Oct 2014 compared to Sep 2014\n",
    "\n",
    "</div>"
   ]
  },
  {
   "cell_type": "code",
   "execution_count": null,
   "metadata": {},
   "outputs": [],
   "source": []
  },
  {
   "cell_type": "code",
   "execution_count": null,
   "metadata": {},
   "outputs": [],
   "source": []
  },
  {
   "cell_type": "code",
   "execution_count": null,
   "metadata": {},
   "outputs": [],
   "source": []
  },
  {
   "cell_type": "code",
   "execution_count": null,
   "metadata": {},
   "outputs": [],
   "source": []
  },
  {
   "cell_type": "markdown",
   "metadata": {},
   "source": [
    "<h2> Something to think about: Which of these give smaller p-values ? </h2>\n",
    "(you need to Google the answer)\n",
    "   \n",
    "   * Smaller effect size\n",
    "   * Smaller standard error\n",
    "   * Smaller sample size\n",
    "   * Higher variance\n",
    "   \n",
    "   **Answer:** \n",
    "   "
   ]
  },
  {
   "cell_type": "markdown",
   "metadata": {},
   "source": [
    "---\n",
    "\n",
    "### Chi-square tests"
   ]
  },
  {
   "cell_type": "markdown",
   "metadata": {},
   "source": [
    "Chi-Square tests are used when the data are frequencies, rather than numerical score/price.\n",
    "\n",
    "The following two tests make use of chi-square statistic\n",
    "\n",
    "1. chi-square test for goodness of fit\n",
    "2. chi-square test for independence\n",
    "\n",
    "Chi-square test is a non-parametric test. They do not require assumptions about population parameters and they do not test hypotheses about population parameters."
   ]
  },
  {
   "cell_type": "markdown",
   "metadata": {},
   "source": [
    "<div class=\"alert alert-block alert-info\">\n",
    "📺 WATCH AT HOME\n",
    "<br>\n",
    "\n",
    "[Pearson's chi square test (goodness of fit)](https://www.khanacademy.org/math/statistics-probability/inference-categorical-data-chi-square-tests/chi-square-goodness-of-fit-tests/v/pearson-s-chi-square-test-goodness-of-fit)\n",
    "<br><br>\n",
    "[How to calculate Chi Square Test for Independence](https://www.youtube.com/watch?v=xEiQn6sGM20)\n",
    "\n",
    "</div>"
   ]
  },
  {
   "cell_type": "markdown",
   "metadata": {},
   "source": [
    "<h2> Chi-Square test for goodness fit </h2>"
   ]
  },
  {
   "cell_type": "markdown",
   "metadata": {},
   "source": [
    "$$ \\chi^2 = \\sum (O - E)^2/E $$\n",
    "\n",
    "* O is observed frequency\n",
    "* E is expected frequency\n",
    "* $ \\chi $ is the chi-square statistic"
   ]
  },
  {
   "cell_type": "markdown",
   "metadata": {},
   "source": [
    "Let's assume the proportion of people who bought High, Medium and Low quality weed in Jan-2014 as the expected proportion. Find if proportion of people who bought weed in Jan 2015 conformed to the norm"
   ]
  },
  {
   "cell_type": "code",
   "execution_count": 71,
   "metadata": {},
   "outputs": [],
   "source": [
    "weed_jan2014 = weed_pd[(weed_pd.year==2014) & (weed_pd.month==1)][[\"HighQN\", \"MedQN\", \"LowQN\"]]\n",
    "weed_jan2015 = weed_pd[(weed_pd.year==2015) & (weed_pd.month==1)][[\"HighQN\", \"MedQN\", \"LowQN\"]]"
   ]
  },
  {
   "cell_type": "code",
   "execution_count": 72,
   "metadata": {},
   "outputs": [],
   "source": [
    "Expected = np.array(weed_jan2014.apply(sum, axis=0))\n",
    "Observed = np.array(weed_jan2015.apply(sum, axis=0))"
   ]
  },
  {
   "cell_type": "code",
   "execution_count": 73,
   "metadata": {},
   "outputs": [
    {
     "name": "stdout",
     "output_type": "stream",
     "text": [
      "Expected: [2918004 2644757  263958] \n",
      " Observed: [4057716 4035049  358088]\n"
     ]
    }
   ],
   "source": [
    "print(\"Expected:\", Expected, \"\\n\" , \"Observed:\", Observed)"
   ]
  },
  {
   "cell_type": "code",
   "execution_count": 74,
   "metadata": {},
   "outputs": [
    {
     "name": "stdout",
     "output_type": "stream",
     "text": [
      "Expected: [0.5007971  0.45390159 0.04530131] \n",
      " Observed: [0.48015461 0.47747239 0.042373  ]\n"
     ]
    }
   ],
   "source": [
    "print(\"Expected:\", Expected/np.sum(Expected.astype(float)), \"\\n\" , \"Observed:\", Observed/np.sum(Observed.astype(float)))"
   ]
  },
  {
   "cell_type": "code",
   "execution_count": 75,
   "metadata": {},
   "outputs": [
    {
     "data": {
      "text/plain": [
       "Power_divergenceResult(statistic=1209562.2775169075, pvalue=0.0)"
      ]
     },
     "execution_count": 75,
     "metadata": {},
     "output_type": "execute_result"
    }
   ],
   "source": [
    "stats.chisquare(Observed, Expected)"
   ]
  },
  {
   "cell_type": "markdown",
   "metadata": {},
   "source": [
    "*Conclusion* : We reject null hypothesis. The proportions in Jan 2015 is **significantly** different than what was expected."
   ]
  },
  {
   "cell_type": "markdown",
   "metadata": {},
   "source": [
    "<div class=\"alert alert-block alert-success\">\n",
    "⚠️TASK 11\n",
    "<br>\n",
    "\n",
    "Check the same statistic for the proportion of people who bought High quality weed in Jan-2014 as the expected proportion, but for California only.\n",
    "\n",
    "</div>"
   ]
  },
  {
   "cell_type": "code",
   "execution_count": null,
   "metadata": {},
   "outputs": [],
   "source": []
  },
  {
   "cell_type": "code",
   "execution_count": null,
   "metadata": {},
   "outputs": [],
   "source": []
  },
  {
   "cell_type": "code",
   "execution_count": null,
   "metadata": {},
   "outputs": [],
   "source": []
  }
 ],
 "metadata": {
  "kernelspec": {
   "display_name": "Python 3",
   "language": "python",
   "name": "python3"
  },
  "language_info": {
   "codemirror_mode": {
    "name": "ipython",
    "version": 3
   },
   "file_extension": ".py",
   "mimetype": "text/x-python",
   "name": "python",
   "nbconvert_exporter": "python",
   "pygments_lexer": "ipython3",
   "version": "3.8.3"
  }
 },
 "nbformat": 4,
 "nbformat_minor": 2
}
